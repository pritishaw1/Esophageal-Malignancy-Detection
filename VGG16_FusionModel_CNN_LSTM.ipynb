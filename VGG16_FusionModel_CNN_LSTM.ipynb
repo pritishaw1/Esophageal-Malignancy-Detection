{
  "nbformat": 4,
  "nbformat_minor": 0,
  "metadata": {
    "colab": {
      "provenance": []
    },
    "kernelspec": {
      "name": "python3",
      "display_name": "Python 3"
    },
    "language_info": {
      "name": "python"
    },
    "accelerator": "GPU",
    "gpuClass": "standard"
  },
  "cells": [
    {
      "cell_type": "code",
      "execution_count": 1,
      "metadata": {
        "id": "kw5sao_kWGwg"
      },
      "outputs": [],
      "source": [
        "from google.colab import drive"
      ]
    },
    {
      "cell_type": "code",
      "source": [
        "drive.mount('/content/drive')"
      ],
      "metadata": {
        "colab": {
          "base_uri": "https://localhost:8080/"
        },
        "id": "fwwmK2JWWHdN",
        "outputId": "80fa0c7f-23fe-4ced-d8b9-e21d795512cb"
      },
      "execution_count": 3,
      "outputs": [
        {
          "output_type": "stream",
          "name": "stdout",
          "text": [
            "Mounted at /content/drive\n"
          ]
        }
      ]
    },
    {
      "cell_type": "code",
      "source": [
        "root_path = '/content/drive/MyDrive/Kvasir'"
      ],
      "metadata": {
        "id": "bUYcv39IWSv3"
      },
      "execution_count": 4,
      "outputs": []
    },
    {
      "cell_type": "code",
      "source": [
        "import numpy as np\n",
        "import matplotlib.pyplot as plt\n",
        "import keras\n",
        "from keras.layers import *\n",
        "from keras.models import *\n",
        "from keras.preprocessing import image\n",
        "import os\n",
        "from keras.models import Model\n",
        "from keras.preprocessing.image import ImageDataGenerator\n",
        "from keras.callbacks import ModelCheckpoint, EarlyStopping\n",
        "from keras.layers import BatchNormalization\n",
        "from keras.layers import Dense, Dropout, Flatten\n",
        "from pathlib import Path\n",
        "from keras.applications.vgg16 import VGG16, preprocess_input"
      ],
      "metadata": {
        "id": "lOvxtIvwWa80"
      },
      "execution_count": 5,
      "outputs": []
    },
    {
      "cell_type": "code",
      "source": [
        "#Defining paths\n",
        "TRAIN_PATH = \"/content/drive/MyDrive/Kvasir/Train\"\n",
        "TEST_PATH = \"/content/drive/MyDrive/Kvasir/Test\""
      ],
      "metadata": {
        "id": "TKtMzcG4WdAx"
      },
      "execution_count": 6,
      "outputs": []
    },
    {
      "cell_type": "code",
      "source": [
        "BATCH_SIZE = 64\n",
        "\n",
        "train_datagen = image.ImageDataGenerator(preprocessing_function=preprocess_input, rotation_range=40, zoom_range=0.2, width_shift_range=0.2, height_shift_range=0.2, shear_range=0.2, horizontal_flip=True, fill_mode=\"nearest\", validation_split=0.1)\n",
        "\n",
        "test_datagen = ImageDataGenerator(preprocessing_function=preprocess_input)"
      ],
      "metadata": {
        "id": "Cz_7gckyWivO"
      },
      "execution_count": 7,
      "outputs": []
    },
    {
      "cell_type": "code",
      "source": [
        "train_generator = train_datagen.flow_from_directory(TRAIN_PATH,\n",
        "                                               target_size=(224, 224),\n",
        "                                               class_mode='categorical',\n",
        "                                               subset='training',\n",
        "                                               batch_size=BATCH_SIZE, \n",
        "                                               shuffle=True,\n",
        "                                               seed=42)\n",
        "\n",
        "validation_generator = train_datagen.flow_from_directory(TRAIN_PATH,\n",
        "                                               target_size=(224, 224),\n",
        "                                               class_mode='categorical',\n",
        "                                               subset='validation',\n",
        "                                               batch_size=BATCH_SIZE,\n",
        "                                               shuffle=True,\n",
        "                                               seed=42)\n",
        "\n",
        "test_generator = test_datagen.flow_from_directory(TEST_PATH,\n",
        "                                             target_size=(224, 224),\n",
        "                                             class_mode=None,\n",
        "                                             batch_size=1,\n",
        "                                             shuffle=False,\n",
        "                                             seed=42)"
      ],
      "metadata": {
        "colab": {
          "base_uri": "https://localhost:8080/"
        },
        "id": "FzD7kq9VWlBH",
        "outputId": "bbb7c51d-44b0-4744-f276-fc186d007c14"
      },
      "execution_count": 8,
      "outputs": [
        {
          "output_type": "stream",
          "name": "stdout",
          "text": [
            "Found 6480 images belonging to 8 classes.\n",
            "Found 720 images belonging to 8 classes.\n",
            "Found 800 images belonging to 8 classes.\n"
          ]
        }
      ]
    },
    {
      "cell_type": "code",
      "source": [
        "from tensorflow.keras.layers import Flatten,Conv2D,MaxPooling2D,LSTM,Dropout,TimeDistributed"
      ],
      "metadata": {
        "id": "NaJZbd67Wn1B"
      },
      "execution_count": 9,
      "outputs": []
    },
    {
      "cell_type": "code",
      "source": [
        "from keras.models import Model\n",
        "from keras.layers import Input"
      ],
      "metadata": {
        "id": "WReb9gWDWs9u"
      },
      "execution_count": 10,
      "outputs": []
    },
    {
      "cell_type": "code",
      "source": [
        "def create_model():\n",
        "    \n",
        "    # Pretrained convolutional layers are loaded using the Imagenet weights.\n",
        "    # Include_top is set to False, in order to exclude the model's fully-connected layers.\n",
        "\n",
        "    #target = keras.layers.Reshape(target_shape = (-1 ,224 , 224, 3), input_shape=(224,224,3)\n",
        "\n",
        "    pre_trained_model = VGG16(input_shape=(224,224,3), include_top = False, weights = 'imagenet')\n",
        "\n",
        "    for layer in pre_trained_model.layers[:-10]:\n",
        "            layer.trainable = False\n",
        "    for layer in pre_trained_model.layers[-3:]:\n",
        "            layer.trainable = True\n",
        "    \n",
        "    #keras.layers.Reshape(target_shape = (-1 ,224 , 224, 3), input_shape=(224,224,3)\n",
        "    x = keras.layers.Reshape(target_shape = (-1,224,224,3))(pre_trained_model.input)\n",
        "    cnn_model = TimeDistributed(pre_trained_model)(x)\n",
        "    cnn_model = TimeDistributed(keras.layers.Flatten())(cnn_model)\n",
        "    cnn_model = TimeDistributed(Dense(1024,activation='relu'))(cnn_model)\n",
        "    cnn_model = TimeDistributed(Dropout(0.5))(cnn_model)\n",
        "    cnn_model = TimeDistributed(keras.layers.BatchNormalization())(cnn_model)\n",
        "    #LSTM\n",
        "    top_model = LSTM(200, activation='tanh', dropout=0.2, return_sequences=True)(cnn_model)\n",
        "    top_model = LSTM(100, activation='tanh', dropout=0.2, return_sequences=True)(top_model)\n",
        "    top_model = LSTM(50, activation='tanh', dropout=0.2, return_sequences=False)(top_model)\n",
        "\n",
        "    top_model = Dense(128,activation='relu')(top_model)\n",
        "    top_model = Dropout(0.5)(top_model)\n",
        "    top_model = keras.layers.BatchNormalization()(top_model)\n",
        "    top_model = Dense(64,activation='relu')(top_model)\n",
        "    top_model = Dropout(0.5)(top_model)\n",
        "    top_model = keras.layers.BatchNormalization()(top_model)\n",
        "    top_model = Dense(32,activation='relu')(top_model)\n",
        "    top_model = Dropout(0.5)(top_model)\n",
        "    top_model = keras.layers.BatchNormalization()(top_model)\n",
        "    output_layer = Dense(8, activation='softmax')(top_model)\n",
        "    \n",
        "    # Group the convolutional base and new fully-connected layers into a Model object.\n",
        "    #model = Model([target], output_layer)\n",
        "    model = Model(inputs=pre_trained_model.input, outputs=output_layer)\n",
        "\n",
        "    # Compiles the model for training.\n",
        "    model.compile(optimizer=keras.optimizers.RMSprop(learning_rate = 1e-4, decay=1e-4/30), \n",
        "                  loss='categorical_crossentropy',\n",
        "                  metrics=['accuracy'])\n",
        "    \n",
        "    return model"
      ],
      "metadata": {
        "id": "Ke7HEO0mWtme"
      },
      "execution_count": 11,
      "outputs": []
    },
    {
      "cell_type": "code",
      "source": [
        "VGG16_model = create_model()"
      ],
      "metadata": {
        "colab": {
          "base_uri": "https://localhost:8080/"
        },
        "id": "2cZTdmooWwPl",
        "outputId": "df9cd051-e3f6-4349-f76f-ea6a4d2149ab"
      },
      "execution_count": 12,
      "outputs": [
        {
          "output_type": "stream",
          "name": "stdout",
          "text": [
            "Downloading data from https://storage.googleapis.com/tensorflow/keras-applications/vgg16/vgg16_weights_tf_dim_ordering_tf_kernels_notop.h5\n",
            "58889256/58889256 [==============================] - 3s 0us/step\n"
          ]
        }
      ]
    },
    {
      "cell_type": "code",
      "source": [
        "VGG16_model.summary()"
      ],
      "metadata": {
        "colab": {
          "base_uri": "https://localhost:8080/"
        },
        "id": "TPiWBf3_Wzan",
        "outputId": "4fb839ad-f03d-439c-ed0c-6c60202b9ed7"
      },
      "execution_count": 13,
      "outputs": [
        {
          "output_type": "stream",
          "name": "stdout",
          "text": [
            "Model: \"model\"\n",
            "_________________________________________________________________\n",
            " Layer (type)                Output Shape              Param #   \n",
            "=================================================================\n",
            " input_1 (InputLayer)        [(None, 224, 224, 3)]     0         \n",
            "                                                                 \n",
            " reshape (Reshape)           (None, 1, 224, 224, 3)    0         \n",
            "                                                                 \n",
            " time_distributed (TimeDistr  (None, 1, 7, 7, 512)     14714688  \n",
            " ibuted)                                                         \n",
            "                                                                 \n",
            " time_distributed_1 (TimeDis  (None, 1, 25088)         0         \n",
            " tributed)                                                       \n",
            "                                                                 \n",
            " time_distributed_2 (TimeDis  (None, 1, 1024)          25691136  \n",
            " tributed)                                                       \n",
            "                                                                 \n",
            " time_distributed_3 (TimeDis  (None, 1, 1024)          0         \n",
            " tributed)                                                       \n",
            "                                                                 \n",
            " time_distributed_4 (TimeDis  (None, 1, 1024)          4096      \n",
            " tributed)                                                       \n",
            "                                                                 \n",
            " lstm (LSTM)                 (None, 1, 200)            980000    \n",
            "                                                                 \n",
            " lstm_1 (LSTM)               (None, 1, 100)            120400    \n",
            "                                                                 \n",
            " lstm_2 (LSTM)               (None, 50)                30200     \n",
            "                                                                 \n",
            " dense_1 (Dense)             (None, 128)               6528      \n",
            "                                                                 \n",
            " dropout_1 (Dropout)         (None, 128)               0         \n",
            "                                                                 \n",
            " batch_normalization_1 (Batc  (None, 128)              512       \n",
            " hNormalization)                                                 \n",
            "                                                                 \n",
            " dense_2 (Dense)             (None, 64)                8256      \n",
            "                                                                 \n",
            " dropout_2 (Dropout)         (None, 64)                0         \n",
            "                                                                 \n",
            " batch_normalization_2 (Batc  (None, 64)               256       \n",
            " hNormalization)                                                 \n",
            "                                                                 \n",
            " dense_3 (Dense)             (None, 32)                2080      \n",
            "                                                                 \n",
            " dropout_3 (Dropout)         (None, 32)                0         \n",
            "                                                                 \n",
            " batch_normalization_3 (Batc  (None, 32)               128       \n",
            " hNormalization)                                                 \n",
            "                                                                 \n",
            " dense_4 (Dense)             (None, 8)                 264       \n",
            "                                                                 \n",
            "=================================================================\n",
            "Total params: 41,558,544\n",
            "Trainable params: 40,410,640\n",
            "Non-trainable params: 1,147,904\n",
            "_________________________________________________________________\n"
          ]
        }
      ]
    },
    {
      "cell_type": "code",
      "source": [
        "# ModelCheckpoint callback - save best weights\n",
        "tl_checkpoint_1 = ModelCheckpoint(filepath='tl_model_v1.weights.best.hdf5',\n",
        "                                  save_best_only=True,\n",
        "                                  verbose=1)\n",
        "\n",
        "# EarlyStopping\n",
        "early_stop = EarlyStopping(monitor='val_loss',\n",
        "                           patience=10,\n",
        "                           restore_best_weights=True,\n",
        "                           mode='min')\n",
        "#CNN - Spatial features\n",
        "#LSTM - Sequential information"
      ],
      "metadata": {
        "id": "6RS0_88RW2Ch"
      },
      "execution_count": 14,
      "outputs": []
    },
    {
      "cell_type": "code",
      "source": [
        "VGG16_history = VGG16_model.fit(train_generator,\n",
        "                            batch_size=BATCH_SIZE,\n",
        "                            epochs=30,\n",
        "                            validation_data=validation_generator,\n",
        "                            callbacks=[tl_checkpoint_1, early_stop],\n",
        "                            verbose=1)"
      ],
      "metadata": {
        "colab": {
          "base_uri": "https://localhost:8080/"
        },
        "id": "TGe_zyStW7Vl",
        "outputId": "1db1ae6b-cab6-4197-fe73-c33e90854f1c"
      },
      "execution_count": 15,
      "outputs": [
        {
          "output_type": "stream",
          "name": "stdout",
          "text": [
            "Epoch 1/30\n",
            "102/102 [==============================] - ETA: 0s - loss: 2.6311 - accuracy: 0.1318 \n",
            "Epoch 1: val_loss improved from inf to 2.11315, saving model to tl_model_v1.weights.best.hdf5\n",
            "102/102 [==============================] - 5209s 51s/step - loss: 2.6311 - accuracy: 0.1318 - val_loss: 2.1132 - val_accuracy: 0.1250\n",
            "Epoch 2/30\n",
            "102/102 [==============================] - ETA: 0s - loss: 2.4907 - accuracy: 0.1472\n",
            "Epoch 2: val_loss did not improve from 2.11315\n",
            "102/102 [==============================] - 226s 2s/step - loss: 2.4907 - accuracy: 0.1472 - val_loss: 2.1185 - val_accuracy: 0.1250\n",
            "Epoch 3/30\n",
            "102/102 [==============================] - ETA: 0s - loss: 2.2735 - accuracy: 0.1767\n",
            "Epoch 3: val_loss improved from 2.11315 to 2.08156, saving model to tl_model_v1.weights.best.hdf5\n",
            "102/102 [==============================] - 220s 2s/step - loss: 2.2735 - accuracy: 0.1767 - val_loss: 2.0816 - val_accuracy: 0.1278\n",
            "Epoch 4/30\n",
            "102/102 [==============================] - ETA: 0s - loss: 2.1377 - accuracy: 0.2046\n",
            "Epoch 4: val_loss did not improve from 2.08156\n",
            "102/102 [==============================] - 217s 2s/step - loss: 2.1377 - accuracy: 0.2046 - val_loss: 2.0967 - val_accuracy: 0.1417\n",
            "Epoch 5/30\n",
            "102/102 [==============================] - ETA: 0s - loss: 2.0811 - accuracy: 0.2228\n",
            "Epoch 5: val_loss improved from 2.08156 to 1.91429, saving model to tl_model_v1.weights.best.hdf5\n",
            "102/102 [==============================] - 221s 2s/step - loss: 2.0811 - accuracy: 0.2228 - val_loss: 1.9143 - val_accuracy: 0.2125\n",
            "Epoch 6/30\n",
            "102/102 [==============================] - ETA: 0s - loss: 1.9965 - accuracy: 0.2372\n",
            "Epoch 6: val_loss did not improve from 1.91429\n",
            "102/102 [==============================] - 220s 2s/step - loss: 1.9965 - accuracy: 0.2372 - val_loss: 2.1352 - val_accuracy: 0.1431\n",
            "Epoch 7/30\n",
            "102/102 [==============================] - ETA: 0s - loss: 1.8958 - accuracy: 0.2588\n",
            "Epoch 7: val_loss improved from 1.91429 to 1.82623, saving model to tl_model_v1.weights.best.hdf5\n",
            "102/102 [==============================] - 223s 2s/step - loss: 1.8958 - accuracy: 0.2588 - val_loss: 1.8262 - val_accuracy: 0.1847\n",
            "Epoch 8/30\n",
            "102/102 [==============================] - ETA: 0s - loss: 1.7796 - accuracy: 0.2909\n",
            "Epoch 8: val_loss improved from 1.82623 to 1.33135, saving model to tl_model_v1.weights.best.hdf5\n",
            "102/102 [==============================] - 223s 2s/step - loss: 1.7796 - accuracy: 0.2909 - val_loss: 1.3313 - val_accuracy: 0.3931\n",
            "Epoch 9/30\n",
            "102/102 [==============================] - ETA: 0s - loss: 1.6780 - accuracy: 0.3248\n",
            "Epoch 9: val_loss improved from 1.33135 to 1.31857, saving model to tl_model_v1.weights.best.hdf5\n",
            "102/102 [==============================] - 222s 2s/step - loss: 1.6780 - accuracy: 0.3248 - val_loss: 1.3186 - val_accuracy: 0.3667\n",
            "Epoch 10/30\n",
            "102/102 [==============================] - ETA: 0s - loss: 1.6187 - accuracy: 0.3230\n",
            "Epoch 10: val_loss improved from 1.31857 to 1.27064, saving model to tl_model_v1.weights.best.hdf5\n",
            "102/102 [==============================] - 221s 2s/step - loss: 1.6187 - accuracy: 0.3230 - val_loss: 1.2706 - val_accuracy: 0.3806\n",
            "Epoch 11/30\n",
            "102/102 [==============================] - ETA: 0s - loss: 1.5516 - accuracy: 0.3580\n",
            "Epoch 11: val_loss improved from 1.27064 to 1.18576, saving model to tl_model_v1.weights.best.hdf5\n",
            "102/102 [==============================] - 222s 2s/step - loss: 1.5516 - accuracy: 0.3580 - val_loss: 1.1858 - val_accuracy: 0.4319\n",
            "Epoch 12/30\n",
            "102/102 [==============================] - ETA: 0s - loss: 1.4897 - accuracy: 0.3731\n",
            "Epoch 12: val_loss improved from 1.18576 to 1.09052, saving model to tl_model_v1.weights.best.hdf5\n",
            "102/102 [==============================] - 223s 2s/step - loss: 1.4897 - accuracy: 0.3731 - val_loss: 1.0905 - val_accuracy: 0.5208\n",
            "Epoch 13/30\n",
            "102/102 [==============================] - ETA: 0s - loss: 1.4452 - accuracy: 0.3873\n",
            "Epoch 13: val_loss did not improve from 1.09052\n",
            "102/102 [==============================] - 221s 2s/step - loss: 1.4452 - accuracy: 0.3873 - val_loss: 1.1264 - val_accuracy: 0.5319\n",
            "Epoch 14/30\n",
            "102/102 [==============================] - ETA: 0s - loss: 1.3992 - accuracy: 0.4056\n",
            "Epoch 14: val_loss did not improve from 1.09052\n",
            "102/102 [==============================] - 220s 2s/step - loss: 1.3992 - accuracy: 0.4056 - val_loss: 1.1288 - val_accuracy: 0.4833\n",
            "Epoch 15/30\n",
            "102/102 [==============================] - ETA: 0s - loss: 1.3587 - accuracy: 0.4142\n",
            "Epoch 15: val_loss improved from 1.09052 to 1.04773, saving model to tl_model_v1.weights.best.hdf5\n",
            "102/102 [==============================] - 228s 2s/step - loss: 1.3587 - accuracy: 0.4142 - val_loss: 1.0477 - val_accuracy: 0.5181\n",
            "Epoch 16/30\n",
            "102/102 [==============================] - ETA: 0s - loss: 1.3060 - accuracy: 0.4326\n",
            "Epoch 16: val_loss improved from 1.04773 to 1.00422, saving model to tl_model_v1.weights.best.hdf5\n",
            "102/102 [==============================] - 226s 2s/step - loss: 1.3060 - accuracy: 0.4326 - val_loss: 1.0042 - val_accuracy: 0.5500\n",
            "Epoch 17/30\n",
            "102/102 [==============================] - ETA: 0s - loss: 1.3016 - accuracy: 0.4329\n",
            "Epoch 17: val_loss did not improve from 1.00422\n",
            "102/102 [==============================] - 225s 2s/step - loss: 1.3016 - accuracy: 0.4329 - val_loss: 1.0469 - val_accuracy: 0.5111\n",
            "Epoch 18/30\n",
            "102/102 [==============================] - ETA: 0s - loss: 1.2545 - accuracy: 0.4481\n",
            "Epoch 18: val_loss improved from 1.00422 to 0.92181, saving model to tl_model_v1.weights.best.hdf5\n",
            "102/102 [==============================] - 225s 2s/step - loss: 1.2545 - accuracy: 0.4481 - val_loss: 0.9218 - val_accuracy: 0.5708\n",
            "Epoch 19/30\n",
            "102/102 [==============================] - ETA: 0s - loss: 1.2217 - accuracy: 0.4610\n",
            "Epoch 19: val_loss did not improve from 0.92181\n",
            "102/102 [==============================] - 226s 2s/step - loss: 1.2217 - accuracy: 0.4610 - val_loss: 1.0091 - val_accuracy: 0.5542\n",
            "Epoch 20/30\n",
            "102/102 [==============================] - ETA: 0s - loss: 1.2159 - accuracy: 0.4523\n",
            "Epoch 20: val_loss did not improve from 0.92181\n",
            "102/102 [==============================] - 225s 2s/step - loss: 1.2159 - accuracy: 0.4523 - val_loss: 0.9340 - val_accuracy: 0.5931\n",
            "Epoch 21/30\n",
            "102/102 [==============================] - ETA: 0s - loss: 1.1673 - accuracy: 0.4724\n",
            "Epoch 21: val_loss did not improve from 0.92181\n",
            "102/102 [==============================] - 224s 2s/step - loss: 1.1673 - accuracy: 0.4724 - val_loss: 0.9846 - val_accuracy: 0.5264\n",
            "Epoch 22/30\n",
            "102/102 [==============================] - ETA: 0s - loss: 1.1534 - accuracy: 0.4827\n",
            "Epoch 22: val_loss improved from 0.92181 to 0.83217, saving model to tl_model_v1.weights.best.hdf5\n",
            "102/102 [==============================] - 223s 2s/step - loss: 1.1534 - accuracy: 0.4827 - val_loss: 0.8322 - val_accuracy: 0.5903\n",
            "Epoch 23/30\n",
            "102/102 [==============================] - ETA: 0s - loss: 1.1156 - accuracy: 0.4974\n",
            "Epoch 23: val_loss did not improve from 0.83217\n",
            "102/102 [==============================] - 219s 2s/step - loss: 1.1156 - accuracy: 0.4974 - val_loss: 0.9876 - val_accuracy: 0.5417\n",
            "Epoch 24/30\n",
            "102/102 [==============================] - ETA: 0s - loss: 1.0984 - accuracy: 0.5177\n",
            "Epoch 24: val_loss improved from 0.83217 to 0.81275, saving model to tl_model_v1.weights.best.hdf5\n",
            "102/102 [==============================] - 221s 2s/step - loss: 1.0984 - accuracy: 0.5177 - val_loss: 0.8128 - val_accuracy: 0.6403\n",
            "Epoch 25/30\n",
            "102/102 [==============================] - ETA: 0s - loss: 1.0675 - accuracy: 0.5205\n",
            "Epoch 25: val_loss did not improve from 0.81275\n",
            "102/102 [==============================] - 218s 2s/step - loss: 1.0675 - accuracy: 0.5205 - val_loss: 0.9272 - val_accuracy: 0.5611\n",
            "Epoch 26/30\n",
            "102/102 [==============================] - ETA: 0s - loss: 1.0523 - accuracy: 0.5313\n",
            "Epoch 26: val_loss did not improve from 0.81275\n",
            "102/102 [==============================] - 219s 2s/step - loss: 1.0523 - accuracy: 0.5313 - val_loss: 0.9842 - val_accuracy: 0.5111\n",
            "Epoch 27/30\n",
            "102/102 [==============================] - ETA: 0s - loss: 1.0326 - accuracy: 0.5463\n",
            "Epoch 27: val_loss did not improve from 0.81275\n",
            "102/102 [==============================] - 219s 2s/step - loss: 1.0326 - accuracy: 0.5463 - val_loss: 0.8262 - val_accuracy: 0.6403\n",
            "Epoch 28/30\n",
            "102/102 [==============================] - ETA: 0s - loss: 1.0198 - accuracy: 0.5526\n",
            "Epoch 28: val_loss did not improve from 0.81275\n",
            "102/102 [==============================] - 218s 2s/step - loss: 1.0198 - accuracy: 0.5526 - val_loss: 0.9594 - val_accuracy: 0.5292\n",
            "Epoch 29/30\n",
            "102/102 [==============================] - ETA: 0s - loss: 0.9903 - accuracy: 0.5634\n",
            "Epoch 29: val_loss improved from 0.81275 to 0.72834, saving model to tl_model_v1.weights.best.hdf5\n",
            "102/102 [==============================] - 219s 2s/step - loss: 0.9903 - accuracy: 0.5634 - val_loss: 0.7283 - val_accuracy: 0.6625\n",
            "Epoch 30/30\n",
            "102/102 [==============================] - ETA: 0s - loss: 0.9809 - accuracy: 0.5603\n",
            "Epoch 30: val_loss did not improve from 0.72834\n",
            "102/102 [==============================] - 218s 2s/step - loss: 0.9809 - accuracy: 0.5603 - val_loss: 0.7501 - val_accuracy: 0.6556\n"
          ]
        }
      ]
    },
    {
      "cell_type": "code",
      "source": [
        "# Generate predictions\n",
        "VGG16_model.load_weights('tl_model_v1.weights.best.hdf5') # initialize the best trained weights"
      ],
      "metadata": {
        "id": "VxwMjC6zW97m"
      },
      "execution_count": 16,
      "outputs": []
    },
    {
      "cell_type": "code",
      "source": [
        "true_classes = test_generator.classes\n",
        "class_indices = train_generator.class_indices\n",
        "class_indices = dict((v,k) for k,v in class_indices.items())\n",
        "\n",
        "VGG16_preds = VGG16_model.predict(test_generator)\n",
        "VGG16_pred_classes = np.argmax(VGG16_preds, axis=1)"
      ],
      "metadata": {
        "colab": {
          "base_uri": "https://localhost:8080/"
        },
        "id": "L-jl-N4yHX1A",
        "outputId": "cf3e8549-7dfd-4dce-d217-aabeace3d542"
      },
      "execution_count": 17,
      "outputs": [
        {
          "output_type": "stream",
          "name": "stdout",
          "text": [
            "800/800 [==============================] - 649s 808ms/step\n"
          ]
        }
      ]
    },
    {
      "cell_type": "code",
      "source": [
        "from sklearn.metrics import accuracy_score\n",
        "VGG16_acc = accuracy_score(true_classes, VGG16_pred_classes)\n",
        "print(\"VGG16 Model Accuracy: {:.2f}%\".format(VGG16_acc * 100))"
      ],
      "metadata": {
        "colab": {
          "base_uri": "https://localhost:8080/"
        },
        "id": "le_LjHiZHfoV",
        "outputId": "e851b5aa-5f11-4527-d109-e700459a3d5e"
      },
      "execution_count": 18,
      "outputs": [
        {
          "output_type": "stream",
          "name": "stdout",
          "text": [
            "VGG16 Model Accuracy: 67.50%\n"
          ]
        }
      ]
    },
    {
      "cell_type": "code",
      "source": [
        "labels = os.listdir(TRAIN_PATH)"
      ],
      "metadata": {
        "id": "8cDRLEziHmQH"
      },
      "execution_count": 19,
      "outputs": []
    },
    {
      "cell_type": "code",
      "source": [
        "from sklearn.metrics import classification_report, confusion_matrix\n",
        "\n",
        "print(classification_report(true_classes,VGG16_pred_classes,target_names = labels))"
      ],
      "metadata": {
        "colab": {
          "base_uri": "https://localhost:8080/"
        },
        "id": "AH5lHe9MHmR3",
        "outputId": "dbea18b4-057c-4b6c-ac21-49fe95478bc6"
      },
      "execution_count": 20,
      "outputs": [
        {
          "output_type": "stream",
          "name": "stdout",
          "text": [
            "                        precision    recall  f1-score   support\n",
            "\n",
            "         normal-z-line       0.88      0.90      0.89       100\n",
            "        normal-pylorus       0.90      0.94      0.92       100\n",
            "dyed-resection-margins       0.50      0.99      0.66       100\n",
            "          normal-cecum       0.43      0.85      0.57       100\n",
            "    ulcerative-colitis       0.97      1.00      0.99       100\n",
            "                polyps       0.00      0.00      0.00       100\n",
            "           esophagitis       0.76      0.71      0.74       100\n",
            "    dyed-lifted-polyps       1.00      0.01      0.02       100\n",
            "\n",
            "              accuracy                           0.68       800\n",
            "             macro avg       0.68      0.67      0.60       800\n",
            "          weighted avg       0.68      0.68      0.60       800\n",
            "\n"
          ]
        },
        {
          "output_type": "stream",
          "name": "stderr",
          "text": [
            "/usr/local/lib/python3.8/dist-packages/sklearn/metrics/_classification.py:1318: UndefinedMetricWarning: Precision and F-score are ill-defined and being set to 0.0 in labels with no predicted samples. Use `zero_division` parameter to control this behavior.\n",
            "  _warn_prf(average, modifier, msg_start, len(result))\n",
            "/usr/local/lib/python3.8/dist-packages/sklearn/metrics/_classification.py:1318: UndefinedMetricWarning: Precision and F-score are ill-defined and being set to 0.0 in labels with no predicted samples. Use `zero_division` parameter to control this behavior.\n",
            "  _warn_prf(average, modifier, msg_start, len(result))\n",
            "/usr/local/lib/python3.8/dist-packages/sklearn/metrics/_classification.py:1318: UndefinedMetricWarning: Precision and F-score are ill-defined and being set to 0.0 in labels with no predicted samples. Use `zero_division` parameter to control this behavior.\n",
            "  _warn_prf(average, modifier, msg_start, len(result))\n"
          ]
        }
      ]
    },
    {
      "cell_type": "code",
      "source": [
        "from sklearn.metrics import precision_score\n",
        "precision_score(true_classes, VGG16_pred_classes, average='micro')"
      ],
      "metadata": {
        "colab": {
          "base_uri": "https://localhost:8080/"
        },
        "id": "owI9nO9jHmVr",
        "outputId": "41668c08-2055-4118-d120-47ac1ac60576"
      },
      "execution_count": 21,
      "outputs": [
        {
          "output_type": "execute_result",
          "data": {
            "text/plain": [
              "0.675"
            ]
          },
          "metadata": {},
          "execution_count": 21
        }
      ]
    },
    {
      "cell_type": "code",
      "source": [
        "from sklearn.metrics import recall_score\n",
        "recall_score(true_classes, VGG16_pred_classes, average='micro')"
      ],
      "metadata": {
        "colab": {
          "base_uri": "https://localhost:8080/"
        },
        "id": "W8IIyXhvHvd5",
        "outputId": "67cda07e-d7c2-4435-edf5-94572982e2fd"
      },
      "execution_count": 22,
      "outputs": [
        {
          "output_type": "execute_result",
          "data": {
            "text/plain": [
              "0.675"
            ]
          },
          "metadata": {},
          "execution_count": 22
        }
      ]
    },
    {
      "cell_type": "code",
      "source": [
        "import seaborn as sns\n",
        "from sklearn.metrics import confusion_matrix\n",
        "\n",
        "# Get the names of the ten classes\n",
        "class_names = test_generator.class_indices.keys()\n",
        "\n",
        "def plot_heatmap(y_true, y_pred, class_names, ax, title):\n",
        "    cm = confusion_matrix(y_true, y_pred)\n",
        "    sns.heatmap(\n",
        "        cm, \n",
        "        annot=True, \n",
        "        square=True, \n",
        "        xticklabels=class_names, \n",
        "        yticklabels=class_names,\n",
        "        fmt='d', \n",
        "        cmap=plt.cm.Blues,\n",
        "        cbar=False,\n",
        "        ax=ax\n",
        "    )\n",
        "    ax.set_title(title, fontsize=16)\n",
        "    ax.set_xticklabels(ax.get_xticklabels(), rotation=45, ha=\"right\")\n",
        "    ax.set_ylabel('True Label', fontsize=12)\n",
        "    ax.set_xlabel('Predicted Label', fontsize=12)\n",
        "\n",
        "fig, (ax1) = plt.subplots(1,figsize=(20, 10))\n",
        "    \n",
        "plot_heatmap(true_classes, VGG16_pred_classes, class_names, ax1, title=\"Fusion Model VGG16\")    \n",
        "\n",
        "fig.suptitle(\"Confusion Matrix Model Comparison\", fontsize=24)\n",
        "fig.tight_layout()\n",
        "fig.subplots_adjust(top=1.25)\n",
        "plt.show()"
      ],
      "metadata": {
        "colab": {
          "base_uri": "https://localhost:8080/",
          "height": 938
        },
        "id": "tbsA1zK4Hvfw",
        "outputId": "16f34885-8295-4856-809f-304701743360"
      },
      "execution_count": 23,
      "outputs": [
        {
          "output_type": "display_data",
          "data": {
            "text/plain": [
              "<Figure size 1440x720 with 1 Axes>"
            ],
            "image/png": "[encoded data removed]"
          },
          "metadata": {
            "needs_background": "light"
          }
        }
      ]
    },
    {
      "cell_type": "code",
      "source": [
        "VGG16_model"
      ],
      "metadata": {
        "colab": {
          "base_uri": "https://localhost:8080/"
        },
        "id": "VATpg9BYHvi9",
        "outputId": "81e20432-1626-4c3f-be88-6e08c7b99e4f"
      },
      "execution_count": 24,
      "outputs": [
        {
          "output_type": "execute_result",
          "data": {
            "text/plain": [
              "<keras.engine.functional.Functional at 0x7f0a80262730>"
            ]
          },
          "metadata": {},
          "execution_count": 24
        }
      ]
    },
    {
      "cell_type": "code",
      "source": [
        "import matplotlib.pyplot as plt\n",
        "plt.plot(VGG16_history.history[\"accuracy\"])\n",
        "plt.plot(VGG16_history.history['val_accuracy'])\n",
        "plt.plot(VGG16_history.history['loss'])\n",
        "plt.plot(VGG16_history.history['val_loss'])\n",
        "plt.title(\"model accuracy\")\n",
        "plt.ylabel(\"Accuracy\")\n",
        "plt.xlabel(\"Epoch\")\n",
        "plt.legend([\"Accuracy\",\"Validation Accuracy\",\"loss\",\"Validation Loss\"])\n",
        "plt.show()"
      ],
      "metadata": {
        "colab": {
          "base_uri": "https://localhost:8080/",
          "height": 295
        },
        "id": "0WPtlSWPHvl6",
        "outputId": "fba06865-c633-47c8-97c5-105d254d2906"
      },
      "execution_count": 25,
      "outputs": [
        {
          "output_type": "display_data",
          "data": {
            "text/plain": [
              "<Figure size 432x288 with 1 Axes>"
            ],
            "image/png": "[encoded data removed]"
          },
          "metadata": {
            "needs_background": "light"
          }
        }
      ]
    },
    {
      "cell_type": "code",
      "source": [],
      "metadata": {
        "id": "tUv9KXjPLWoE"
      },
      "execution_count": null,
      "outputs": []
    }
  ]
}