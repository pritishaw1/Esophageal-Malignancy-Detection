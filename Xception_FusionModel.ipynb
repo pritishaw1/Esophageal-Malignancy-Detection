{
  "nbformat": 4,
  "nbformat_minor": 0,
  "metadata": {
    "colab": {
      "provenance": []
    },
    "kernelspec": {
      "name": "python3",
      "display_name": "Python 3"
    },
    "language_info": {
      "name": "python"
    },
    "accelerator": "GPU",
    "gpuClass": "standard"
  },
  "cells": [
    {
      "cell_type": "code",
      "execution_count": 1,
      "metadata": {
        "id": "xigJpNZkskIE"
      },
      "outputs": [],
      "source": [
        "from google.colab import drive"
      ]
    },
    {
      "cell_type": "code",
      "source": [
        "drive.mount('/content/drive')"
      ],
      "metadata": {
        "colab": {
          "base_uri": "https://localhost:8080/"
        },
        "id": "hXL85LD6soJd",
        "outputId": "0db8aacf-a902-4b19-f0bd-65251b2fda5c"
      },
      "execution_count": 2,
      "outputs": [
        {
          "output_type": "stream",
          "name": "stdout",
          "text": [
            "Drive already mounted at /content/drive; to attempt to forcibly remount, call drive.mount(\"/content/drive\", force_remount=True).\n"
          ]
        }
      ]
    },
    {
      "cell_type": "code",
      "source": [
        "root_path = '/content/drive/MyDrive/Kvasir'"
      ],
      "metadata": {
        "id": "q61ftm5Bs0yx"
      },
      "execution_count": 3,
      "outputs": []
    },
    {
      "cell_type": "code",
      "source": [
        "import numpy as np\n",
        "import matplotlib.pyplot as plt\n",
        "import keras\n",
        "from keras.layers import *\n",
        "from keras.models import *\n",
        "from keras.preprocessing import image\n",
        "import os\n",
        "from keras.models import Model\n",
        "from keras.preprocessing.image import ImageDataGenerator\n",
        "from keras.callbacks import ModelCheckpoint, EarlyStopping\n",
        "from keras.layers import BatchNormalization\n",
        "from keras.layers import Dense, Dropout, Flatten\n",
        "from pathlib import Path\n",
        "from keras.applications.xception import Xception, preprocess_input"
      ],
      "metadata": {
        "id": "tNPP5ybXs9LS"
      },
      "execution_count": 4,
      "outputs": []
    },
    {
      "cell_type": "code",
      "source": [
        "#Defining paths\n",
        "TRAIN_PATH = \"/content/drive/MyDrive/Kvasir/Train\"\n",
        "TEST_PATH = \"/content/drive/MyDrive/Kvasir/Test\""
      ],
      "metadata": {
        "id": "Ip7LlQeptS2U"
      },
      "execution_count": 5,
      "outputs": []
    },
    {
      "cell_type": "code",
      "source": [
        "BATCH_SIZE = 64\n",
        "\n",
        "train_datagen = image.ImageDataGenerator(preprocessing_function=preprocess_input, rotation_range=40, zoom_range=0.2, width_shift_range=0.2, height_shift_range=0.2, shear_range=0.2, horizontal_flip=True, fill_mode=\"nearest\", validation_split=0.1)\n",
        "\n",
        "test_datagen = ImageDataGenerator(preprocessing_function=preprocess_input)"
      ],
      "metadata": {
        "id": "p-dG8FcGtV8-"
      },
      "execution_count": 6,
      "outputs": []
    },
    {
      "cell_type": "code",
      "source": [
        "train_generator = train_datagen.flow_from_directory(TRAIN_PATH,\n",
        "                                               target_size=(224, 224),\n",
        "                                               class_mode='categorical',\n",
        "                                               subset='training',\n",
        "                                               batch_size=BATCH_SIZE, \n",
        "                                               shuffle=True,\n",
        "                                               seed=42)\n",
        "\n",
        "validation_generator = train_datagen.flow_from_directory(TRAIN_PATH,\n",
        "                                               target_size=(224, 224),\n",
        "                                               class_mode='categorical',\n",
        "                                               subset='validation',\n",
        "                                               batch_size=BATCH_SIZE,\n",
        "                                               shuffle=True,\n",
        "                                               seed=42)\n",
        "\n",
        "test_generator = test_datagen.flow_from_directory(TEST_PATH,\n",
        "                                             target_size=(224, 224),\n",
        "                                             class_mode=None,\n",
        "                                             batch_size=1,\n",
        "                                             shuffle=False,\n",
        "                                             seed=42)"
      ],
      "metadata": {
        "colab": {
          "base_uri": "https://localhost:8080/"
        },
        "id": "ES7_KOxOtZIf",
        "outputId": "76b5b408-2dbb-4759-9b87-9513662b90a7"
      },
      "execution_count": 7,
      "outputs": [
        {
          "output_type": "stream",
          "name": "stdout",
          "text": [
            "Found 6480 images belonging to 8 classes.\n",
            "Found 720 images belonging to 8 classes.\n",
            "Found 800 images belonging to 8 classes.\n"
          ]
        }
      ]
    },
    {
      "cell_type": "code",
      "source": [
        "from tensorflow.keras.layers import Flatten,Conv2D,MaxPooling2D,LSTM,Dropout,TimeDistributed"
      ],
      "metadata": {
        "id": "nSX5i3Vptc4C"
      },
      "execution_count": 8,
      "outputs": []
    },
    {
      "cell_type": "code",
      "source": [
        "from keras.models import Model\n",
        "from keras.layers import Input"
      ],
      "metadata": {
        "id": "uY6-fV0SthLf"
      },
      "execution_count": 9,
      "outputs": []
    },
    {
      "cell_type": "code",
      "source": [
        "def create_model():\n",
        "    \n",
        "    # Pretrained convolutional layers are loaded using the Imagenet weights.\n",
        "    # Include_top is set to False, in order to exclude the model's fully-connected layers.\n",
        "\n",
        "    #target = keras.layers.Reshape(target_shape = (-1 ,224 , 224, 3), input_shape=(224,224,3)\n",
        "\n",
        "    pre_trained_model = Xception(input_shape=(224,224,3), include_top = False, weights = 'imagenet')\n",
        "\n",
        "    for layer in pre_trained_model.layers[:-3]:\n",
        "            layer.trainable = False\n",
        "    for layer in pre_trained_model.layers[-3:]:\n",
        "            layer.trainable = True\n",
        "    \n",
        "    #keras.layers.Reshape(target_shape = (-1 ,224 , 224, 3), input_shape=(224,224,3)\n",
        "    x = keras.layers.Reshape(target_shape = (-1,224,224,3))(pre_trained_model.input)\n",
        "    cnn_model = TimeDistributed(pre_trained_model)(x)\n",
        "    cnn_model = TimeDistributed(keras.layers.Flatten())(cnn_model)\n",
        "    cnn_model = TimeDistributed(Dense(1024,activation='relu'))(cnn_model)\n",
        "    cnn_model = TimeDistributed(Dropout(0.5))(cnn_model)\n",
        "    cnn_model = TimeDistributed(keras.layers.BatchNormalization())(cnn_model)\n",
        "    #LSTM\n",
        "    top_model = LSTM(200, activation='tanh', dropout=0.2, return_sequences=True)(cnn_model)\n",
        "    top_model = LSTM(100, activation='tanh', dropout=0.2, return_sequences=True)(top_model)\n",
        "    top_model = LSTM(50, activation='tanh', dropout=0.2, return_sequences=False)(top_model)\n",
        "\n",
        "    top_model = Dense(128,activation='relu')(top_model)\n",
        "    top_model = Dropout(0.5)(top_model)\n",
        "    top_model = keras.layers.BatchNormalization()(top_model)\n",
        "    top_model = Dense(64,activation='relu')(top_model)\n",
        "    top_model = Dropout(0.5)(top_model)\n",
        "    top_model = keras.layers.BatchNormalization()(top_model)\n",
        "    top_model = Dense(32,activation='relu')(top_model)\n",
        "    top_model = Dropout(0.5)(top_model)\n",
        "    top_model = keras.layers.BatchNormalization()(top_model)\n",
        "    output_layer = Dense(8, activation='softmax')(top_model)\n",
        "    \n",
        "    # Group the convolutional base and new fully-connected layers into a Model object.\n",
        "    #model = Model([target], output_layer)\n",
        "    model = Model(inputs=pre_trained_model.input, outputs=output_layer)\n",
        "\n",
        "    # Compiles the model for training.\n",
        "    model.compile(optimizer=keras.optimizers.RMSprop(learning_rate = 1e-4, decay=1e-4/30), \n",
        "                  loss='categorical_crossentropy',\n",
        "                  metrics=['accuracy'])\n",
        "    \n",
        "    return model"
      ],
      "metadata": {
        "id": "iOfvfmT9tj4N"
      },
      "execution_count": 10,
      "outputs": []
    },
    {
      "cell_type": "code",
      "source": [
        "Xception_model = create_model()"
      ],
      "metadata": {
        "id": "HCWOwlI1ture"
      },
      "execution_count": 11,
      "outputs": []
    },
    {
      "cell_type": "code",
      "source": [
        "Xception_model.summary()"
      ],
      "metadata": {
        "id": "W8_g6q5mtyNm",
        "colab": {
          "base_uri": "https://localhost:8080/"
        },
        "outputId": "84c1be5b-1bca-42f8-9fbf-e6ea82135509"
      },
      "execution_count": 12,
      "outputs": [
        {
          "output_type": "stream",
          "name": "stdout",
          "text": [
            "Model: \"model\"\n",
            "_________________________________________________________________\n",
            " Layer (type)                Output Shape              Param #   \n",
            "=================================================================\n",
            " input_1 (InputLayer)        [(None, 224, 224, 3)]     0         \n",
            "                                                                 \n",
            " reshape (Reshape)           (None, 1, 224, 224, 3)    0         \n",
            "                                                                 \n",
            " time_distributed (TimeDistr  (None, 1, 7, 7, 2048)    20861480  \n",
            " ibuted)                                                         \n",
            "                                                                 \n",
            " time_distributed_1 (TimeDis  (None, 1, 100352)        0         \n",
            " tributed)                                                       \n",
            "                                                                 \n",
            " time_distributed_2 (TimeDis  (None, 1, 1024)          102761472 \n",
            " tributed)                                                       \n",
            "                                                                 \n",
            " time_distributed_3 (TimeDis  (None, 1, 1024)          0         \n",
            " tributed)                                                       \n",
            "                                                                 \n",
            " time_distributed_4 (TimeDis  (None, 1, 1024)          4096      \n",
            " tributed)                                                       \n",
            "                                                                 \n",
            " lstm (LSTM)                 (None, 1, 200)            980000    \n",
            "                                                                 \n",
            " lstm_1 (LSTM)               (None, 1, 100)            120400    \n",
            "                                                                 \n",
            " lstm_2 (LSTM)               (None, 50)                30200     \n",
            "                                                                 \n",
            " dense_1 (Dense)             (None, 128)               6528      \n",
            "                                                                 \n",
            " dropout_1 (Dropout)         (None, 128)               0         \n",
            "                                                                 \n",
            " batch_normalization_5 (Batc  (None, 128)              512       \n",
            " hNormalization)                                                 \n",
            "                                                                 \n",
            " dense_2 (Dense)             (None, 64)                8256      \n",
            "                                                                 \n",
            " dropout_2 (Dropout)         (None, 64)                0         \n",
            "                                                                 \n",
            " batch_normalization_6 (Batc  (None, 64)               256       \n",
            " hNormalization)                                                 \n",
            "                                                                 \n",
            " dense_3 (Dense)             (None, 32)                2080      \n",
            "                                                                 \n",
            " dropout_3 (Dropout)         (None, 32)                0         \n",
            "                                                                 \n",
            " batch_normalization_7 (Batc  (None, 32)               128       \n",
            " hNormalization)                                                 \n",
            "                                                                 \n",
            " dense_4 (Dense)             (None, 8)                 264       \n",
            "                                                                 \n",
            "=================================================================\n",
            "Total params: 124,775,672\n",
            "Trainable params: 107,075,344\n",
            "Non-trainable params: 17,700,328\n",
            "_________________________________________________________________\n"
          ]
        }
      ]
    },
    {
      "cell_type": "code",
      "source": [
        "# ModelCheckpoint callback - save best weights\n",
        "tl_checkpoint_1 = ModelCheckpoint(filepath='tl_model_v1.weights.best.hdf5',\n",
        "                                  save_best_only=True,\n",
        "                                  verbose=1)\n",
        "\n",
        "# EarlyStopping\n",
        "early_stop = EarlyStopping(monitor='val_loss',\n",
        "                           patience=10,\n",
        "                           restore_best_weights=True,\n",
        "                           mode='min')\n",
        "#CNN - Spatial features\n",
        "#LSTM - Sequential information"
      ],
      "metadata": {
        "id": "-G9oD_23uP2l"
      },
      "execution_count": 13,
      "outputs": []
    },
    {
      "cell_type": "code",
      "source": [
        "Xception_history = Xception_model.fit(train_generator,\n",
        "                            batch_size=BATCH_SIZE,\n",
        "                            epochs=30,\n",
        "                            validation_data=validation_generator,\n",
        "                            callbacks=[tl_checkpoint_1, early_stop],\n",
        "                            verbose=1)"
      ],
      "metadata": {
        "colab": {
          "base_uri": "https://localhost:8080/"
        },
        "id": "Q_2D3yXquUii",
        "outputId": "6ac4282b-f34f-4ccb-fc68-d85bcda6f26e"
      },
      "execution_count": 14,
      "outputs": [
        {
          "output_type": "stream",
          "name": "stdout",
          "text": [
            "Epoch 1/30\n",
            "102/102 [==============================] - ETA: 0s - loss: 2.4955 - accuracy: 0.1556 \n",
            "Epoch 1: val_loss improved from inf to 2.14105, saving model to tl_model_v1.weights.best.hdf5\n",
            "102/102 [==============================] - 1819s 18s/step - loss: 2.4955 - accuracy: 0.1556 - val_loss: 2.1410 - val_accuracy: 0.1250\n",
            "Epoch 2/30\n",
            "102/102 [==============================] - ETA: 0s - loss: 2.2268 - accuracy: 0.2054\n",
            "Epoch 2: val_loss improved from 2.14105 to 2.13896, saving model to tl_model_v1.weights.best.hdf5\n",
            "102/102 [==============================] - 251s 2s/step - loss: 2.2268 - accuracy: 0.2054 - val_loss: 2.1390 - val_accuracy: 0.2306\n",
            "Epoch 3/30\n",
            "102/102 [==============================] - ETA: 0s - loss: 2.0418 - accuracy: 0.2583\n",
            "Epoch 3: val_loss improved from 2.13896 to 2.03761, saving model to tl_model_v1.weights.best.hdf5\n",
            "102/102 [==============================] - 264s 3s/step - loss: 2.0418 - accuracy: 0.2583 - val_loss: 2.0376 - val_accuracy: 0.1403\n",
            "Epoch 4/30\n",
            "102/102 [==============================] - ETA: 0s - loss: 1.8854 - accuracy: 0.2965\n",
            "Epoch 4: val_loss improved from 2.03761 to 1.81099, saving model to tl_model_v1.weights.best.hdf5\n",
            "102/102 [==============================] - 245s 2s/step - loss: 1.8854 - accuracy: 0.2965 - val_loss: 1.8110 - val_accuracy: 0.2917\n",
            "Epoch 5/30\n",
            "102/102 [==============================] - ETA: 0s - loss: 1.7499 - accuracy: 0.3529\n",
            "Epoch 5: val_loss improved from 1.81099 to 1.47280, saving model to tl_model_v1.weights.best.hdf5\n",
            "102/102 [==============================] - 263s 3s/step - loss: 1.7499 - accuracy: 0.3529 - val_loss: 1.4728 - val_accuracy: 0.5847\n",
            "Epoch 6/30\n",
            "102/102 [==============================] - ETA: 0s - loss: 1.6331 - accuracy: 0.3977\n",
            "Epoch 6: val_loss improved from 1.47280 to 1.18899, saving model to tl_model_v1.weights.best.hdf5\n",
            "102/102 [==============================] - 244s 2s/step - loss: 1.6331 - accuracy: 0.3977 - val_loss: 1.1890 - val_accuracy: 0.6569\n",
            "Epoch 7/30\n",
            "102/102 [==============================] - ETA: 0s - loss: 1.5260 - accuracy: 0.4275\n",
            "Epoch 7: val_loss improved from 1.18899 to 0.95480, saving model to tl_model_v1.weights.best.hdf5\n",
            "102/102 [==============================] - 242s 2s/step - loss: 1.5260 - accuracy: 0.4275 - val_loss: 0.9548 - val_accuracy: 0.7375\n",
            "Epoch 8/30\n",
            "102/102 [==============================] - ETA: 0s - loss: 1.4410 - accuracy: 0.4735\n",
            "Epoch 8: val_loss improved from 0.95480 to 0.84634, saving model to tl_model_v1.weights.best.hdf5\n",
            "102/102 [==============================] - 240s 2s/step - loss: 1.4410 - accuracy: 0.4735 - val_loss: 0.8463 - val_accuracy: 0.7681\n",
            "Epoch 9/30\n",
            "102/102 [==============================] - ETA: 0s - loss: 1.3599 - accuracy: 0.5111\n",
            "Epoch 9: val_loss improved from 0.84634 to 0.75224, saving model to tl_model_v1.weights.best.hdf5\n",
            "102/102 [==============================] - 240s 2s/step - loss: 1.3599 - accuracy: 0.5111 - val_loss: 0.7522 - val_accuracy: 0.8000\n",
            "Epoch 10/30\n",
            "102/102 [==============================] - ETA: 0s - loss: 1.3032 - accuracy: 0.5389\n",
            "Epoch 10: val_loss improved from 0.75224 to 0.71683, saving model to tl_model_v1.weights.best.hdf5\n",
            "102/102 [==============================] - 240s 2s/step - loss: 1.3032 - accuracy: 0.5389 - val_loss: 0.7168 - val_accuracy: 0.8056\n",
            "Epoch 11/30\n",
            "102/102 [==============================] - ETA: 0s - loss: 1.2393 - accuracy: 0.5634\n",
            "Epoch 11: val_loss improved from 0.71683 to 0.69465, saving model to tl_model_v1.weights.best.hdf5\n",
            "102/102 [==============================] - 242s 2s/step - loss: 1.2393 - accuracy: 0.5634 - val_loss: 0.6946 - val_accuracy: 0.8139\n",
            "Epoch 12/30\n",
            "102/102 [==============================] - ETA: 0s - loss: 1.1968 - accuracy: 0.5832\n",
            "Epoch 12: val_loss improved from 0.69465 to 0.67217, saving model to tl_model_v1.weights.best.hdf5\n",
            "102/102 [==============================] - 242s 2s/step - loss: 1.1968 - accuracy: 0.5832 - val_loss: 0.6722 - val_accuracy: 0.8236\n",
            "Epoch 13/30\n",
            "102/102 [==============================] - ETA: 0s - loss: 1.1370 - accuracy: 0.6071\n",
            "Epoch 13: val_loss improved from 0.67217 to 0.64699, saving model to tl_model_v1.weights.best.hdf5\n",
            "102/102 [==============================] - 242s 2s/step - loss: 1.1370 - accuracy: 0.6071 - val_loss: 0.6470 - val_accuracy: 0.8056\n",
            "Epoch 14/30\n",
            "102/102 [==============================] - ETA: 0s - loss: 1.1140 - accuracy: 0.6151\n",
            "Epoch 14: val_loss improved from 0.64699 to 0.60796, saving model to tl_model_v1.weights.best.hdf5\n",
            "102/102 [==============================] - 241s 2s/step - loss: 1.1140 - accuracy: 0.6151 - val_loss: 0.6080 - val_accuracy: 0.8222\n",
            "Epoch 15/30\n",
            "102/102 [==============================] - ETA: 0s - loss: 1.0631 - accuracy: 0.6377\n",
            "Epoch 15: val_loss improved from 0.60796 to 0.57523, saving model to tl_model_v1.weights.best.hdf5\n",
            "102/102 [==============================] - 239s 2s/step - loss: 1.0631 - accuracy: 0.6377 - val_loss: 0.5752 - val_accuracy: 0.8319\n",
            "Epoch 16/30\n",
            "102/102 [==============================] - ETA: 0s - loss: 1.0430 - accuracy: 0.6481\n",
            "Epoch 16: val_loss did not improve from 0.57523\n",
            "102/102 [==============================] - 233s 2s/step - loss: 1.0430 - accuracy: 0.6481 - val_loss: 0.6111 - val_accuracy: 0.8181\n",
            "Epoch 17/30\n",
            "102/102 [==============================] - ETA: 0s - loss: 1.0030 - accuracy: 0.6586\n",
            "Epoch 17: val_loss did not improve from 0.57523\n",
            "102/102 [==============================] - 228s 2s/step - loss: 1.0030 - accuracy: 0.6586 - val_loss: 0.5768 - val_accuracy: 0.8333\n",
            "Epoch 18/30\n",
            "102/102 [==============================] - ETA: 0s - loss: 0.9564 - accuracy: 0.6863\n",
            "Epoch 18: val_loss did not improve from 0.57523\n",
            "102/102 [==============================] - 229s 2s/step - loss: 0.9564 - accuracy: 0.6863 - val_loss: 0.5810 - val_accuracy: 0.8333\n",
            "Epoch 19/30\n",
            "102/102 [==============================] - ETA: 0s - loss: 0.9416 - accuracy: 0.6921\n",
            "Epoch 19: val_loss did not improve from 0.57523\n",
            "102/102 [==============================] - 228s 2s/step - loss: 0.9416 - accuracy: 0.6921 - val_loss: 0.5800 - val_accuracy: 0.8153\n",
            "Epoch 20/30\n",
            "102/102 [==============================] - ETA: 0s - loss: 0.9136 - accuracy: 0.6989\n",
            "Epoch 20: val_loss did not improve from 0.57523\n",
            "102/102 [==============================] - 227s 2s/step - loss: 0.9136 - accuracy: 0.6989 - val_loss: 0.6035 - val_accuracy: 0.8181\n",
            "Epoch 21/30\n",
            "102/102 [==============================] - ETA: 0s - loss: 0.8851 - accuracy: 0.7086\n",
            "Epoch 21: val_loss improved from 0.57523 to 0.51934, saving model to tl_model_v1.weights.best.hdf5\n",
            "102/102 [==============================] - 234s 2s/step - loss: 0.8851 - accuracy: 0.7086 - val_loss: 0.5193 - val_accuracy: 0.8319\n",
            "Epoch 22/30\n",
            "102/102 [==============================] - ETA: 0s - loss: 0.8640 - accuracy: 0.7151\n",
            "Epoch 22: val_loss improved from 0.51934 to 0.51898, saving model to tl_model_v1.weights.best.hdf5\n",
            "102/102 [==============================] - 255s 2s/step - loss: 0.8640 - accuracy: 0.7151 - val_loss: 0.5190 - val_accuracy: 0.8278\n",
            "Epoch 23/30\n",
            "102/102 [==============================] - ETA: 0s - loss: 0.8337 - accuracy: 0.7284\n",
            "Epoch 23: val_loss improved from 0.51898 to 0.49457, saving model to tl_model_v1.weights.best.hdf5\n",
            "102/102 [==============================] - 239s 2s/step - loss: 0.8337 - accuracy: 0.7284 - val_loss: 0.4946 - val_accuracy: 0.8431\n",
            "Epoch 24/30\n",
            "102/102 [==============================] - ETA: 0s - loss: 0.8219 - accuracy: 0.7355\n",
            "Epoch 24: val_loss did not improve from 0.49457\n",
            "102/102 [==============================] - 238s 2s/step - loss: 0.8219 - accuracy: 0.7355 - val_loss: 0.5203 - val_accuracy: 0.8306\n",
            "Epoch 25/30\n",
            "102/102 [==============================] - ETA: 0s - loss: 0.8118 - accuracy: 0.7349\n",
            "Epoch 25: val_loss did not improve from 0.49457\n",
            "102/102 [==============================] - 252s 2s/step - loss: 0.8118 - accuracy: 0.7349 - val_loss: 0.5016 - val_accuracy: 0.8333\n",
            "Epoch 26/30\n",
            "102/102 [==============================] - ETA: 0s - loss: 0.7846 - accuracy: 0.7474\n",
            "Epoch 26: val_loss did not improve from 0.49457\n",
            "102/102 [==============================] - 236s 2s/step - loss: 0.7846 - accuracy: 0.7474 - val_loss: 0.4964 - val_accuracy: 0.8444\n",
            "Epoch 27/30\n",
            "102/102 [==============================] - ETA: 0s - loss: 0.7632 - accuracy: 0.7627\n",
            "Epoch 27: val_loss did not improve from 0.49457\n",
            "102/102 [==============================] - 233s 2s/step - loss: 0.7632 - accuracy: 0.7627 - val_loss: 0.5101 - val_accuracy: 0.8444\n",
            "Epoch 28/30\n",
            "102/102 [==============================] - ETA: 0s - loss: 0.7500 - accuracy: 0.7648\n",
            "Epoch 28: val_loss improved from 0.49457 to 0.48908, saving model to tl_model_v1.weights.best.hdf5\n",
            "102/102 [==============================] - 238s 2s/step - loss: 0.7500 - accuracy: 0.7648 - val_loss: 0.4891 - val_accuracy: 0.8319\n",
            "Epoch 29/30\n",
            "102/102 [==============================] - ETA: 0s - loss: 0.7440 - accuracy: 0.7662\n",
            "Epoch 29: val_loss improved from 0.48908 to 0.48422, saving model to tl_model_v1.weights.best.hdf5\n",
            "102/102 [==============================] - 238s 2s/step - loss: 0.7440 - accuracy: 0.7662 - val_loss: 0.4842 - val_accuracy: 0.8333\n",
            "Epoch 30/30\n",
            "102/102 [==============================] - ETA: 0s - loss: 0.7211 - accuracy: 0.7736\n",
            "Epoch 30: val_loss did not improve from 0.48422\n",
            "102/102 [==============================] - 232s 2s/step - loss: 0.7211 - accuracy: 0.7736 - val_loss: 0.5015 - val_accuracy: 0.8306\n"
          ]
        }
      ]
    },
    {
      "cell_type": "code",
      "source": [
        "# Generate predictions\n",
        "Xception_model.load_weights('tl_model_v1.weights.best.hdf5') # initialize the best trained weights"
      ],
      "metadata": {
        "id": "nHBiK11fue9T"
      },
      "execution_count": 15,
      "outputs": []
    },
    {
      "cell_type": "code",
      "source": [
        "true_classes = test_generator.classes\n",
        "class_indices = train_generator.class_indices\n",
        "class_indices = dict((v,k) for k,v in class_indices.items())\n",
        "\n",
        "Xception_preds = Xception_model.predict(test_generator)\n",
        "Xception_pred_classes = np.argmax(Xception_preds, axis=1)"
      ],
      "metadata": {
        "colab": {
          "base_uri": "https://localhost:8080/"
        },
        "id": "ifbCCZWquoac",
        "outputId": "7e82d126-15a0-41fa-de18-e8c9fddd2cd9"
      },
      "execution_count": 16,
      "outputs": [
        {
          "output_type": "stream",
          "name": "stdout",
          "text": [
            "800/800 [==============================] - 223s 274ms/step\n"
          ]
        }
      ]
    },
    {
      "cell_type": "code",
      "source": [
        "from sklearn.metrics import accuracy_score\n",
        "Xception_acc = accuracy_score(true_classes, Xception_pred_classes)\n",
        "print(\"Xception Model Accuracy: {:.2f}%\".format(Xception_acc * 100))"
      ],
      "metadata": {
        "colab": {
          "base_uri": "https://localhost:8080/"
        },
        "id": "576wxbsru0oL",
        "outputId": "f778bb21-87e1-42dc-8ac6-56bdeee0f1e7"
      },
      "execution_count": 17,
      "outputs": [
        {
          "output_type": "stream",
          "name": "stdout",
          "text": [
            "Xception Model Accuracy: 86.00%\n"
          ]
        }
      ]
    },
    {
      "cell_type": "code",
      "source": [
        "labels = os.listdir(TRAIN_PATH)"
      ],
      "metadata": {
        "id": "ou-DIgr2u0cP"
      },
      "execution_count": 18,
      "outputs": []
    },
    {
      "cell_type": "code",
      "source": [
        "from sklearn.metrics import classification_report, confusion_matrix\n",
        "\n",
        "print(classification_report(true_classes,Xception_pred_classes,target_names = labels))"
      ],
      "metadata": {
        "colab": {
          "base_uri": "https://localhost:8080/"
        },
        "id": "goxldiVRvFsJ",
        "outputId": "2b10878b-e342-4125-c1d1-dd6790bef88b"
      },
      "execution_count": 19,
      "outputs": [
        {
          "output_type": "stream",
          "name": "stdout",
          "text": [
            "                        precision    recall  f1-score   support\n",
            "\n",
            "         normal-z-line       0.79      0.83      0.81       100\n",
            "        normal-pylorus       0.84      0.77      0.80       100\n",
            "dyed-resection-margins       0.89      0.57      0.70       100\n",
            "          normal-cecum       0.94      0.92      0.93       100\n",
            "    ulcerative-colitis       0.95      0.99      0.97       100\n",
            "                polyps       0.70      0.92      0.79       100\n",
            "           esophagitis       0.89      0.93      0.91       100\n",
            "    dyed-lifted-polyps       0.94      0.95      0.95       100\n",
            "\n",
            "              accuracy                           0.86       800\n",
            "             macro avg       0.87      0.86      0.86       800\n",
            "          weighted avg       0.87      0.86      0.86       800\n",
            "\n"
          ]
        }
      ]
    },
    {
      "cell_type": "code",
      "source": [
        "from sklearn.metrics import precision_score\n",
        "precision_score(true_classes, Xception_pred_classes, average='micro')"
      ],
      "metadata": {
        "colab": {
          "base_uri": "https://localhost:8080/"
        },
        "id": "GN8ZZZB8vFpQ",
        "outputId": "e888eb8d-bd5b-4cbc-fe98-86a9e34a1d9c"
      },
      "execution_count": 20,
      "outputs": [
        {
          "output_type": "execute_result",
          "data": {
            "text/plain": [
              "0.86"
            ]
          },
          "metadata": {},
          "execution_count": 20
        }
      ]
    },
    {
      "cell_type": "code",
      "source": [
        "from sklearn.metrics import recall_score\n",
        "recall_score(true_classes, Xception_pred_classes, average='micro')"
      ],
      "metadata": {
        "colab": {
          "base_uri": "https://localhost:8080/"
        },
        "id": "Qm8pJ2rLvXhv",
        "outputId": "ee571cd9-248c-4e1d-9bbb-b2d7d8c7a426"
      },
      "execution_count": 21,
      "outputs": [
        {
          "output_type": "execute_result",
          "data": {
            "text/plain": [
              "0.86"
            ]
          },
          "metadata": {},
          "execution_count": 21
        }
      ]
    },
    {
      "cell_type": "code",
      "source": [
        "import seaborn as sns\n",
        "from sklearn.metrics import confusion_matrix\n",
        "\n",
        "# Get the names of the ten classes\n",
        "class_names = test_generator.class_indices.keys()\n",
        "\n",
        "def plot_heatmap(y_true, y_pred, class_names, ax, title):\n",
        "    cm = confusion_matrix(y_true, y_pred)\n",
        "    sns.heatmap(\n",
        "        cm, \n",
        "        annot=True, \n",
        "        square=True, \n",
        "        xticklabels=class_names, \n",
        "        yticklabels=class_names,\n",
        "        fmt='d', \n",
        "        cmap=plt.cm.Blues,\n",
        "        cbar=False,\n",
        "        ax=ax\n",
        "    )\n",
        "    ax.set_title(title, fontsize=16)\n",
        "    ax.set_xticklabels(ax.get_xticklabels(), rotation=45, ha=\"right\")\n",
        "    ax.set_ylabel('True Label', fontsize=12)\n",
        "    ax.set_xlabel('Predicted Label', fontsize=12)\n",
        "\n",
        "fig, (ax1) = plt.subplots(1,figsize=(20, 10))\n",
        "    \n",
        "plot_heatmap(true_classes, Xception_pred_classes, class_names, ax1, title=\"Fusion Model Xception\")    \n",
        "\n",
        "fig.suptitle(\"Confusion Matrix Model Comparison\", fontsize=24)\n",
        "fig.tight_layout()\n",
        "fig.subplots_adjust(top=1.25)\n",
        "plt.show()"
      ],
      "metadata": {
        "colab": {
          "base_uri": "https://localhost:8080/",
          "height": 938
        },
        "id": "-jBeV0byvXet",
        "outputId": "10661126-bfea-498d-f813-ba03ff6b36b7"
      },
      "execution_count": 22,
      "outputs": [
        {
          "output_type": "display_data",
          "data": {
            "text/plain": [
              "<Figure size 1440x720 with 1 Axes>"
            ],
            "image/png": "[encoded data removed]"
          },
          "metadata": {
            "needs_background": "light"
          }
        }
      ]
    },
    {
      "cell_type": "code",
      "source": [],
      "metadata": {
        "id": "vF_mqUJIRZAx"
      },
      "execution_count": null,
      "outputs": []
    }
  ]
}