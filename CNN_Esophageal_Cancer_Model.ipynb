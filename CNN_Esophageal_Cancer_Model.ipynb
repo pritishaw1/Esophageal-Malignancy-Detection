{
  "nbformat": 4,
  "nbformat_minor": 0,
  "metadata": {
    "colab": {
      "provenance": [],
      "machine_shape": "hm"
    },
    "kernelspec": {
      "name": "python3",
      "display_name": "Python 3"
    },
    "language_info": {
      "name": "python"
    },
    "accelerator": "GPU",
    "gpuClass": "premium"
  },
  "cells": [
    {
      "cell_type": "code",
      "execution_count": null,
      "metadata": {
        "id": "uFVhUJbjvW8Z"
      },
      "outputs": [],
      "source": [
        "from google.colab import drive"
      ]
    },
    {
      "cell_type": "code",
      "source": [
        "drive.mount('/content/drive')"
      ],
      "metadata": {
        "colab": {
          "base_uri": "https://localhost:8080/"
        },
        "id": "Uu0dIpUuvXm3",
        "outputId": "bcdbcb1c-60c1-470a-c496-a6fb98486c4c"
      },
      "execution_count": null,
      "outputs": [
        {
          "output_type": "stream",
          "name": "stdout",
          "text": [
            "Drive already mounted at /content/drive; to attempt to forcibly remount, call drive.mount(\"/content/drive\", force_remount=True).\n"
          ]
        }
      ]
    },
    {
      "cell_type": "code",
      "source": [
        "root_path = '/content/drive/MyDrive/Kvasir'"
      ],
      "metadata": {
        "id": "trWV5Eu8vchQ"
      },
      "execution_count": null,
      "outputs": []
    },
    {
      "cell_type": "code",
      "source": [
        "import numpy as np\n",
        "import matplotlib.pyplot as plt\n",
        "import keras\n",
        "from keras.layers import *\n",
        "from keras.models import * \n",
        "from keras.preprocessing import image\n",
        "import os\n",
        "from keras.models import Model\n",
        "from keras.preprocessing.image import ImageDataGenerator\n",
        "from keras.callbacks import ModelCheckpoint, EarlyStopping\n",
        "from keras.layers import BatchNormalization\n",
        "from keras.layers import Dense, Dropout, Flatten\n",
        "from pathlib import Path"
      ],
      "metadata": {
        "id": "nN0uPHCmviP3"
      },
      "execution_count": null,
      "outputs": []
    },
    {
      "cell_type": "code",
      "source": [
        "BATCH_SIZE = 64\n",
        "\n",
        "train_datagen = image.ImageDataGenerator(rescale=1./255, rotation_range=40, zoom_range=0.2, width_shift_range=0.2, height_shift_range=0.2, shear_range=0.2, horizontal_flip=True, fill_mode=\"nearest\", validation_split=0.1)\n",
        "\n",
        "test_datagen = image.ImageDataGenerator(rescale=1./255)"
      ],
      "metadata": {
        "id": "9oqxUQvnvkON"
      },
      "execution_count": null,
      "outputs": []
    },
    {
      "cell_type": "code",
      "source": [
        "#Defining paths\n",
        "TRAIN_PATH = \"/content/drive/MyDrive/Kvasir/Train\"\n",
        "TEST_PATH = \"/content/drive/MyDrive/Kvasir/Test\""
      ],
      "metadata": {
        "id": "R2CKn6Mavmon"
      },
      "execution_count": null,
      "outputs": []
    },
    {
      "cell_type": "code",
      "source": [
        "train_generator = train_datagen.flow_from_directory(TRAIN_PATH,\n",
        "                                               target_size=(224, 224),\n",
        "                                               class_mode='categorical',\n",
        "                                               subset='training',\n",
        "                                               batch_size=BATCH_SIZE, \n",
        "                                               shuffle=True,\n",
        "                                               seed=42)\n",
        "\n",
        "validation_generator = train_datagen.flow_from_directory(TRAIN_PATH,\n",
        "                                               target_size=(224, 224),\n",
        "                                               class_mode='categorical',\n",
        "                                               subset='validation',\n",
        "                                               batch_size=BATCH_SIZE,\n",
        "                                               shuffle=True,\n",
        "                                               seed=42)\n",
        "\n",
        "test_generator = test_datagen.flow_from_directory(TEST_PATH,\n",
        "                                             target_size=(224, 224),\n",
        "                                             class_mode=None,\n",
        "                                             batch_size=1,\n",
        "                                             shuffle=False,\n",
        "                                             seed=42)"
      ],
      "metadata": {
        "colab": {
          "base_uri": "https://localhost:8080/"
        },
        "id": "Or9UabZBvofR",
        "outputId": "8dbc1f02-c1c3-4d57-a353-4435bd0ae178"
      },
      "execution_count": null,
      "outputs": [
        {
          "output_type": "stream",
          "name": "stdout",
          "text": [
            "Found 6480 images belonging to 8 classes.\n",
            "Found 720 images belonging to 8 classes.\n",
            "Found 800 images belonging to 8 classes.\n"
          ]
        }
      ]
    },
    {
      "cell_type": "code",
      "source": [
        "from keras.metrics import top_k_categorical_accuracy\n",
        "def top_5_categorical_accuracy(y_true, y_pred):\n",
        "    return top_k_categorical_accuracy(y_true, y_pred, k=5)"
      ],
      "metadata": {
        "id": "L0c9yepTvqk-"
      },
      "execution_count": null,
      "outputs": []
    },
    {
      "cell_type": "code",
      "source": [
        "model = tf.keras.models.Sequential()\n",
        "model.add(tf.keras.layers.Conv2D(32,kernel_size=(3,3),activation='relu',input_shape=(224,224,3)))\n",
        "model.add(tf.keras.layers.MaxPooling2D(pool_size=(2,2)))\n",
        "\n",
        "\n",
        "model.add(tf.keras.layers.Conv2D(64,(3,3),activation='relu'))\n",
        "model.add(tf.keras.layers.MaxPooling2D(pool_size=(2,2)))\n",
        "\n",
        "\n",
        "model.add(tf.keras.layers.Conv2D(128,(3,3),activation='relu'))\n",
        "model.add(tf.keras.layers.MaxPooling2D(pool_size=(2,2)))\n",
        "\n",
        "model.add(tf.keras.layers.Flatten())\n",
        "\n",
        "model.add(tf.keras.layers.Dense(128,activation='relu'))\n",
        "model.add(tf.keras.layers.Dropout(0.5))\n",
        "model.add(BatchNormalization())\n",
        "model.add(tf.keras.layers.Dense(64,activation='relu'))\n",
        "model.add(tf.keras.layers.Dropout(0.5))\n",
        "model.add(BatchNormalization())\n",
        "model.add(tf.keras.layers.Dense(32,activation='relu'))\n",
        "model.add(tf.keras.layers.Dropout(0.5))\n",
        "model.add(BatchNormalization())\n",
        "model.add(tf.keras.layers.Dense(8,activation='softmax'))\n",
        "\n",
        "model.compile(loss='categorical_crossentropy',optimizer=keras.optimizers.Adam(learning_rate = 1e-4),metrics=['accuracy', top_5_categorical_accuracy])"
      ],
      "metadata": {
        "id": "jhF3XvYqvu5f"
      },
      "execution_count": null,
      "outputs": []
    },
    {
      "cell_type": "code",
      "source": [
        "#summarizing the model\n",
        "model.summary()"
      ],
      "metadata": {
        "colab": {
          "base_uri": "https://localhost:8080/"
        },
        "id": "u--uo9NXvwx1",
        "outputId": "7ed2acaa-3fd0-467c-901d-4e7428962c75"
      },
      "execution_count": null,
      "outputs": [
        {
          "output_type": "stream",
          "name": "stdout",
          "text": [
            "Model: \"sequential\"\n",
            "_________________________________________________________________\n",
            " Layer (type)                Output Shape              Param #   \n",
            "=================================================================\n",
            " conv2d (Conv2D)             (None, 222, 222, 32)      896       \n",
            "                                                                 \n",
            " max_pooling2d (MaxPooling2D  (None, 111, 111, 32)     0         \n",
            " )                                                               \n",
            "                                                                 \n",
            " conv2d_1 (Conv2D)           (None, 109, 109, 64)      18496     \n",
            "                                                                 \n",
            " max_pooling2d_1 (MaxPooling  (None, 54, 54, 64)       0         \n",
            " 2D)                                                             \n",
            "                                                                 \n",
            " conv2d_2 (Conv2D)           (None, 52, 52, 128)       73856     \n",
            "                                                                 \n",
            " max_pooling2d_2 (MaxPooling  (None, 26, 26, 128)      0         \n",
            " 2D)                                                             \n",
            "                                                                 \n",
            " flatten (Flatten)           (None, 86528)             0         \n",
            "                                                                 \n",
            " dense (Dense)               (None, 128)               11075712  \n",
            "                                                                 \n",
            " dropout (Dropout)           (None, 128)               0         \n",
            "                                                                 \n",
            " batch_normalization (BatchN  (None, 128)              512       \n",
            " ormalization)                                                   \n",
            "                                                                 \n",
            " dense_1 (Dense)             (None, 64)                8256      \n",
            "                                                                 \n",
            " dropout_1 (Dropout)         (None, 64)                0         \n",
            "                                                                 \n",
            " batch_normalization_1 (Batc  (None, 64)               256       \n",
            " hNormalization)                                                 \n",
            "                                                                 \n",
            " dense_2 (Dense)             (None, 32)                2080      \n",
            "                                                                 \n",
            " dropout_2 (Dropout)         (None, 32)                0         \n",
            "                                                                 \n",
            " batch_normalization_2 (Batc  (None, 32)               128       \n",
            " hNormalization)                                                 \n",
            "                                                                 \n",
            " dense_3 (Dense)             (None, 8)                 264       \n",
            "                                                                 \n",
            "=================================================================\n",
            "Total params: 11,180,456\n",
            "Trainable params: 11,180,008\n",
            "Non-trainable params: 448\n",
            "_________________________________________________________________\n"
          ]
        }
      ]
    },
    {
      "cell_type": "code",
      "source": [
        "# ModelCheckpoint callback - save best weights\n",
        "tl_checkpoint_1 = ModelCheckpoint(filepath='tl_model_v1.weights.best.hdf5',\n",
        "                                  save_best_only=True,\n",
        "                                  verbose=1)\n",
        "\n",
        "# EarlyStopping\n",
        "early_stop = EarlyStopping(monitor='val_loss',\n",
        "                           patience=10,\n",
        "                           restore_best_weights=True,\n",
        "                           mode='min')"
      ],
      "metadata": {
        "id": "r1-_W2Nlv1dg"
      },
      "execution_count": null,
      "outputs": []
    },
    {
      "cell_type": "code",
      "source": [
        "model_history = model.fit(train_generator,\n",
        "                            batch_size=BATCH_SIZE,\n",
        "                            epochs=30,\n",
        "                            validation_data=validation_generator,\n",
        "                            callbacks=[tl_checkpoint_1, early_stop],\n",
        "                            verbose=1)"
      ],
      "metadata": {
        "colab": {
          "base_uri": "https://localhost:8080/"
        },
        "id": "Ca2c0FdowQvz",
        "outputId": "82c6f681-d44f-41c7-8955-24ad573c540a"
      },
      "execution_count": null,
      "outputs": [
        {
          "output_type": "stream",
          "name": "stdout",
          "text": [
            "Epoch 1/30\n",
            "102/102 [==============================] - ETA: 0s - loss: 2.5613 - accuracy: 0.1534 - top_5_categorical_accuracy: 0.6660\n",
            "Epoch 1: val_loss improved from inf to 1.92422, saving model to tl_model_v1.weights.best.hdf5\n",
            "102/102 [==============================] - 174s 2s/step - loss: 2.5613 - accuracy: 0.1534 - top_5_categorical_accuracy: 0.6660 - val_loss: 1.9242 - val_accuracy: 0.3028 - val_top_5_categorical_accuracy: 0.8361\n",
            "Epoch 2/30\n",
            "102/102 [==============================] - ETA: 0s - loss: 2.3088 - accuracy: 0.2020 - top_5_categorical_accuracy: 0.7188\n",
            "Epoch 2: val_loss improved from 1.92422 to 1.79054, saving model to tl_model_v1.weights.best.hdf5\n",
            "102/102 [==============================] - 169s 2s/step - loss: 2.3088 - accuracy: 0.2020 - top_5_categorical_accuracy: 0.7188 - val_loss: 1.7905 - val_accuracy: 0.4056 - val_top_5_categorical_accuracy: 0.8597\n",
            "Epoch 3/30\n",
            "102/102 [==============================] - ETA: 0s - loss: 2.1871 - accuracy: 0.2361 - top_5_categorical_accuracy: 0.7596\n",
            "Epoch 3: val_loss improved from 1.79054 to 1.73262, saving model to tl_model_v1.weights.best.hdf5\n",
            "102/102 [==============================] - 169s 2s/step - loss: 2.1871 - accuracy: 0.2361 - top_5_categorical_accuracy: 0.7596 - val_loss: 1.7326 - val_accuracy: 0.3931 - val_top_5_categorical_accuracy: 0.8597\n",
            "Epoch 4/30\n",
            "102/102 [==============================] - ETA: 0s - loss: 2.1062 - accuracy: 0.2656 - top_5_categorical_accuracy: 0.7804\n",
            "Epoch 4: val_loss improved from 1.73262 to 1.61598, saving model to tl_model_v1.weights.best.hdf5\n",
            "102/102 [==============================] - 168s 2s/step - loss: 2.1062 - accuracy: 0.2656 - top_5_categorical_accuracy: 0.7804 - val_loss: 1.6160 - val_accuracy: 0.4792 - val_top_5_categorical_accuracy: 0.9014\n",
            "Epoch 5/30\n",
            "102/102 [==============================] - ETA: 0s - loss: 2.0024 - accuracy: 0.2809 - top_5_categorical_accuracy: 0.8066\n",
            "Epoch 5: val_loss improved from 1.61598 to 1.49852, saving model to tl_model_v1.weights.best.hdf5\n",
            "102/102 [==============================] - 169s 2s/step - loss: 2.0024 - accuracy: 0.2809 - top_5_categorical_accuracy: 0.8066 - val_loss: 1.4985 - val_accuracy: 0.4917 - val_top_5_categorical_accuracy: 0.9236\n",
            "Epoch 6/30\n",
            "102/102 [==============================] - ETA: 0s - loss: 1.9209 - accuracy: 0.3102 - top_5_categorical_accuracy: 0.8282\n",
            "Epoch 6: val_loss improved from 1.49852 to 1.49495, saving model to tl_model_v1.weights.best.hdf5\n",
            "102/102 [==============================] - 168s 2s/step - loss: 1.9209 - accuracy: 0.3102 - top_5_categorical_accuracy: 0.8282 - val_loss: 1.4950 - val_accuracy: 0.5292 - val_top_5_categorical_accuracy: 0.9125\n",
            "Epoch 7/30\n",
            "102/102 [==============================] - ETA: 0s - loss: 1.8524 - accuracy: 0.3219 - top_5_categorical_accuracy: 0.8477\n",
            "Epoch 7: val_loss improved from 1.49495 to 1.45484, saving model to tl_model_v1.weights.best.hdf5\n",
            "102/102 [==============================] - 168s 2s/step - loss: 1.8524 - accuracy: 0.3219 - top_5_categorical_accuracy: 0.8477 - val_loss: 1.4548 - val_accuracy: 0.5208 - val_top_5_categorical_accuracy: 0.9375\n",
            "Epoch 8/30\n",
            "102/102 [==============================] - ETA: 0s - loss: 1.8040 - accuracy: 0.3455 - top_5_categorical_accuracy: 0.8573\n",
            "Epoch 8: val_loss did not improve from 1.45484\n",
            "102/102 [==============================] - 168s 2s/step - loss: 1.8040 - accuracy: 0.3455 - top_5_categorical_accuracy: 0.8573 - val_loss: 1.4872 - val_accuracy: 0.4917 - val_top_5_categorical_accuracy: 0.9597\n",
            "Epoch 9/30\n",
            "102/102 [==============================] - ETA: 0s - loss: 1.7415 - accuracy: 0.3551 - top_5_categorical_accuracy: 0.8861\n",
            "Epoch 9: val_loss improved from 1.45484 to 1.31673, saving model to tl_model_v1.weights.best.hdf5\n",
            "102/102 [==============================] - 168s 2s/step - loss: 1.7415 - accuracy: 0.3551 - top_5_categorical_accuracy: 0.8861 - val_loss: 1.3167 - val_accuracy: 0.5847 - val_top_5_categorical_accuracy: 0.9847\n",
            "Epoch 10/30\n",
            "102/102 [==============================] - ETA: 0s - loss: 1.7030 - accuracy: 0.3668 - top_5_categorical_accuracy: 0.8897\n",
            "Epoch 10: val_loss improved from 1.31673 to 1.26995, saving model to tl_model_v1.weights.best.hdf5\n",
            "102/102 [==============================] - 169s 2s/step - loss: 1.7030 - accuracy: 0.3668 - top_5_categorical_accuracy: 0.8897 - val_loss: 1.2699 - val_accuracy: 0.6056 - val_top_5_categorical_accuracy: 0.9903\n",
            "Epoch 11/30\n",
            "102/102 [==============================] - ETA: 0s - loss: 1.6432 - accuracy: 0.3951 - top_5_categorical_accuracy: 0.8997\n",
            "Epoch 11: val_loss improved from 1.26995 to 1.25488, saving model to tl_model_v1.weights.best.hdf5\n",
            "102/102 [==============================] - 168s 2s/step - loss: 1.6432 - accuracy: 0.3951 - top_5_categorical_accuracy: 0.8997 - val_loss: 1.2549 - val_accuracy: 0.5639 - val_top_5_categorical_accuracy: 0.9875\n",
            "Epoch 12/30\n",
            "102/102 [==============================] - ETA: 0s - loss: 1.5862 - accuracy: 0.4123 - top_5_categorical_accuracy: 0.9176\n",
            "Epoch 12: val_loss did not improve from 1.25488\n",
            "102/102 [==============================] - 168s 2s/step - loss: 1.5862 - accuracy: 0.4123 - top_5_categorical_accuracy: 0.9176 - val_loss: 1.2658 - val_accuracy: 0.5708 - val_top_5_categorical_accuracy: 0.9833\n",
            "Epoch 13/30\n",
            "102/102 [==============================] - ETA: 0s - loss: 1.5530 - accuracy: 0.4208 - top_5_categorical_accuracy: 0.9230\n",
            "Epoch 13: val_loss improved from 1.25488 to 1.16227, saving model to tl_model_v1.weights.best.hdf5\n",
            "102/102 [==============================] - 168s 2s/step - loss: 1.5530 - accuracy: 0.4208 - top_5_categorical_accuracy: 0.9230 - val_loss: 1.1623 - val_accuracy: 0.6028 - val_top_5_categorical_accuracy: 0.9931\n",
            "Epoch 14/30\n",
            "102/102 [==============================] - ETA: 0s - loss: 1.5240 - accuracy: 0.4344 - top_5_categorical_accuracy: 0.9289\n",
            "Epoch 14: val_loss improved from 1.16227 to 1.15854, saving model to tl_model_v1.weights.best.hdf5\n",
            "102/102 [==============================] - 168s 2s/step - loss: 1.5240 - accuracy: 0.4344 - top_5_categorical_accuracy: 0.9289 - val_loss: 1.1585 - val_accuracy: 0.6111 - val_top_5_categorical_accuracy: 0.9944\n",
            "Epoch 15/30\n",
            "102/102 [==============================] - ETA: 0s - loss: 1.4681 - accuracy: 0.4437 - top_5_categorical_accuracy: 0.9401\n",
            "Epoch 15: val_loss improved from 1.15854 to 1.08517, saving model to tl_model_v1.weights.best.hdf5\n",
            "102/102 [==============================] - 168s 2s/step - loss: 1.4681 - accuracy: 0.4437 - top_5_categorical_accuracy: 0.9401 - val_loss: 1.0852 - val_accuracy: 0.6347 - val_top_5_categorical_accuracy: 0.9958\n",
            "Epoch 16/30\n",
            "102/102 [==============================] - ETA: 0s - loss: 1.4363 - accuracy: 0.4532 - top_5_categorical_accuracy: 0.9446\n",
            "Epoch 16: val_loss did not improve from 1.08517\n",
            "102/102 [==============================] - 168s 2s/step - loss: 1.4363 - accuracy: 0.4532 - top_5_categorical_accuracy: 0.9446 - val_loss: 1.1086 - val_accuracy: 0.6222 - val_top_5_categorical_accuracy: 0.9931\n",
            "Epoch 17/30\n",
            "102/102 [==============================] - ETA: 0s - loss: 1.4148 - accuracy: 0.4630 - top_5_categorical_accuracy: 0.9492\n",
            "Epoch 17: val_loss did not improve from 1.08517\n",
            "102/102 [==============================] - 167s 2s/step - loss: 1.4148 - accuracy: 0.4630 - top_5_categorical_accuracy: 0.9492 - val_loss: 1.0958 - val_accuracy: 0.6083 - val_top_5_categorical_accuracy: 0.9903\n",
            "Epoch 18/30\n",
            "102/102 [==============================] - ETA: 0s - loss: 1.3797 - accuracy: 0.4713 - top_5_categorical_accuracy: 0.9557\n",
            "Epoch 18: val_loss improved from 1.08517 to 1.02823, saving model to tl_model_v1.weights.best.hdf5\n",
            "102/102 [==============================] - 168s 2s/step - loss: 1.3797 - accuracy: 0.4713 - top_5_categorical_accuracy: 0.9557 - val_loss: 1.0282 - val_accuracy: 0.6361 - val_top_5_categorical_accuracy: 0.9972\n",
            "Epoch 19/30\n",
            "102/102 [==============================] - ETA: 0s - loss: 1.3529 - accuracy: 0.4770 - top_5_categorical_accuracy: 0.9631\n",
            "Epoch 19: val_loss improved from 1.02823 to 0.98105, saving model to tl_model_v1.weights.best.hdf5\n",
            "102/102 [==============================] - 168s 2s/step - loss: 1.3529 - accuracy: 0.4770 - top_5_categorical_accuracy: 0.9631 - val_loss: 0.9810 - val_accuracy: 0.6319 - val_top_5_categorical_accuracy: 0.9931\n",
            "Epoch 20/30\n",
            "102/102 [==============================] - ETA: 0s - loss: 1.3247 - accuracy: 0.4860 - top_5_categorical_accuracy: 0.9654\n",
            "Epoch 20: val_loss did not improve from 0.98105\n",
            "102/102 [==============================] - 168s 2s/step - loss: 1.3247 - accuracy: 0.4860 - top_5_categorical_accuracy: 0.9654 - val_loss: 1.0723 - val_accuracy: 0.5792 - val_top_5_categorical_accuracy: 0.9958\n",
            "Epoch 21/30\n",
            "102/102 [==============================] - ETA: 0s - loss: 1.3005 - accuracy: 0.4906 - top_5_categorical_accuracy: 0.9687\n",
            "Epoch 21: val_loss improved from 0.98105 to 0.95443, saving model to tl_model_v1.weights.best.hdf5\n",
            "102/102 [==============================] - 168s 2s/step - loss: 1.3005 - accuracy: 0.4906 - top_5_categorical_accuracy: 0.9687 - val_loss: 0.9544 - val_accuracy: 0.6514 - val_top_5_categorical_accuracy: 0.9972\n",
            "Epoch 22/30\n",
            "102/102 [==============================] - ETA: 0s - loss: 1.2727 - accuracy: 0.5028 - top_5_categorical_accuracy: 0.9724\n",
            "Epoch 22: val_loss improved from 0.95443 to 0.86564, saving model to tl_model_v1.weights.best.hdf5\n",
            "102/102 [==============================] - 168s 2s/step - loss: 1.2727 - accuracy: 0.5028 - top_5_categorical_accuracy: 0.9724 - val_loss: 0.8656 - val_accuracy: 0.6792 - val_top_5_categorical_accuracy: 0.9986\n",
            "Epoch 23/30\n",
            "102/102 [==============================] - ETA: 0s - loss: 1.2569 - accuracy: 0.5020 - top_5_categorical_accuracy: 0.9710\n",
            "Epoch 23: val_loss did not improve from 0.86564\n",
            "102/102 [==============================] - 168s 2s/step - loss: 1.2569 - accuracy: 0.5020 - top_5_categorical_accuracy: 0.9710 - val_loss: 0.9117 - val_accuracy: 0.6458 - val_top_5_categorical_accuracy: 0.9958\n",
            "Epoch 24/30\n",
            "102/102 [==============================] - ETA: 0s - loss: 1.2303 - accuracy: 0.5131 - top_5_categorical_accuracy: 0.9747\n",
            "Epoch 24: val_loss did not improve from 0.86564\n",
            "102/102 [==============================] - 168s 2s/step - loss: 1.2303 - accuracy: 0.5131 - top_5_categorical_accuracy: 0.9747 - val_loss: 0.9218 - val_accuracy: 0.6486 - val_top_5_categorical_accuracy: 0.9972\n",
            "Epoch 25/30\n",
            "102/102 [==============================] - ETA: 0s - loss: 1.2198 - accuracy: 0.5184 - top_5_categorical_accuracy: 0.9745\n",
            "Epoch 25: val_loss improved from 0.86564 to 0.85988, saving model to tl_model_v1.weights.best.hdf5\n",
            "102/102 [==============================] - 168s 2s/step - loss: 1.2198 - accuracy: 0.5184 - top_5_categorical_accuracy: 0.9745 - val_loss: 0.8599 - val_accuracy: 0.6667 - val_top_5_categorical_accuracy: 0.9958\n",
            "Epoch 26/30\n",
            "102/102 [==============================] - ETA: 0s - loss: 1.1968 - accuracy: 0.5259 - top_5_categorical_accuracy: 0.9807\n",
            "Epoch 26: val_loss improved from 0.85988 to 0.85064, saving model to tl_model_v1.weights.best.hdf5\n",
            "102/102 [==============================] - 168s 2s/step - loss: 1.1968 - accuracy: 0.5259 - top_5_categorical_accuracy: 0.9807 - val_loss: 0.8506 - val_accuracy: 0.6875 - val_top_5_categorical_accuracy: 0.9972\n",
            "Epoch 27/30\n",
            "102/102 [==============================] - ETA: 0s - loss: 1.1696 - accuracy: 0.5293 - top_5_categorical_accuracy: 0.9810\n",
            "Epoch 27: val_loss did not improve from 0.85064\n",
            "102/102 [==============================] - 168s 2s/step - loss: 1.1696 - accuracy: 0.5293 - top_5_categorical_accuracy: 0.9810 - val_loss: 0.8629 - val_accuracy: 0.6875 - val_top_5_categorical_accuracy: 0.9958\n",
            "Epoch 28/30\n",
            "102/102 [==============================] - ETA: 0s - loss: 1.1769 - accuracy: 0.5282 - top_5_categorical_accuracy: 0.9792\n",
            "Epoch 28: val_loss improved from 0.85064 to 0.83941, saving model to tl_model_v1.weights.best.hdf5\n",
            "102/102 [==============================] - 168s 2s/step - loss: 1.1769 - accuracy: 0.5282 - top_5_categorical_accuracy: 0.9792 - val_loss: 0.8394 - val_accuracy: 0.6639 - val_top_5_categorical_accuracy: 0.9972\n",
            "Epoch 29/30\n",
            "102/102 [==============================] - ETA: 0s - loss: 1.1420 - accuracy: 0.5394 - top_5_categorical_accuracy: 0.9813\n",
            "Epoch 29: val_loss improved from 0.83941 to 0.82984, saving model to tl_model_v1.weights.best.hdf5\n",
            "102/102 [==============================] - 169s 2s/step - loss: 1.1420 - accuracy: 0.5394 - top_5_categorical_accuracy: 0.9813 - val_loss: 0.8298 - val_accuracy: 0.6708 - val_top_5_categorical_accuracy: 0.9986\n",
            "Epoch 30/30\n",
            "102/102 [==============================] - ETA: 0s - loss: 1.1411 - accuracy: 0.5347 - top_5_categorical_accuracy: 0.9809\n",
            "Epoch 30: val_loss improved from 0.82984 to 0.80733, saving model to tl_model_v1.weights.best.hdf5\n",
            "102/102 [==============================] - 168s 2s/step - loss: 1.1411 - accuracy: 0.5347 - top_5_categorical_accuracy: 0.9809 - val_loss: 0.8073 - val_accuracy: 0.6833 - val_top_5_categorical_accuracy: 0.9972\n"
          ]
        }
      ]
    },
    {
      "cell_type": "code",
      "source": [
        "# Generate predictions\n",
        "model.load_weights('tl_model_v1.weights.best.hdf5') # initialize the best trained weights\n",
        "\n",
        "true_classes = test_generator.classes\n",
        "class_indices = train_generator.class_indices\n",
        "class_indices = dict((v,k) for k,v in class_indices.items())\n",
        "\n",
        "model_preds = model.predict(test_generator)\n",
        "model_pred_classes = np.argmax(model_preds, axis=1)"
      ],
      "metadata": {
        "id": "Sz9-GYYbwTIH",
        "colab": {
          "base_uri": "https://localhost:8080/"
        },
        "outputId": "54149ebf-48df-4350-ae2d-58defd5be1e6"
      },
      "execution_count": null,
      "outputs": [
        {
          "output_type": "stream",
          "name": "stdout",
          "text": [
            "800/800 [==============================] - 629s 787ms/step\n"
          ]
        }
      ]
    },
    {
      "cell_type": "code",
      "source": [
        "from sklearn.metrics import accuracy_score\n",
        "\n",
        "model_acc = accuracy_score(true_classes, model_pred_classes)\n",
        "print(\"CNN Model's Top 1% Accuracy: {:.2f}%\".format(model_acc * 100))"
      ],
      "metadata": {
        "colab": {
          "base_uri": "https://localhost:8080/"
        },
        "id": "HJggk6hOwY7v",
        "outputId": "7367c70e-0a0d-478d-a130-1489646ea46d"
      },
      "execution_count": null,
      "outputs": [
        {
          "output_type": "stream",
          "name": "stdout",
          "text": [
            "CNN Model's Top 1% Accuracy: 71.75%\n"
          ]
        }
      ]
    },
    {
      "cell_type": "code",
      "source": [
        "import seaborn as sns\n",
        "from sklearn.metrics import confusion_matrix\n",
        "\n",
        "# Get the names of the ten classes\n",
        "class_names = test_generator.class_indices.keys()\n",
        "\n",
        "def plot_heatmap(y_true, y_pred, class_names, ax, title):\n",
        "    cm = confusion_matrix(y_true, y_pred)\n",
        "    sns.heatmap(\n",
        "        cm, \n",
        "        annot=True, \n",
        "        square=True, \n",
        "        xticklabels=class_names, \n",
        "        yticklabels=class_names,\n",
        "        fmt='d', \n",
        "        cmap=plt.cm.Blues,\n",
        "        cbar=False,\n",
        "        ax=ax\n",
        "    )\n",
        "    ax.set_title(title, fontsize=16)\n",
        "    ax.set_xticklabels(ax.get_xticklabels(), rotation=45, ha=\"right\")\n",
        "    ax.set_ylabel('True Label', fontsize=12)\n",
        "    ax.set_xlabel('Predicted Label', fontsize=12)\n",
        "\n",
        "fig, (ax1) = plt.subplots(figsize=(20, 10))\n",
        "\n",
        "plot_heatmap(true_classes, model_pred_classes, class_names, ax1, title=\"Custom CNN\")    \n",
        "fig.suptitle(\"Confusion Matrix Model Comparison\", fontsize=24)\n",
        "fig.tight_layout()\n",
        "fig.subplots_adjust(top=1.25)\n",
        "plt.show()"
      ],
      "metadata": {
        "colab": {
          "base_uri": "https://localhost:8080/",
          "height": 938
        },
        "id": "OCnLHlUwwY42",
        "outputId": "246cb671-f863-4a78-e43f-fb7b288e409d"
      },
      "execution_count": null,
      "outputs": [
        {
          "output_type": "display_data",
          "data": {
            "text/plain": [
              "<Figure size 1440x720 with 1 Axes>"
            ],
            "image/png": "[encoded data removed]"
          },
          "metadata": {
            "needs_background": "light"
          }
        }
      ]
    },
    {
      "cell_type": "code",
      "source": [],
      "metadata": {
        "id": "sM8l4jtufSZR"
      },
      "execution_count": null,
      "outputs": []
    }
  ]
}