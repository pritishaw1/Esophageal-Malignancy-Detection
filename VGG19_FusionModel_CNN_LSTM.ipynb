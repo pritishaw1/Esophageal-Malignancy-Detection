{
  "nbformat": 4,
  "nbformat_minor": 0,
  "metadata": {
    "colab": {
      "provenance": []
    },
    "kernelspec": {
      "name": "python3",
      "display_name": "Python 3"
    },
    "language_info": {
      "name": "python"
    },
    "gpuClass": "standard",
    "accelerator": "GPU"
  },
  "cells": [
    {
      "cell_type": "code",
      "execution_count": 1,
      "metadata": {
        "id": "wA895Ha2LNEr"
      },
      "outputs": [],
      "source": [
        "from google.colab import drive"
      ]
    },
    {
      "cell_type": "code",
      "source": [
        "drive.mount('/content/drive')"
      ],
      "metadata": {
        "colab": {
          "base_uri": "https://localhost:8080/"
        },
        "id": "DBPw80iMLjPW",
        "outputId": "fd1d10e6-4532-4801-fcfb-8a1361bd8435"
      },
      "execution_count": 2,
      "outputs": [
        {
          "output_type": "stream",
          "name": "stdout",
          "text": [
            "Mounted at /content/drive\n"
          ]
        }
      ]
    },
    {
      "cell_type": "code",
      "source": [
        "root_path = '/content/drive/MyDrive/Kvasir'"
      ],
      "metadata": {
        "id": "MxAAO7h0LzcM"
      },
      "execution_count": 3,
      "outputs": []
    },
    {
      "cell_type": "code",
      "source": [
        "import numpy as np\n",
        "import matplotlib.pyplot as plt\n",
        "import keras\n",
        "from keras.layers import *\n",
        "from keras.models import *\n",
        "from keras.preprocessing import image\n",
        "import os\n",
        "from keras.models import Model\n",
        "from keras.preprocessing.image import ImageDataGenerator\n",
        "from keras.callbacks import ModelCheckpoint, EarlyStopping\n",
        "from keras.layers import BatchNormalization\n",
        "from keras.layers import Dense, Dropout, Flatten\n",
        "from pathlib import Path\n",
        "from keras.applications.vgg19 import VGG19, preprocess_input"
      ],
      "metadata": {
        "id": "vwOvIyYdL6Ku"
      },
      "execution_count": 4,
      "outputs": []
    },
    {
      "cell_type": "code",
      "source": [
        "#Defining paths\n",
        "TRAIN_PATH = \"/content/drive/MyDrive/Kvasir/Train\"\n",
        "TEST_PATH = \"/content/drive/MyDrive/Kvasir/Test\""
      ],
      "metadata": {
        "id": "lpSPDj9DL8l7"
      },
      "execution_count": 5,
      "outputs": []
    },
    {
      "cell_type": "code",
      "source": [
        "BATCH_SIZE = 64\n",
        "\n",
        "train_datagen = image.ImageDataGenerator(preprocessing_function=preprocess_input, rotation_range=40, zoom_range=0.2, width_shift_range=0.2, height_shift_range=0.2, shear_range=0.2, horizontal_flip=True, fill_mode=\"nearest\", validation_split=0.1)\n",
        "\n",
        "test_datagen = ImageDataGenerator(preprocessing_function=preprocess_input)"
      ],
      "metadata": {
        "id": "3tOgnv8mL_yU"
      },
      "execution_count": 6,
      "outputs": []
    },
    {
      "cell_type": "code",
      "source": [
        "train_generator = train_datagen.flow_from_directory(TRAIN_PATH,\n",
        "                                               target_size=(224, 224),\n",
        "                                               class_mode='categorical',\n",
        "                                               subset='training',\n",
        "                                               batch_size=BATCH_SIZE, \n",
        "                                               shuffle=True,\n",
        "                                               seed=42)\n",
        "\n",
        "validation_generator = train_datagen.flow_from_directory(TRAIN_PATH,\n",
        "                                               target_size=(224, 224),\n",
        "                                               class_mode='categorical',\n",
        "                                               subset='validation',\n",
        "                                               batch_size=BATCH_SIZE,\n",
        "                                               shuffle=True,\n",
        "                                               seed=42)\n",
        "\n",
        "test_generator = test_datagen.flow_from_directory(TEST_PATH,\n",
        "                                             target_size=(224, 224),\n",
        "                                             class_mode=None,\n",
        "                                             batch_size=1,\n",
        "                                             shuffle=False,\n",
        "                                             seed=42)"
      ],
      "metadata": {
        "colab": {
          "base_uri": "https://localhost:8080/"
        },
        "id": "T8S83gfEMDK2",
        "outputId": "59b5f841-980e-4abd-ab71-c306237cf7fe"
      },
      "execution_count": 7,
      "outputs": [
        {
          "output_type": "stream",
          "name": "stdout",
          "text": [
            "Found 6480 images belonging to 8 classes.\n",
            "Found 720 images belonging to 8 classes.\n",
            "Found 800 images belonging to 8 classes.\n"
          ]
        }
      ]
    },
    {
      "cell_type": "code",
      "source": [
        "from tensorflow.keras.layers import Flatten,Conv2D,MaxPooling2D,LSTM,Dropout,TimeDistributed"
      ],
      "metadata": {
        "id": "Cmb972ijMFla"
      },
      "execution_count": 8,
      "outputs": []
    },
    {
      "cell_type": "code",
      "source": [
        "from keras.models import Model\n",
        "from keras.layers import Input"
      ],
      "metadata": {
        "id": "AaKNoUlgMJfA"
      },
      "execution_count": 9,
      "outputs": []
    },
    {
      "cell_type": "code",
      "source": [
        "def create_model():\n",
        "    \n",
        "    # Pretrained convolutional layers are loaded using the Imagenet weights.\n",
        "    # Include_top is set to False, in order to exclude the model's fully-connected layers.\n",
        "\n",
        "    #target = keras.layers.Reshape(target_shape = (-1 ,224 , 224, 3), input_shape=(224,224,3)\n",
        "\n",
        "    pre_trained_model = VGG19(input_shape=(224,224,3), include_top = False, weights = 'imagenet')\n",
        "\n",
        "    for layer in pre_trained_model.layers[:-3]:\n",
        "            layer.trainable = False\n",
        "    for layer in pre_trained_model.layers[-3:]:\n",
        "            layer.trainable = True\n",
        "    \n",
        "    #keras.layers.Reshape(target_shape = (-1 ,224 , 224, 3), input_shape=(224,224,3)\n",
        "    x = keras.layers.Reshape(target_shape = (-1,224,224,3))(pre_trained_model.input)\n",
        "    cnn_model = TimeDistributed(pre_trained_model)(x)\n",
        "    cnn_model = TimeDistributed(keras.layers.Flatten())(cnn_model)\n",
        "    cnn_model = TimeDistributed(Dense(1024,activation='relu'))(cnn_model)\n",
        "    cnn_model = TimeDistributed(Dropout(0.5))(cnn_model)\n",
        "    cnn_model = TimeDistributed(keras.layers.BatchNormalization())(cnn_model)\n",
        "    #LSTM\n",
        "    top_model = LSTM(200, activation='tanh', dropout=0.2, return_sequences=True)(cnn_model)\n",
        "    top_model = LSTM(100, activation='tanh', dropout=0.2, return_sequences=True)(top_model)\n",
        "    top_model = LSTM(50, activation='tanh', dropout=0.2, return_sequences=False)(top_model)\n",
        "\n",
        "    top_model = Dense(128,activation='relu')(top_model)\n",
        "    top_model = Dropout(0.5)(top_model)\n",
        "    top_model = keras.layers.BatchNormalization()(top_model)\n",
        "    top_model = Dense(64,activation='relu')(top_model)\n",
        "    top_model = Dropout(0.5)(top_model)\n",
        "    top_model = keras.layers.BatchNormalization()(top_model)\n",
        "    top_model = Dense(32,activation='relu')(top_model)\n",
        "    top_model = Dropout(0.5)(top_model)\n",
        "    top_model = keras.layers.BatchNormalization()(top_model)\n",
        "    output_layer = Dense(8, activation='softmax')(top_model)\n",
        "    \n",
        "    # Group the convolutional base and new fully-connected layers into a Model object.\n",
        "    #model = Model([target], output_layer)\n",
        "    model = Model(inputs=pre_trained_model.input, outputs=output_layer)\n",
        "\n",
        "    # Compiles the model for training.\n",
        "    model.compile(optimizer=keras.optimizers.RMSprop(learning_rate = 1e-4, decay=1e-4/30), \n",
        "                  loss='categorical_crossentropy',\n",
        "                  metrics=['accuracy'])\n",
        "    \n",
        "    return model"
      ],
      "metadata": {
        "id": "i8i4XHPYMM2F"
      },
      "execution_count": 10,
      "outputs": []
    },
    {
      "cell_type": "code",
      "source": [
        "VGG19_model = create_model()"
      ],
      "metadata": {
        "colab": {
          "base_uri": "https://localhost:8080/"
        },
        "id": "m5ytgHe6MRYo",
        "outputId": "ed9beca3-ff04-45e9-c6de-e0dab8867ba3"
      },
      "execution_count": 11,
      "outputs": [
        {
          "output_type": "stream",
          "name": "stdout",
          "text": [
            "Downloading data from https://storage.googleapis.com/tensorflow/keras-applications/vgg19/vgg19_weights_tf_dim_ordering_tf_kernels_notop.h5\n",
            "80134624/80134624 [==============================] - 0s 0us/step\n"
          ]
        }
      ]
    },
    {
      "cell_type": "code",
      "source": [
        "VGG19_model.summary()"
      ],
      "metadata": {
        "colab": {
          "base_uri": "https://localhost:8080/"
        },
        "id": "DCuneTBLMUCl",
        "outputId": "cd8ad533-4f92-42e4-bd8a-5f198b801d6d"
      },
      "execution_count": 12,
      "outputs": [
        {
          "output_type": "stream",
          "name": "stdout",
          "text": [
            "Model: \"model\"\n",
            "_________________________________________________________________\n",
            " Layer (type)                Output Shape              Param #   \n",
            "=================================================================\n",
            " input_1 (InputLayer)        [(None, 224, 224, 3)]     0         \n",
            "                                                                 \n",
            " reshape (Reshape)           (None, 1, 224, 224, 3)    0         \n",
            "                                                                 \n",
            " time_distributed (TimeDistr  (None, 1, 7, 7, 512)     20024384  \n",
            " ibuted)                                                         \n",
            "                                                                 \n",
            " time_distributed_1 (TimeDis  (None, 1, 25088)         0         \n",
            " tributed)                                                       \n",
            "                                                                 \n",
            " time_distributed_2 (TimeDis  (None, 1, 1024)          25691136  \n",
            " tributed)                                                       \n",
            "                                                                 \n",
            " time_distributed_3 (TimeDis  (None, 1, 1024)          0         \n",
            " tributed)                                                       \n",
            "                                                                 \n",
            " time_distributed_4 (TimeDis  (None, 1, 1024)          4096      \n",
            " tributed)                                                       \n",
            "                                                                 \n",
            " lstm (LSTM)                 (None, 1, 200)            980000    \n",
            "                                                                 \n",
            " lstm_1 (LSTM)               (None, 1, 100)            120400    \n",
            "                                                                 \n",
            " lstm_2 (LSTM)               (None, 50)                30200     \n",
            "                                                                 \n",
            " dense_1 (Dense)             (None, 128)               6528      \n",
            "                                                                 \n",
            " dropout_1 (Dropout)         (None, 128)               0         \n",
            "                                                                 \n",
            " batch_normalization_1 (Batc  (None, 128)              512       \n",
            " hNormalization)                                                 \n",
            "                                                                 \n",
            " dense_2 (Dense)             (None, 64)                8256      \n",
            "                                                                 \n",
            " dropout_2 (Dropout)         (None, 64)                0         \n",
            "                                                                 \n",
            " batch_normalization_2 (Batc  (None, 64)               256       \n",
            " hNormalization)                                                 \n",
            "                                                                 \n",
            " dense_3 (Dense)             (None, 32)                2080      \n",
            "                                                                 \n",
            " dropout_3 (Dropout)         (None, 32)                0         \n",
            "                                                                 \n",
            " batch_normalization_3 (Batc  (None, 32)               128       \n",
            " hNormalization)                                                 \n",
            "                                                                 \n",
            " dense_4 (Dense)             (None, 8)                 264       \n",
            "                                                                 \n",
            "=================================================================\n",
            "Total params: 46,868,240\n",
            "Trainable params: 31,560,976\n",
            "Non-trainable params: 15,307,264\n",
            "_________________________________________________________________\n"
          ]
        }
      ]
    },
    {
      "cell_type": "code",
      "source": [
        "# ModelCheckpoint callback - save best weights\n",
        "tl_checkpoint_1 = ModelCheckpoint(filepath='tl_model_v1.weights.best.hdf5',\n",
        "                                  save_best_only=True,\n",
        "                                  verbose=1)\n",
        "\n",
        "# EarlyStopping\n",
        "early_stop = EarlyStopping(monitor='val_loss',\n",
        "                           patience=10,\n",
        "                           restore_best_weights=True,\n",
        "                           mode='min')\n",
        "#CNN - Spatial features\n",
        "#LSTM - Sequential information"
      ],
      "metadata": {
        "id": "NxxQC74AMZQV"
      },
      "execution_count": 13,
      "outputs": []
    },
    {
      "cell_type": "code",
      "source": [
        "VGG19_history = VGG19_model.fit(train_generator,\n",
        "                            batch_size=BATCH_SIZE,\n",
        "                            epochs=30,\n",
        "                            validation_data=validation_generator,\n",
        "                            callbacks=[tl_checkpoint_1, early_stop],\n",
        "                            verbose=1)"
      ],
      "metadata": {
        "id": "p59zEValy3OM",
        "colab": {
          "base_uri": "https://localhost:8080/"
        },
        "outputId": "9c4ce34e-362a-4c3b-e15a-8ea2358b96a5"
      },
      "execution_count": 15,
      "outputs": [
        {
          "output_type": "stream",
          "name": "stdout",
          "text": [
            "Epoch 1/30\n",
            "102/102 [==============================] - ETA: 0s - loss: 2.5986 - accuracy: 0.1407 \n",
            "Epoch 1: val_loss improved from inf to 2.14110, saving model to tl_model_v1.weights.best.hdf5\n",
            "102/102 [==============================] - 1757s 17s/step - loss: 2.5986 - accuracy: 0.1407 - val_loss: 2.1411 - val_accuracy: 0.1250\n",
            "Epoch 2/30\n",
            "102/102 [==============================] - ETA: 0s - loss: 2.4877 - accuracy: 0.1503\n",
            "Epoch 2: val_loss did not improve from 2.14110\n",
            "102/102 [==============================] - 197s 2s/step - loss: 2.4877 - accuracy: 0.1503 - val_loss: 2.1509 - val_accuracy: 0.1250\n",
            "Epoch 3/30\n",
            "102/102 [==============================] - ETA: 0s - loss: 2.3622 - accuracy: 0.1816\n",
            "Epoch 3: val_loss improved from 2.14110 to 2.10358, saving model to tl_model_v1.weights.best.hdf5\n",
            "102/102 [==============================] - 194s 2s/step - loss: 2.3622 - accuracy: 0.1816 - val_loss: 2.1036 - val_accuracy: 0.1250\n",
            "Epoch 4/30\n",
            "102/102 [==============================] - ETA: 0s - loss: 2.2098 - accuracy: 0.2162\n",
            "Epoch 4: val_loss improved from 2.10358 to 2.02793, saving model to tl_model_v1.weights.best.hdf5\n",
            "102/102 [==============================] - 193s 2s/step - loss: 2.2098 - accuracy: 0.2162 - val_loss: 2.0279 - val_accuracy: 0.2069\n",
            "Epoch 5/30\n",
            "102/102 [==============================] - ETA: 0s - loss: 2.0989 - accuracy: 0.2313\n",
            "Epoch 5: val_loss improved from 2.02793 to 1.77972, saving model to tl_model_v1.weights.best.hdf5\n",
            "102/102 [==============================] - 196s 2s/step - loss: 2.0989 - accuracy: 0.2313 - val_loss: 1.7797 - val_accuracy: 0.3361\n",
            "Epoch 6/30\n",
            "102/102 [==============================] - ETA: 0s - loss: 1.9543 - accuracy: 0.2804\n",
            "Epoch 6: val_loss improved from 1.77972 to 1.55131, saving model to tl_model_v1.weights.best.hdf5\n",
            "102/102 [==============================] - 200s 2s/step - loss: 1.9543 - accuracy: 0.2804 - val_loss: 1.5513 - val_accuracy: 0.4958\n",
            "Epoch 7/30\n",
            "102/102 [==============================] - ETA: 0s - loss: 1.8458 - accuracy: 0.3074\n",
            "Epoch 7: val_loss improved from 1.55131 to 1.44481, saving model to tl_model_v1.weights.best.hdf5\n",
            "102/102 [==============================] - 197s 2s/step - loss: 1.8458 - accuracy: 0.3074 - val_loss: 1.4448 - val_accuracy: 0.4708\n",
            "Epoch 8/30\n",
            "102/102 [==============================] - ETA: 0s - loss: 1.7498 - accuracy: 0.3343\n",
            "Epoch 8: val_loss did not improve from 1.44481\n",
            "102/102 [==============================] - 202s 2s/step - loss: 1.7498 - accuracy: 0.3343 - val_loss: 1.7714 - val_accuracy: 0.4389\n",
            "Epoch 9/30\n",
            "102/102 [==============================] - ETA: 0s - loss: 1.6818 - accuracy: 0.3665\n",
            "Epoch 9: val_loss improved from 1.44481 to 1.22064, saving model to tl_model_v1.weights.best.hdf5\n",
            "102/102 [==============================] - 208s 2s/step - loss: 1.6818 - accuracy: 0.3665 - val_loss: 1.2206 - val_accuracy: 0.5903\n",
            "Epoch 10/30\n",
            "102/102 [==============================] - ETA: 0s - loss: 1.5782 - accuracy: 0.4063\n",
            "Epoch 10: val_loss did not improve from 1.22064\n",
            "102/102 [==============================] - 205s 2s/step - loss: 1.5782 - accuracy: 0.4063 - val_loss: 1.2540 - val_accuracy: 0.5639\n",
            "Epoch 11/30\n",
            "102/102 [==============================] - ETA: 0s - loss: 1.5245 - accuracy: 0.4196\n",
            "Epoch 11: val_loss improved from 1.22064 to 1.17897, saving model to tl_model_v1.weights.best.hdf5\n",
            "102/102 [==============================] - 206s 2s/step - loss: 1.5245 - accuracy: 0.4196 - val_loss: 1.1790 - val_accuracy: 0.5861\n",
            "Epoch 12/30\n",
            "102/102 [==============================] - ETA: 0s - loss: 1.4633 - accuracy: 0.4454\n",
            "Epoch 12: val_loss improved from 1.17897 to 1.08394, saving model to tl_model_v1.weights.best.hdf5\n",
            "102/102 [==============================] - 206s 2s/step - loss: 1.4633 - accuracy: 0.4454 - val_loss: 1.0839 - val_accuracy: 0.6667\n",
            "Epoch 13/30\n",
            "102/102 [==============================] - ETA: 0s - loss: 1.3905 - accuracy: 0.4759\n",
            "Epoch 13: val_loss improved from 1.08394 to 1.02550, saving model to tl_model_v1.weights.best.hdf5\n",
            "102/102 [==============================] - 207s 2s/step - loss: 1.3905 - accuracy: 0.4759 - val_loss: 1.0255 - val_accuracy: 0.6569\n",
            "Epoch 14/30\n",
            "102/102 [==============================] - ETA: 0s - loss: 1.3199 - accuracy: 0.4965\n",
            "Epoch 14: val_loss improved from 1.02550 to 0.95424, saving model to tl_model_v1.weights.best.hdf5\n",
            "102/102 [==============================] - 212s 2s/step - loss: 1.3199 - accuracy: 0.4965 - val_loss: 0.9542 - val_accuracy: 0.6833\n",
            "Epoch 15/30\n",
            "102/102 [==============================] - ETA: 0s - loss: 1.2880 - accuracy: 0.5073\n",
            "Epoch 15: val_loss improved from 0.95424 to 0.83837, saving model to tl_model_v1.weights.best.hdf5\n",
            "102/102 [==============================] - 211s 2s/step - loss: 1.2880 - accuracy: 0.5073 - val_loss: 0.8384 - val_accuracy: 0.7000\n",
            "Epoch 16/30\n",
            "102/102 [==============================] - ETA: 0s - loss: 1.2271 - accuracy: 0.5312\n",
            "Epoch 16: val_loss improved from 0.83837 to 0.82934, saving model to tl_model_v1.weights.best.hdf5\n",
            "102/102 [==============================] - 213s 2s/step - loss: 1.2271 - accuracy: 0.5312 - val_loss: 0.8293 - val_accuracy: 0.7083\n",
            "Epoch 17/30\n",
            "102/102 [==============================] - ETA: 0s - loss: 1.1985 - accuracy: 0.5407\n",
            "Epoch 17: val_loss did not improve from 0.82934\n",
            "102/102 [==============================] - 208s 2s/step - loss: 1.1985 - accuracy: 0.5407 - val_loss: 0.8842 - val_accuracy: 0.6611\n",
            "Epoch 18/30\n",
            "102/102 [==============================] - ETA: 0s - loss: 1.1458 - accuracy: 0.5594\n",
            "Epoch 18: val_loss did not improve from 0.82934\n",
            "102/102 [==============================] - 198s 2s/step - loss: 1.1458 - accuracy: 0.5594 - val_loss: 1.2366 - val_accuracy: 0.6514\n",
            "Epoch 19/30\n",
            "102/102 [==============================] - ETA: 0s - loss: 1.1199 - accuracy: 0.5685\n",
            "Epoch 19: val_loss improved from 0.82934 to 0.79346, saving model to tl_model_v1.weights.best.hdf5\n",
            "102/102 [==============================] - 196s 2s/step - loss: 1.1199 - accuracy: 0.5685 - val_loss: 0.7935 - val_accuracy: 0.6958\n",
            "Epoch 20/30\n",
            "102/102 [==============================] - ETA: 0s - loss: 1.0785 - accuracy: 0.5884\n",
            "Epoch 20: val_loss improved from 0.79346 to 0.72387, saving model to tl_model_v1.weights.best.hdf5\n",
            "102/102 [==============================] - 196s 2s/step - loss: 1.0785 - accuracy: 0.5884 - val_loss: 0.7239 - val_accuracy: 0.7319\n",
            "Epoch 21/30\n",
            "102/102 [==============================] - ETA: 0s - loss: 1.0472 - accuracy: 0.5878\n",
            "Epoch 21: val_loss improved from 0.72387 to 0.70701, saving model to tl_model_v1.weights.best.hdf5\n",
            "102/102 [==============================] - 192s 2s/step - loss: 1.0472 - accuracy: 0.5878 - val_loss: 0.7070 - val_accuracy: 0.7028\n",
            "Epoch 22/30\n",
            "102/102 [==============================] - ETA: 0s - loss: 1.0102 - accuracy: 0.6136\n",
            "Epoch 22: val_loss improved from 0.70701 to 0.69329, saving model to tl_model_v1.weights.best.hdf5\n",
            "102/102 [==============================] - 192s 2s/step - loss: 1.0102 - accuracy: 0.6136 - val_loss: 0.6933 - val_accuracy: 0.7694\n",
            "Epoch 23/30\n",
            "102/102 [==============================] - ETA: 0s - loss: 0.9905 - accuracy: 0.6133\n",
            "Epoch 23: val_loss improved from 0.69329 to 0.67158, saving model to tl_model_v1.weights.best.hdf5\n",
            "102/102 [==============================] - 192s 2s/step - loss: 0.9905 - accuracy: 0.6133 - val_loss: 0.6716 - val_accuracy: 0.8000\n",
            "Epoch 24/30\n",
            "102/102 [==============================] - ETA: 0s - loss: 0.9588 - accuracy: 0.6390\n",
            "Epoch 24: val_loss did not improve from 0.67158\n",
            "102/102 [==============================] - 191s 2s/step - loss: 0.9588 - accuracy: 0.6390 - val_loss: 0.6919 - val_accuracy: 0.7861\n",
            "Epoch 25/30\n",
            "102/102 [==============================] - ETA: 0s - loss: 0.9369 - accuracy: 0.6512\n",
            "Epoch 25: val_loss improved from 0.67158 to 0.64588, saving model to tl_model_v1.weights.best.hdf5\n",
            "102/102 [==============================] - 192s 2s/step - loss: 0.9369 - accuracy: 0.6512 - val_loss: 0.6459 - val_accuracy: 0.8042\n",
            "Epoch 26/30\n",
            "102/102 [==============================] - ETA: 0s - loss: 0.9142 - accuracy: 0.6605\n",
            "Epoch 26: val_loss improved from 0.64588 to 0.60264, saving model to tl_model_v1.weights.best.hdf5\n",
            "102/102 [==============================] - 192s 2s/step - loss: 0.9142 - accuracy: 0.6605 - val_loss: 0.6026 - val_accuracy: 0.8361\n",
            "Epoch 27/30\n",
            "102/102 [==============================] - ETA: 0s - loss: 0.8715 - accuracy: 0.6750\n",
            "Epoch 27: val_loss did not improve from 0.60264\n",
            "102/102 [==============================] - 191s 2s/step - loss: 0.8715 - accuracy: 0.6750 - val_loss: 0.6078 - val_accuracy: 0.8375\n",
            "Epoch 28/30\n",
            "102/102 [==============================] - ETA: 0s - loss: 0.8555 - accuracy: 0.6921\n",
            "Epoch 28: val_loss did not improve from 0.60264\n",
            "102/102 [==============================] - 190s 2s/step - loss: 0.8555 - accuracy: 0.6921 - val_loss: 0.6045 - val_accuracy: 0.8292\n",
            "Epoch 29/30\n",
            "102/102 [==============================] - ETA: 0s - loss: 0.8290 - accuracy: 0.7011\n",
            "Epoch 29: val_loss improved from 0.60264 to 0.54593, saving model to tl_model_v1.weights.best.hdf5\n",
            "102/102 [==============================] - 192s 2s/step - loss: 0.8290 - accuracy: 0.7011 - val_loss: 0.5459 - val_accuracy: 0.8500\n",
            "Epoch 30/30\n",
            "102/102 [==============================] - ETA: 0s - loss: 0.8053 - accuracy: 0.7137\n",
            "Epoch 30: val_loss did not improve from 0.54593\n",
            "102/102 [==============================] - 190s 2s/step - loss: 0.8053 - accuracy: 0.7137 - val_loss: 0.5777 - val_accuracy: 0.8264\n"
          ]
        }
      ]
    },
    {
      "cell_type": "code",
      "source": [
        "# Generate predictions\n",
        "VGG19_model.load_weights('tl_model_v1.weights.best.hdf5') # initialize the best trained weights"
      ],
      "metadata": {
        "id": "98nwMI7jMfSP"
      },
      "execution_count": 16,
      "outputs": []
    },
    {
      "cell_type": "code",
      "source": [
        "true_classes = test_generator.classes\n",
        "class_indices = train_generator.class_indices\n",
        "class_indices = dict((v,k) for k,v in class_indices.items())\n",
        "\n",
        "VGG19_preds = VGG19_model.predict(test_generator)\n",
        "VGG19_pred_classes = np.argmax(VGG19_preds, axis=1)"
      ],
      "metadata": {
        "colab": {
          "base_uri": "https://localhost:8080/"
        },
        "id": "PeAloHf9MiV3",
        "outputId": "766e75cc-7bb9-4600-c9b8-47d8f7f873a3"
      },
      "execution_count": 17,
      "outputs": [
        {
          "output_type": "stream",
          "name": "stdout",
          "text": [
            "800/800 [==============================] - 222s 275ms/step\n"
          ]
        }
      ]
    },
    {
      "cell_type": "code",
      "source": [
        "from sklearn.metrics import accuracy_score\n",
        "VGG19_acc = accuracy_score(true_classes, VGG19_pred_classes)\n",
        "print(\"VGG19 Model Accuracy: {:.2f}%\".format(VGG19_acc * 100))"
      ],
      "metadata": {
        "colab": {
          "base_uri": "https://localhost:8080/"
        },
        "id": "-aobL9TzMiYK",
        "outputId": "8a3ed81f-de64-46ce-a7fb-8822245aca98"
      },
      "execution_count": 18,
      "outputs": [
        {
          "output_type": "stream",
          "name": "stdout",
          "text": [
            "VGG19 Model Accuracy: 88.62%\n"
          ]
        }
      ]
    },
    {
      "cell_type": "code",
      "source": [
        "labels = os.listdir(TRAIN_PATH)"
      ],
      "metadata": {
        "id": "s2NT8VTFMiax"
      },
      "execution_count": 19,
      "outputs": []
    },
    {
      "cell_type": "code",
      "source": [
        "from sklearn.metrics import classification_report, confusion_matrix\n",
        "\n",
        "print(classification_report(true_classes,VGG19_pred_classes,target_names = labels))"
      ],
      "metadata": {
        "colab": {
          "base_uri": "https://localhost:8080/"
        },
        "id": "RpUbErwoMidF",
        "outputId": "b9f33ba1-67a2-4365-fd67-8f20294d2a03"
      },
      "execution_count": 20,
      "outputs": [
        {
          "output_type": "stream",
          "name": "stdout",
          "text": [
            "                        precision    recall  f1-score   support\n",
            "\n",
            "         normal-z-line       0.90      0.80      0.85       100\n",
            "        normal-pylorus       0.88      0.91      0.90       100\n",
            "dyed-resection-margins       0.86      0.65      0.74       100\n",
            "          normal-cecum       0.95      0.95      0.95       100\n",
            "    ulcerative-colitis       0.96      1.00      0.98       100\n",
            "                polyps       0.72      0.89      0.80       100\n",
            "           esophagitis       0.88      0.95      0.91       100\n",
            "    dyed-lifted-polyps       0.97      0.94      0.95       100\n",
            "\n",
            "              accuracy                           0.89       800\n",
            "             macro avg       0.89      0.89      0.88       800\n",
            "          weighted avg       0.89      0.89      0.88       800\n",
            "\n"
          ]
        }
      ]
    },
    {
      "cell_type": "code",
      "source": [
        "from sklearn.metrics import precision_score\n",
        "precision_score(true_classes, VGG19_pred_classes, average='micro')"
      ],
      "metadata": {
        "colab": {
          "base_uri": "https://localhost:8080/"
        },
        "id": "D-84I4egMifr",
        "outputId": "2ef4795f-7fcd-4a35-a934-cab060e423c4"
      },
      "execution_count": 21,
      "outputs": [
        {
          "output_type": "execute_result",
          "data": {
            "text/plain": [
              "0.88625"
            ]
          },
          "metadata": {},
          "execution_count": 21
        }
      ]
    },
    {
      "cell_type": "code",
      "source": [
        "from sklearn.metrics import recall_score\n",
        "recall_score(true_classes, VGG19_pred_classes, average='micro')"
      ],
      "metadata": {
        "colab": {
          "base_uri": "https://localhost:8080/"
        },
        "id": "-WJekC66Mihm",
        "outputId": "e0a6bfff-6b47-403a-eac1-000fc94c807f"
      },
      "execution_count": 22,
      "outputs": [
        {
          "output_type": "execute_result",
          "data": {
            "text/plain": [
              "0.88625"
            ]
          },
          "metadata": {},
          "execution_count": 22
        }
      ]
    },
    {
      "cell_type": "code",
      "source": [
        "import seaborn as sns\n",
        "from sklearn.metrics import confusion_matrix\n",
        "\n",
        "# Get the names of the ten classes\n",
        "class_names = test_generator.class_indices.keys()\n",
        "\n",
        "def plot_heatmap(y_true, y_pred, class_names, ax, title):\n",
        "    cm = confusion_matrix(y_true, y_pred)\n",
        "    sns.heatmap(\n",
        "        cm, \n",
        "        annot=True, \n",
        "        square=True, \n",
        "        xticklabels=class_names, \n",
        "        yticklabels=class_names,\n",
        "        fmt='d', \n",
        "        cmap=plt.cm.Blues,\n",
        "        cbar=False,\n",
        "        ax=ax\n",
        "    )\n",
        "    ax.set_title(title, fontsize=16)\n",
        "    ax.set_xticklabels(ax.get_xticklabels(), rotation=45, ha=\"right\")\n",
        "    ax.set_ylabel('True Label', fontsize=12)\n",
        "    ax.set_xlabel('Predicted Label', fontsize=12)\n",
        "\n",
        "fig, (ax1) = plt.subplots(1,figsize=(20, 10))\n",
        "    \n",
        "plot_heatmap(true_classes, VGG19_pred_classes, class_names, ax1, title=\"Fusion Model VGG19\")    \n",
        "\n",
        "fig.suptitle(\"Confusion Matrix Model Comparison\", fontsize=24)\n",
        "fig.tight_layout()\n",
        "fig.subplots_adjust(top=1.25)\n",
        "plt.show()"
      ],
      "metadata": {
        "colab": {
          "base_uri": "https://localhost:8080/",
          "height": 938
        },
        "id": "CZMCY5nZMilK",
        "outputId": "3a9bc0ea-6658-46f7-ba54-4382ad7b25ce"
      },
      "execution_count": 23,
      "outputs": [
        {
          "output_type": "display_data",
          "data": {
            "text/plain": [
              "<Figure size 1440x720 with 1 Axes>"
            ],
            "image/png": "[encoded data removed]"
          },
          "metadata": {
            "needs_background": "light"
          }
        }
      ]
    },
    {
      "cell_type": "code",
      "source": [],
      "metadata": {
        "id": "g9YHnbVvMizb"
      },
      "execution_count": null,
      "outputs": []
    }
  ]
}