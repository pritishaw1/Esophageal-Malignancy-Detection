{
  "nbformat": 4,
  "nbformat_minor": 0,
  "metadata": {
    "colab": {
      "provenance": []
    },
    "kernelspec": {
      "name": "python3",
      "display_name": "Python 3"
    },
    "language_info": {
      "name": "python"
    },
    "gpuClass": "standard"
  },
  "cells": [
    {
      "cell_type": "code",
      "execution_count": null,
      "metadata": {
        "id": "wA895Ha2LNEr"
      },
      "outputs": [],
      "source": [
        "from google.colab import drive"
      ]
    },
    {
      "cell_type": "code",
      "source": [
        "drive.mount('/content/drive')"
      ],
      "metadata": {
        "colab": {
          "base_uri": "https://localhost:8080/"
        },
        "id": "DBPw80iMLjPW",
        "outputId": "d84050fb-4619-40fa-bb26-93fbc27d38e3"
      },
      "execution_count": null,
      "outputs": [
        {
          "output_type": "stream",
          "name": "stdout",
          "text": [
            "Mounted at /content/drive\n"
          ]
        }
      ]
    },
    {
      "cell_type": "code",
      "source": [
        "root_path = '/content/drive/MyDrive/Kvasir'"
      ],
      "metadata": {
        "id": "MxAAO7h0LzcM"
      },
      "execution_count": null,
      "outputs": []
    },
    {
      "cell_type": "code",
      "source": [
        "import numpy as np\n",
        "import matplotlib.pyplot as plt\n",
        "import keras\n",
        "from keras.layers import *\n",
        "from keras.models import *\n",
        "from keras.preprocessing import image\n",
        "import os\n",
        "from keras.models import Model\n",
        "from keras.preprocessing.image import ImageDataGenerator\n",
        "from keras.callbacks import ModelCheckpoint, EarlyStopping\n",
        "from keras.layers import BatchNormalization\n",
        "from keras.layers import Dense, Dropout, Flatten\n",
        "from pathlib import Path\n",
        "from tensorflow.keras.applications.resnet import ResNet152, preprocess_input"
      ],
      "metadata": {
        "id": "vwOvIyYdL6Ku"
      },
      "execution_count": null,
      "outputs": []
    },
    {
      "cell_type": "code",
      "source": [
        "#Defining paths\n",
        "TRAIN_PATH = \"/content/drive/MyDrive/Kvasir/Train\"\n",
        "TEST_PATH = \"/content/drive/MyDrive/Kvasir/Test\""
      ],
      "metadata": {
        "id": "lpSPDj9DL8l7"
      },
      "execution_count": null,
      "outputs": []
    },
    {
      "cell_type": "code",
      "source": [
        "BATCH_SIZE = 64\n",
        "\n",
        "train_datagen = image.ImageDataGenerator(preprocessing_function=preprocess_input, rotation_range=40, zoom_range=0.2, width_shift_range=0.2, height_shift_range=0.2, shear_range=0.2, horizontal_flip=True, fill_mode=\"nearest\", validation_split=0.1)\n",
        "\n",
        "test_datagen = ImageDataGenerator(preprocessing_function=preprocess_input)"
      ],
      "metadata": {
        "id": "3tOgnv8mL_yU"
      },
      "execution_count": null,
      "outputs": []
    },
    {
      "cell_type": "code",
      "source": [
        "train_generator = train_datagen.flow_from_directory(TRAIN_PATH,\n",
        "                                               target_size=(224, 224),\n",
        "                                               class_mode='categorical',\n",
        "                                               subset='training',\n",
        "                                               batch_size=BATCH_SIZE, \n",
        "                                               shuffle=True,\n",
        "                                               seed=42)\n",
        "\n",
        "validation_generator = train_datagen.flow_from_directory(TRAIN_PATH,\n",
        "                                               target_size=(224, 224),\n",
        "                                               class_mode='categorical',\n",
        "                                               subset='validation',\n",
        "                                               batch_size=BATCH_SIZE,\n",
        "                                               shuffle=True,\n",
        "                                               seed=42)\n",
        "\n",
        "test_generator = test_datagen.flow_from_directory(TEST_PATH,\n",
        "                                             target_size=(224, 224),\n",
        "                                             class_mode=None,\n",
        "                                             batch_size=1,\n",
        "                                             shuffle=False,\n",
        "                                             seed=42)"
      ],
      "metadata": {
        "colab": {
          "base_uri": "https://localhost:8080/"
        },
        "id": "T8S83gfEMDK2",
        "outputId": "57b6fbed-8053-4465-c881-128d47a5acde"
      },
      "execution_count": null,
      "outputs": [
        {
          "output_type": "stream",
          "name": "stdout",
          "text": [
            "Found 6480 images belonging to 8 classes.\n",
            "Found 720 images belonging to 8 classes.\n",
            "Found 800 images belonging to 8 classes.\n"
          ]
        }
      ]
    },
    {
      "cell_type": "code",
      "source": [
        "from tensorflow.keras.layers import Flatten,Conv2D,MaxPooling2D,LSTM,Dropout,TimeDistributed"
      ],
      "metadata": {
        "id": "Cmb972ijMFla"
      },
      "execution_count": null,
      "outputs": []
    },
    {
      "cell_type": "code",
      "source": [
        "from keras.models import Model\n",
        "from keras.layers import Input"
      ],
      "metadata": {
        "id": "AaKNoUlgMJfA"
      },
      "execution_count": null,
      "outputs": []
    },
    {
      "cell_type": "code",
      "source": [
        "def create_model():\n",
        "    \n",
        "    # Pretrained convolutional layers are loaded using the Imagenet weights.\n",
        "    # Include_top is set to False, in order to exclude the model's fully-connected layers.\n",
        "\n",
        "    #target = keras.layers.Reshape(target_shape = (-1 ,224 , 224, 3), input_shape=(224,224,3)\n",
        "\n",
        "    pre_trained_model = ResNet152(input_shape=(224,224,3), include_top = False, weights = 'imagenet')\n",
        "\n",
        "    for layer in pre_trained_model.layers[:-3]:\n",
        "            layer.trainable = False\n",
        "    for layer in pre_trained_model.layers[-3:]:\n",
        "            layer.trainable = True\n",
        "    \n",
        "    #keras.layers.Reshape(target_shape = (-1 ,224 , 224, 3), input_shape=(224,224,3)\n",
        "    x = keras.layers.Reshape(target_shape = (-1,224,224,3))(pre_trained_model.input)\n",
        "    cnn_model = TimeDistributed(pre_trained_model)(x)\n",
        "    cnn_model = TimeDistributed(keras.layers.Flatten())(cnn_model)\n",
        "    cnn_model = TimeDistributed(Dense(1024,activation='relu'))(cnn_model)\n",
        "    cnn_model = TimeDistributed(Dropout(0.5))(cnn_model)\n",
        "    cnn_model = TimeDistributed(keras.layers.BatchNormalization())(cnn_model)\n",
        "    #LSTM\n",
        "    top_model = LSTM(200, activation='tanh', dropout=0.2, return_sequences=True)(cnn_model)\n",
        "    top_model = LSTM(100, activation='tanh', dropout=0.2, return_sequences=True)(top_model)\n",
        "    top_model = LSTM(50, activation='tanh', dropout=0.2, return_sequences=False)(top_model)\n",
        "\n",
        "    top_model = Dense(128,activation='relu')(top_model)\n",
        "    top_model = Dropout(0.5)(top_model)\n",
        "    top_model = keras.layers.BatchNormalization()(top_model)\n",
        "    top_model = Dense(64,activation='relu')(top_model)\n",
        "    top_model = Dropout(0.5)(top_model)\n",
        "    top_model = keras.layers.BatchNormalization()(top_model)\n",
        "    top_model = Dense(32,activation='relu')(top_model)\n",
        "    top_model = Dropout(0.5)(top_model)\n",
        "    top_model = keras.layers.BatchNormalization()(top_model)\n",
        "    output_layer = Dense(8, activation='softmax')(top_model)\n",
        "    \n",
        "    # Group the convolutional base and new fully-connected layers into a Model object.\n",
        "    #model = Model([target], output_layer)\n",
        "    model = Model(inputs=pre_trained_model.input, outputs=output_layer)\n",
        "\n",
        "    # Compiles the model for training.\n",
        "    model.compile(optimizer=keras.optimizers.RMSprop(learning_rate = 1e-4, decay=1e-4/30), \n",
        "                  loss='categorical_crossentropy',\n",
        "                  metrics=['accuracy'])\n",
        "    \n",
        "    return model"
      ],
      "metadata": {
        "id": "i8i4XHPYMM2F"
      },
      "execution_count": null,
      "outputs": []
    },
    {
      "cell_type": "code",
      "source": [
        "ResNet_model = create_model()"
      ],
      "metadata": {
        "colab": {
          "base_uri": "https://localhost:8080/"
        },
        "id": "m5ytgHe6MRYo",
        "outputId": "f123bf1f-c0f1-4329-f264-f341d25fd4ad"
      },
      "execution_count": null,
      "outputs": [
        {
          "output_type": "stream",
          "name": "stdout",
          "text": [
            "Downloading data from https://storage.googleapis.com/tensorflow/keras-applications/resnet/resnet152_weights_tf_dim_ordering_tf_kernels_notop.h5\n",
            "234698864/234698864 [==============================] - 8s 0us/step\n"
          ]
        }
      ]
    },
    {
      "cell_type": "code",
      "source": [
        "ResNet_model.summary()"
      ],
      "metadata": {
        "colab": {
          "base_uri": "https://localhost:8080/"
        },
        "id": "DCuneTBLMUCl",
        "outputId": "7399aac0-a2cf-40cf-a43a-8b3cc5a9b447"
      },
      "execution_count": null,
      "outputs": [
        {
          "output_type": "stream",
          "name": "stdout",
          "text": [
            "Model: \"model\"\n",
            "_________________________________________________________________\n",
            " Layer (type)                Output Shape              Param #   \n",
            "=================================================================\n",
            " input_1 (InputLayer)        [(None, 224, 224, 3)]     0         \n",
            "                                                                 \n",
            " reshape (Reshape)           (None, 1, 224, 224, 3)    0         \n",
            "                                                                 \n",
            " time_distributed (TimeDistr  (None, 1, 7, 7, 2048)    58370944  \n",
            " ibuted)                                                         \n",
            "                                                                 \n",
            " time_distributed_1 (TimeDis  (None, 1, 100352)        0         \n",
            " tributed)                                                       \n",
            "                                                                 \n",
            " time_distributed_2 (TimeDis  (None, 1, 1024)          102761472 \n",
            " tributed)                                                       \n",
            "                                                                 \n",
            " time_distributed_3 (TimeDis  (None, 1, 1024)          0         \n",
            " tributed)                                                       \n",
            "                                                                 \n",
            " time_distributed_4 (TimeDis  (None, 1, 1024)          4096      \n",
            " tributed)                                                       \n",
            "                                                                 \n",
            " lstm (LSTM)                 (None, 1, 200)            980000    \n",
            "                                                                 \n",
            " lstm_1 (LSTM)               (None, 1, 100)            120400    \n",
            "                                                                 \n",
            " lstm_2 (LSTM)               (None, 50)                30200     \n",
            "                                                                 \n",
            " dense_1 (Dense)             (None, 128)               6528      \n",
            "                                                                 \n",
            " dropout_1 (Dropout)         (None, 128)               0         \n",
            "                                                                 \n",
            " batch_normalization_1 (Batc  (None, 128)              512       \n",
            " hNormalization)                                                 \n",
            "                                                                 \n",
            " dense_2 (Dense)             (None, 64)                8256      \n",
            "                                                                 \n",
            " dropout_2 (Dropout)         (None, 64)                0         \n",
            "                                                                 \n",
            " batch_normalization_2 (Batc  (None, 64)               256       \n",
            " hNormalization)                                                 \n",
            "                                                                 \n",
            " dense_3 (Dense)             (None, 32)                2080      \n",
            "                                                                 \n",
            " dropout_3 (Dropout)         (None, 32)                0         \n",
            "                                                                 \n",
            " batch_normalization_3 (Batc  (None, 32)               128       \n",
            " hNormalization)                                                 \n",
            "                                                                 \n",
            " dense_4 (Dense)             (None, 8)                 264       \n",
            "                                                                 \n",
            "=================================================================\n",
            "Total params: 162,285,136\n",
            "Trainable params: 103,915,792\n",
            "Non-trainable params: 58,369,344\n",
            "_________________________________________________________________\n"
          ]
        }
      ]
    },
    {
      "cell_type": "code",
      "source": [
        "# ModelCheckpoint callback - save best weights\n",
        "tl_checkpoint_1 = ModelCheckpoint(filepath='tl_model_v1.weights.best.hdf5',\n",
        "                                  save_best_only=True,\n",
        "                                  verbose=1)\n",
        "\n",
        "# EarlyStopping\n",
        "early_stop = EarlyStopping(monitor='val_loss',\n",
        "                           patience=10,\n",
        "                           restore_best_weights=True,\n",
        "                           mode='min')\n",
        "#CNN - Spatial features\n",
        "#LSTM - Sequential information"
      ],
      "metadata": {
        "id": "NxxQC74AMZQV"
      },
      "execution_count": null,
      "outputs": []
    },
    {
      "cell_type": "code",
      "source": [
        "ResNet_history = ResNet_model.fit(train_generator,\n",
        "                            batch_size=BATCH_SIZE,\n",
        "                            epochs=30,\n",
        "                            validation_data=validation_generator,\n",
        "                            callbacks=[tl_checkpoint_1, early_stop],\n",
        "                            verbose=1)"
      ],
      "metadata": {
        "id": "p59zEValy3OM"
      },
      "execution_count": null,
      "outputs": []
    },
    {
      "cell_type": "code",
      "source": [
        "# Generate predictions\n",
        "ResNet_model.load_weights('tl_model_v1.weights.best.hdf5') # initialize the best trained weights"
      ],
      "metadata": {
        "id": "98nwMI7jMfSP"
      },
      "execution_count": null,
      "outputs": []
    },
    {
      "cell_type": "code",
      "source": [
        "true_classes = test_generator.classes\n",
        "class_indices = train_generator.class_indices\n",
        "class_indices = dict((v,k) for k,v in class_indices.items())\n",
        "\n",
        "ResNet_preds = ResNet_model.predict(test_generator)\n",
        "ResNet_pred_classes = np.argmax(ResNet_preds, axis=1)"
      ],
      "metadata": {
        "colab": {
          "base_uri": "https://localhost:8080/"
        },
        "id": "PeAloHf9MiV3",
        "outputId": "3f4c3015-cf8b-4030-9521-d45637005a8e"
      },
      "execution_count": null,
      "outputs": [
        {
          "output_type": "stream",
          "name": "stdout",
          "text": [
            "800/800 [==============================] - 392s 483ms/step\n"
          ]
        }
      ]
    },
    {
      "cell_type": "code",
      "source": [
        "from sklearn.metrics import accuracy_score\n",
        "ResNet_acc = accuracy_score(true_classes, ResNet_pred_classes)\n",
        "print(\"ResNet Model Accuracy: {:.2f}%\".format(ResNet_acc * 100))"
      ],
      "metadata": {
        "colab": {
          "base_uri": "https://localhost:8080/"
        },
        "id": "-aobL9TzMiYK",
        "outputId": "ea0cc0d2-75ef-4fc0-d478-90ca0f12e7bd"
      },
      "execution_count": null,
      "outputs": [
        {
          "output_type": "stream",
          "name": "stdout",
          "text": [
            "ResNet Model Accuracy: 88.25%\n"
          ]
        }
      ]
    },
    {
      "cell_type": "code",
      "source": [
        "labels = os.listdir(TRAIN_PATH)"
      ],
      "metadata": {
        "id": "s2NT8VTFMiax"
      },
      "execution_count": null,
      "outputs": []
    },
    {
      "cell_type": "code",
      "source": [
        "from sklearn.metrics import classification_report, confusion_matrix\n",
        "\n",
        "print(classification_report(true_classes,ResNet_pred_classes,target_names = labels))"
      ],
      "metadata": {
        "colab": {
          "base_uri": "https://localhost:8080/"
        },
        "id": "RpUbErwoMidF",
        "outputId": "8e8a345c-75cd-4197-dfcf-ffaadeebbffd"
      },
      "execution_count": null,
      "outputs": [
        {
          "output_type": "stream",
          "name": "stdout",
          "text": [
            "                        precision    recall  f1-score   support\n",
            "\n",
            "         normal-z-line       0.87      0.83      0.85       100\n",
            "        normal-pylorus       0.85      0.88      0.87       100\n",
            "dyed-resection-margins       0.78      0.72      0.75       100\n",
            "          normal-cecum       0.95      0.97      0.96       100\n",
            "    ulcerative-colitis       0.96      1.00      0.98       100\n",
            "                polyps       0.75      0.81      0.78       100\n",
            "           esophagitis       0.95      0.89      0.92       100\n",
            "    dyed-lifted-polyps       0.94      0.96      0.95       100\n",
            "\n",
            "              accuracy                           0.88       800\n",
            "             macro avg       0.88      0.88      0.88       800\n",
            "          weighted avg       0.88      0.88      0.88       800\n",
            "\n"
          ]
        }
      ]
    },
    {
      "cell_type": "code",
      "source": [
        "from sklearn.metrics import precision_score\n",
        "precision_score(true_classes, ResNet_pred_classes, average='micro')"
      ],
      "metadata": {
        "colab": {
          "base_uri": "https://localhost:8080/"
        },
        "id": "D-84I4egMifr",
        "outputId": "5d76cde9-1ddd-4670-d39d-6cd4db97d374"
      },
      "execution_count": null,
      "outputs": [
        {
          "output_type": "execute_result",
          "data": {
            "text/plain": [
              "0.8825"
            ]
          },
          "metadata": {},
          "execution_count": 21
        }
      ]
    },
    {
      "cell_type": "code",
      "source": [
        "from sklearn.metrics import recall_score\n",
        "recall_score(true_classes, ResNet_pred_classes, average='micro')"
      ],
      "metadata": {
        "colab": {
          "base_uri": "https://localhost:8080/"
        },
        "id": "-WJekC66Mihm",
        "outputId": "9542d1b7-0c25-44f7-a514-1b1228b53fe1"
      },
      "execution_count": null,
      "outputs": [
        {
          "output_type": "execute_result",
          "data": {
            "text/plain": [
              "0.8825"
            ]
          },
          "metadata": {},
          "execution_count": 22
        }
      ]
    },
    {
      "cell_type": "code",
      "source": [
        "import seaborn as sns\n",
        "from sklearn.metrics import confusion_matrix\n",
        "\n",
        "# Get the names of the ten classes\n",
        "class_names = test_generator.class_indices.keys()\n",
        "\n",
        "def plot_heatmap(y_true, y_pred, class_names, ax, title):\n",
        "    cm = confusion_matrix(y_true, y_pred)\n",
        "    sns.heatmap(\n",
        "        cm, \n",
        "        annot=True, \n",
        "        square=True, \n",
        "        xticklabels=class_names, \n",
        "        yticklabels=class_names,\n",
        "        fmt='d', \n",
        "        cmap=plt.cm.Blues,\n",
        "        cbar=False,\n",
        "        ax=ax\n",
        "    )\n",
        "    ax.set_title(title, fontsize=16)\n",
        "    ax.set_xticklabels(ax.get_xticklabels(), rotation=45, ha=\"right\")\n",
        "    ax.set_ylabel('True Label', fontsize=12)\n",
        "    ax.set_xlabel('Predicted Label', fontsize=12)\n",
        "\n",
        "fig, (ax1) = plt.subplots(1,figsize=(20, 10))\n",
        "    \n",
        "plot_heatmap(true_classes, ResNet_pred_classes, class_names, ax1, title=\"Fusion Model ResNet\")    \n",
        "\n",
        "fig.suptitle(\"Confusion Matrix Model Comparison\", fontsize=24)\n",
        "fig.tight_layout()\n",
        "fig.subplots_adjust(top=1.25)\n",
        "plt.show()"
      ],
      "metadata": {
        "colab": {
          "base_uri": "https://localhost:8080/",
          "height": 938
        },
        "id": "CZMCY5nZMilK",
        "outputId": "52f2ad27-4cbd-48c0-c24e-b55b1acc0001"
      },
      "execution_count": null,
      "outputs": [
        {
          "output_type": "display_data",
          "data": {
            "text/plain": [
              "<Figure size 1440x720 with 1 Axes>"
            ],
            "image/png": "[encoded data removed]"
          },
          "metadata": {
            "needs_background": "light"
          }
        }
      ]
    },
    {
      "cell_type": "code",
      "source": [],
      "metadata": {
        "id": "g9YHnbVvMizb"
      },
      "execution_count": null,
      "outputs": []
    }
  ]
}