{
  "nbformat": 4,
  "nbformat_minor": 0,
  "metadata": {
    "colab": {
      "provenance": []
    },
    "kernelspec": {
      "name": "python3",
      "display_name": "Python 3"
    },
    "language_info": {
      "name": "python"
    },
    "gpuClass": "standard"
  },
  "cells": [
    {
      "cell_type": "code",
      "execution_count": null,
      "metadata": {
        "id": "vhlHO8NYlDnL"
      },
      "outputs": [],
      "source": [
        "from google.colab import drive"
      ]
    },
    {
      "cell_type": "code",
      "source": [
        "drive.mount('/content/drive')"
      ],
      "metadata": {
        "colab": {
          "base_uri": "https://localhost:8080/"
        },
        "id": "N6IDZZ0AlFq4",
        "outputId": "dd1d8d44-d3b9-45b0-8f5f-7df1d976959b"
      },
      "execution_count": null,
      "outputs": [
        {
          "output_type": "stream",
          "name": "stdout",
          "text": [
            "Mounted at /content/drive\n"
          ]
        }
      ]
    },
    {
      "cell_type": "code",
      "source": [
        "root_path = '/content/drive/MyDrive/Kvasir'"
      ],
      "metadata": {
        "id": "gTW5gKE4lTQG"
      },
      "execution_count": null,
      "outputs": []
    },
    {
      "cell_type": "code",
      "source": [
        "import numpy as np\n",
        "import matplotlib.pyplot as plt\n",
        "import keras\n",
        "from keras.layers import *\n",
        "from keras.models import * \n",
        "from keras.preprocessing import image\n",
        "import os\n",
        "from keras.models import Model\n",
        "from tensorflow.keras.optimizers import Adam\n",
        "from tensorflow.keras.applications.inception_v3 import InceptionV3, preprocess_input\n",
        "from keras.preprocessing.image import ImageDataGenerator\n",
        "from keras.callbacks import ModelCheckpoint, EarlyStopping\n",
        "from keras.layers import Dense, Dropout, Flatten\n",
        "from pathlib import Path\n",
        "import numpy as np"
      ],
      "metadata": {
        "id": "qLh2pcJSlcFT"
      },
      "execution_count": null,
      "outputs": []
    },
    {
      "cell_type": "code",
      "source": [
        "#Defining paths\n",
        "TRAIN_PATH = \"/content/drive/MyDrive/Kvasir/Train\"\n",
        "TEST_PATH = \"/content/drive/MyDrive/Kvasir/Test\""
      ],
      "metadata": {
        "id": "z7As9ZXmlf81"
      },
      "execution_count": null,
      "outputs": []
    },
    {
      "cell_type": "code",
      "source": [
        "BATCH_SIZE = 64\n",
        "\n",
        "train_datagen = image.ImageDataGenerator(preprocessing_function=preprocess_input, rotation_range=40, zoom_range=0.2, width_shift_range=0.2, height_shift_range=0.2, shear_range=0.2, horizontal_flip=True, fill_mode=\"nearest\", validation_split=0.1)\n",
        "\n",
        "test_datagen = ImageDataGenerator(preprocessing_function=preprocess_input)"
      ],
      "metadata": {
        "id": "cSJWBDMdlzZQ"
      },
      "execution_count": null,
      "outputs": []
    },
    {
      "cell_type": "code",
      "source": [
        "train_generator = train_datagen.flow_from_directory(TRAIN_PATH,\n",
        "                                               target_size=(224, 224),\n",
        "                                               class_mode='categorical',\n",
        "                                               subset='training',\n",
        "                                               batch_size=BATCH_SIZE, \n",
        "                                               shuffle=True,\n",
        "                                               seed=42)\n",
        "\n",
        "validation_generator = train_datagen.flow_from_directory(TRAIN_PATH,\n",
        "                                               target_size=(224, 224),\n",
        "                                               class_mode='categorical',\n",
        "                                               subset='validation',\n",
        "                                               batch_size=BATCH_SIZE,\n",
        "                                               shuffle=True,\n",
        "                                               seed=42)\n",
        "\n",
        "test_generator = test_datagen.flow_from_directory(TEST_PATH,\n",
        "                                             target_size=(224, 224),\n",
        "                                             class_mode=None,\n",
        "                                             batch_size=1,\n",
        "                                             shuffle=False,\n",
        "                                             seed=42)"
      ],
      "metadata": {
        "colab": {
          "base_uri": "https://localhost:8080/"
        },
        "id": "MOmL6xohl2_G",
        "outputId": "a65b131b-44e2-4823-e6ff-87a99fa69539"
      },
      "execution_count": null,
      "outputs": [
        {
          "output_type": "stream",
          "name": "stdout",
          "text": [
            "Found 6480 images belonging to 8 classes.\n",
            "Found 720 images belonging to 8 classes.\n",
            "Found 800 images belonging to 8 classes.\n"
          ]
        }
      ]
    },
    {
      "cell_type": "code",
      "source": [
        "from tensorflow.keras.layers import Flatten,Conv2D,MaxPooling2D,LSTM,Dropout,TimeDistributed"
      ],
      "metadata": {
        "id": "1tmGHOANl51g"
      },
      "execution_count": null,
      "outputs": []
    },
    {
      "cell_type": "code",
      "source": [
        "from keras.models import Model\n",
        "from keras.layers import Input"
      ],
      "metadata": {
        "id": "Lg8D2rqMl-kE"
      },
      "execution_count": null,
      "outputs": []
    },
    {
      "cell_type": "code",
      "source": [
        "def create_model():\n",
        "    \n",
        "    # Pretrained convolutional layers are loaded using the Imagenet weights.\n",
        "    # Include_top is set to False, in order to exclude the model's fully-connected layers.\n",
        "\n",
        "    #target = keras.layers.Reshape(target_shape = (-1 ,224 , 224, 3), input_shape=(224,224,3)\n",
        "\n",
        "    pre_trained_model = InceptionV3(input_shape=(224,224,3), include_top = False, weights = 'imagenet')\n",
        "\n",
        "    for layer in pre_trained_model.layers[:-3]:\n",
        "            layer.trainable = False\n",
        "    for layer in pre_trained_model.layers[-3:]:\n",
        "            layer.trainable = True\n",
        "    \n",
        "    #keras.layers.Reshape(target_shape = (-1 ,224 , 224, 3), input_shape=(224,224,3)\n",
        "    x = keras.layers.Reshape(target_shape = (-1,224,224,3))(pre_trained_model.input)\n",
        "    cnn_model = TimeDistributed(pre_trained_model)(x)\n",
        "    cnn_model = TimeDistributed(keras.layers.Flatten())(cnn_model)\n",
        "    cnn_model = TimeDistributed(Dense(1024,activation='relu'))(cnn_model)\n",
        "    cnn_model = TimeDistributed(Dropout(0.5))(cnn_model)\n",
        "    cnn_model = TimeDistributed(keras.layers.BatchNormalization())(cnn_model)\n",
        "    #LSTM\n",
        "    top_model = LSTM(200, activation='tanh', dropout=0.2, return_sequences=True)(cnn_model)\n",
        "    top_model = LSTM(100, activation='tanh', dropout=0.2, return_sequences=True)(top_model)\n",
        "    top_model = LSTM(50, activation='tanh', dropout=0.2, return_sequences=False)(top_model)\n",
        "\n",
        "    top_model = Dense(128,activation='relu')(top_model)\n",
        "    top_model = Dropout(0.5)(top_model)\n",
        "    top_model = keras.layers.BatchNormalization()(top_model)\n",
        "    top_model = Dense(64,activation='relu')(top_model)\n",
        "    top_model = Dropout(0.5)(top_model)\n",
        "    top_model = keras.layers.BatchNormalization()(top_model)\n",
        "    top_model = Dense(32,activation='relu')(top_model)\n",
        "    top_model = Dropout(0.5)(top_model)\n",
        "    top_model = keras.layers.BatchNormalization()(top_model)\n",
        "    output_layer = Dense(8, activation='softmax')(top_model)\n",
        "    \n",
        "    # Group the convolutional base and new fully-connected layers into a Model object.\n",
        "    #model = Model([target], output_layer)\n",
        "    model = Model(inputs=pre_trained_model.input, outputs=output_layer)\n",
        "\n",
        "    # Compiles the model for training.\n",
        "    model.compile(optimizer=keras.optimizers.RMSprop(learning_rate = 1e-4, decay=1e-4/30), \n",
        "                  loss='categorical_crossentropy',\n",
        "                  metrics=['accuracy'])\n",
        "    \n",
        "    return model"
      ],
      "metadata": {
        "id": "-sklV2dWmBMl"
      },
      "execution_count": null,
      "outputs": []
    },
    {
      "cell_type": "code",
      "source": [
        "InceptionV3_model = create_model()"
      ],
      "metadata": {
        "id": "q1YlO8W7muKs",
        "colab": {
          "base_uri": "https://localhost:8080/"
        },
        "outputId": "3bcf7e2f-dc64-41fe-d6d5-4eb2e1484bcc"
      },
      "execution_count": null,
      "outputs": [
        {
          "output_type": "stream",
          "name": "stdout",
          "text": [
            "Downloading data from https://storage.googleapis.com/tensorflow/keras-applications/inception_v3/inception_v3_weights_tf_dim_ordering_tf_kernels_notop.h5\n",
            "87910968/87910968 [==============================] - 3s 0us/step\n"
          ]
        }
      ]
    },
    {
      "cell_type": "code",
      "source": [
        "InceptionV3_model.summary()"
      ],
      "metadata": {
        "id": "gHCZv2dsmuMU",
        "colab": {
          "base_uri": "https://localhost:8080/"
        },
        "outputId": "d3ee8080-9ef1-48a7-d04a-1a519e2557c4"
      },
      "execution_count": null,
      "outputs": [
        {
          "output_type": "stream",
          "name": "stdout",
          "text": [
            "Model: \"model\"\n",
            "_________________________________________________________________\n",
            " Layer (type)                Output Shape              Param #   \n",
            "=================================================================\n",
            " input_1 (InputLayer)        [(None, 224, 224, 3)]     0         \n",
            "                                                                 \n",
            " reshape (Reshape)           (None, 1, 224, 224, 3)    0         \n",
            "                                                                 \n",
            " time_distributed (TimeDistr  (None, 1, 5, 5, 2048)    21802784  \n",
            " ibuted)                                                         \n",
            "                                                                 \n",
            " time_distributed_1 (TimeDis  (None, 1, 51200)         0         \n",
            " tributed)                                                       \n",
            "                                                                 \n",
            " time_distributed_2 (TimeDis  (None, 1, 1024)          52429824  \n",
            " tributed)                                                       \n",
            "                                                                 \n",
            " time_distributed_3 (TimeDis  (None, 1, 1024)          0         \n",
            " tributed)                                                       \n",
            "                                                                 \n",
            " time_distributed_4 (TimeDis  (None, 1, 1024)          4096      \n",
            " tributed)                                                       \n",
            "                                                                 \n",
            " lstm (LSTM)                 (None, 1, 200)            980000    \n",
            "                                                                 \n",
            " lstm_1 (LSTM)               (None, 1, 100)            120400    \n",
            "                                                                 \n",
            " lstm_2 (LSTM)               (None, 50)                30200     \n",
            "                                                                 \n",
            " dense_1 (Dense)             (None, 128)               6528      \n",
            "                                                                 \n",
            " dropout_1 (Dropout)         (None, 128)               0         \n",
            "                                                                 \n",
            " batch_normalization_95 (Bat  (None, 128)              512       \n",
            " chNormalization)                                                \n",
            "                                                                 \n",
            " dense_2 (Dense)             (None, 64)                8256      \n",
            "                                                                 \n",
            " dropout_2 (Dropout)         (None, 64)                0         \n",
            "                                                                 \n",
            " batch_normalization_96 (Bat  (None, 64)               256       \n",
            " chNormalization)                                                \n",
            "                                                                 \n",
            " dense_3 (Dense)             (None, 32)                2080      \n",
            "                                                                 \n",
            " dropout_3 (Dropout)         (None, 32)                0         \n",
            "                                                                 \n",
            " batch_normalization_97 (Bat  (None, 32)               128       \n",
            " chNormalization)                                                \n",
            "                                                                 \n",
            " dense_4 (Dense)             (None, 8)                 264       \n",
            "                                                                 \n",
            "=================================================================\n",
            "Total params: 75,385,328\n",
            "Trainable params: 53,580,048\n",
            "Non-trainable params: 21,805,280\n",
            "_________________________________________________________________\n"
          ]
        }
      ]
    },
    {
      "cell_type": "code",
      "source": [
        "# ModelCheckpoint callback - save best weights\n",
        "tl_checkpoint_1 = ModelCheckpoint(filepath='tl_model_v1.weights.best.hdf5',\n",
        "                                  save_best_only=True,\n",
        "                                  verbose=1)\n",
        "\n",
        "# EarlyStopping\n",
        "early_stop = EarlyStopping(monitor='val_loss',\n",
        "                           patience=10,\n",
        "                           restore_best_weights=True,\n",
        "                           mode='min')\n",
        "#CNN - Spatial features\n",
        "#LSTM - Sequential information"
      ],
      "metadata": {
        "id": "mtwSehpRmuQZ"
      },
      "execution_count": null,
      "outputs": []
    },
    {
      "cell_type": "code",
      "source": [
        "InceptionV3_history = InceptionV3_model.fit(train_generator,\n",
        "                            batch_size=BATCH_SIZE,\n",
        "                            epochs=30,\n",
        "                            validation_data=validation_generator,\n",
        "                            callbacks=[tl_checkpoint_1, early_stop],\n",
        "                            verbose=1)"
      ],
      "metadata": {
        "id": "SC8OuKmdmuSR",
        "colab": {
          "base_uri": "https://localhost:8080/"
        },
        "outputId": "e63f4dfb-ced8-4545-b28b-b05453c4a1c7"
      },
      "execution_count": null,
      "outputs": [
        {
          "output_type": "stream",
          "name": "stdout",
          "text": [
            "Epoch 1/30\n",
            "102/102 [==============================] - ETA: 0s - loss: 2.5503 - accuracy: 0.1406 \n",
            "Epoch 1: val_loss improved from inf to 2.10785, saving model to tl_model_v1.weights.best.hdf5\n",
            "102/102 [==============================] - 2868s 28s/step - loss: 2.5503 - accuracy: 0.1406 - val_loss: 2.1079 - val_accuracy: 0.1250\n",
            "Epoch 2/30\n",
            "102/102 [==============================] - ETA: 0s - loss: 2.3198 - accuracy: 0.1873\n",
            "Epoch 2: val_loss did not improve from 2.10785\n",
            "102/102 [==============================] - 193s 2s/step - loss: 2.3198 - accuracy: 0.1873 - val_loss: 2.1095 - val_accuracy: 0.1250\n",
            "Epoch 3/30\n",
            "102/102 [==============================] - ETA: 0s - loss: 2.1672 - accuracy: 0.2176\n",
            "Epoch 3: val_loss improved from 2.10785 to 2.08021, saving model to tl_model_v1.weights.best.hdf5\n",
            "102/102 [==============================] - 193s 2s/step - loss: 2.1672 - accuracy: 0.2176 - val_loss: 2.0802 - val_accuracy: 0.1250\n",
            "Epoch 4/30\n",
            "102/102 [==============================] - ETA: 0s - loss: 2.0257 - accuracy: 0.2441\n",
            "Epoch 4: val_loss improved from 2.08021 to 1.94350, saving model to tl_model_v1.weights.best.hdf5\n",
            "102/102 [==============================] - 191s 2s/step - loss: 2.0257 - accuracy: 0.2441 - val_loss: 1.9435 - val_accuracy: 0.1611\n",
            "Epoch 5/30\n",
            "102/102 [==============================] - ETA: 0s - loss: 1.9211 - accuracy: 0.2785\n",
            "Epoch 5: val_loss improved from 1.94350 to 1.77905, saving model to tl_model_v1.weights.best.hdf5\n",
            "102/102 [==============================] - 191s 2s/step - loss: 1.9211 - accuracy: 0.2785 - val_loss: 1.7790 - val_accuracy: 0.3625\n",
            "Epoch 6/30\n",
            "102/102 [==============================] - ETA: 0s - loss: 1.8368 - accuracy: 0.3093\n",
            "Epoch 6: val_loss improved from 1.77905 to 1.54590, saving model to tl_model_v1.weights.best.hdf5\n",
            "102/102 [==============================] - 191s 2s/step - loss: 1.8368 - accuracy: 0.3093 - val_loss: 1.5459 - val_accuracy: 0.5458\n",
            "Epoch 7/30\n",
            "102/102 [==============================] - ETA: 0s - loss: 1.7640 - accuracy: 0.3367\n",
            "Epoch 7: val_loss improved from 1.54590 to 1.40291, saving model to tl_model_v1.weights.best.hdf5\n",
            "102/102 [==============================] - 191s 2s/step - loss: 1.7640 - accuracy: 0.3367 - val_loss: 1.4029 - val_accuracy: 0.6194\n",
            "Epoch 8/30\n",
            "102/102 [==============================] - ETA: 0s - loss: 1.7007 - accuracy: 0.3446\n",
            "Epoch 8: val_loss improved from 1.40291 to 1.26227, saving model to tl_model_v1.weights.best.hdf5\n",
            "102/102 [==============================] - 190s 2s/step - loss: 1.7007 - accuracy: 0.3446 - val_loss: 1.2623 - val_accuracy: 0.6708\n",
            "Epoch 9/30\n",
            "102/102 [==============================] - ETA: 0s - loss: 1.6315 - accuracy: 0.3804\n",
            "Epoch 9: val_loss improved from 1.26227 to 1.14990, saving model to tl_model_v1.weights.best.hdf5\n",
            "102/102 [==============================] - 191s 2s/step - loss: 1.6315 - accuracy: 0.3804 - val_loss: 1.1499 - val_accuracy: 0.7153\n",
            "Epoch 10/30\n",
            "102/102 [==============================] - ETA: 0s - loss: 1.5756 - accuracy: 0.4037\n",
            "Epoch 10: val_loss improved from 1.14990 to 1.13529, saving model to tl_model_v1.weights.best.hdf5\n",
            "102/102 [==============================] - 190s 2s/step - loss: 1.5756 - accuracy: 0.4037 - val_loss: 1.1353 - val_accuracy: 0.7000\n",
            "Epoch 11/30\n",
            "102/102 [==============================] - ETA: 0s - loss: 1.4893 - accuracy: 0.4370\n",
            "Epoch 11: val_loss improved from 1.13529 to 1.03299, saving model to tl_model_v1.weights.best.hdf5\n",
            "102/102 [==============================] - 192s 2s/step - loss: 1.4893 - accuracy: 0.4370 - val_loss: 1.0330 - val_accuracy: 0.7278\n",
            "Epoch 12/30\n",
            "102/102 [==============================] - ETA: 0s - loss: 1.4672 - accuracy: 0.4429\n",
            "Epoch 12: val_loss improved from 1.03299 to 1.01382, saving model to tl_model_v1.weights.best.hdf5\n",
            "102/102 [==============================] - 193s 2s/step - loss: 1.4672 - accuracy: 0.4429 - val_loss: 1.0138 - val_accuracy: 0.7264\n",
            "Epoch 13/30\n",
            "102/102 [==============================] - ETA: 0s - loss: 1.4136 - accuracy: 0.4664\n",
            "Epoch 13: val_loss improved from 1.01382 to 0.94220, saving model to tl_model_v1.weights.best.hdf5\n",
            "102/102 [==============================] - 192s 2s/step - loss: 1.4136 - accuracy: 0.4664 - val_loss: 0.9422 - val_accuracy: 0.7514\n",
            "Epoch 14/30\n",
            "102/102 [==============================] - ETA: 0s - loss: 1.3830 - accuracy: 0.4810\n",
            "Epoch 14: val_loss did not improve from 0.94220\n",
            "102/102 [==============================] - 194s 2s/step - loss: 1.3830 - accuracy: 0.4810 - val_loss: 0.9699 - val_accuracy: 0.7486\n",
            "Epoch 15/30\n",
            "102/102 [==============================] - ETA: 0s - loss: 1.3345 - accuracy: 0.5031\n",
            "Epoch 15: val_loss improved from 0.94220 to 0.84330, saving model to tl_model_v1.weights.best.hdf5\n",
            "102/102 [==============================] - 198s 2s/step - loss: 1.3345 - accuracy: 0.5031 - val_loss: 0.8433 - val_accuracy: 0.7542\n",
            "Epoch 16/30\n",
            "102/102 [==============================] - ETA: 0s - loss: 1.3162 - accuracy: 0.5144\n",
            "Epoch 16: val_loss did not improve from 0.84330\n",
            "102/102 [==============================] - 193s 2s/step - loss: 1.3162 - accuracy: 0.5144 - val_loss: 0.8602 - val_accuracy: 0.7556\n",
            "Epoch 17/30\n",
            "102/102 [==============================] - ETA: 0s - loss: 1.2483 - accuracy: 0.5403\n",
            "Epoch 17: val_loss improved from 0.84330 to 0.79865, saving model to tl_model_v1.weights.best.hdf5\n",
            "102/102 [==============================] - 193s 2s/step - loss: 1.2483 - accuracy: 0.5403 - val_loss: 0.7987 - val_accuracy: 0.7694\n",
            "Epoch 18/30\n",
            "102/102 [==============================] - ETA: 0s - loss: 1.2133 - accuracy: 0.5590\n",
            "Epoch 18: val_loss improved from 0.79865 to 0.78603, saving model to tl_model_v1.weights.best.hdf5\n",
            "102/102 [==============================] - 193s 2s/step - loss: 1.2133 - accuracy: 0.5590 - val_loss: 0.7860 - val_accuracy: 0.7847\n",
            "Epoch 19/30\n",
            "102/102 [==============================] - ETA: 0s - loss: 1.1933 - accuracy: 0.5673\n",
            "Epoch 19: val_loss improved from 0.78603 to 0.78250, saving model to tl_model_v1.weights.best.hdf5\n",
            "102/102 [==============================] - 193s 2s/step - loss: 1.1933 - accuracy: 0.5673 - val_loss: 0.7825 - val_accuracy: 0.7611\n",
            "Epoch 20/30\n",
            "102/102 [==============================] - ETA: 0s - loss: 1.1781 - accuracy: 0.5698\n",
            "Epoch 20: val_loss improved from 0.78250 to 0.74395, saving model to tl_model_v1.weights.best.hdf5\n",
            "102/102 [==============================] - 193s 2s/step - loss: 1.1781 - accuracy: 0.5698 - val_loss: 0.7440 - val_accuracy: 0.7833\n",
            "Epoch 21/30\n",
            "102/102 [==============================] - ETA: 0s - loss: 1.1394 - accuracy: 0.5886\n",
            "Epoch 21: val_loss improved from 0.74395 to 0.73480, saving model to tl_model_v1.weights.best.hdf5\n",
            "102/102 [==============================] - 193s 2s/step - loss: 1.1394 - accuracy: 0.5886 - val_loss: 0.7348 - val_accuracy: 0.7778\n",
            "Epoch 22/30\n",
            "102/102 [==============================] - ETA: 0s - loss: 1.1241 - accuracy: 0.5921\n",
            "Epoch 22: val_loss improved from 0.73480 to 0.69468, saving model to tl_model_v1.weights.best.hdf5\n",
            "102/102 [==============================] - 193s 2s/step - loss: 1.1241 - accuracy: 0.5921 - val_loss: 0.6947 - val_accuracy: 0.7917\n",
            "Epoch 23/30\n",
            "102/102 [==============================] - ETA: 0s - loss: 1.0975 - accuracy: 0.6076\n",
            "Epoch 23: val_loss improved from 0.69468 to 0.69201, saving model to tl_model_v1.weights.best.hdf5\n",
            "102/102 [==============================] - 193s 2s/step - loss: 1.0975 - accuracy: 0.6076 - val_loss: 0.6920 - val_accuracy: 0.7861\n",
            "Epoch 24/30\n",
            "102/102 [==============================] - ETA: 0s - loss: 1.0818 - accuracy: 0.6108\n",
            "Epoch 24: val_loss improved from 0.69201 to 0.64346, saving model to tl_model_v1.weights.best.hdf5\n",
            "102/102 [==============================] - 196s 2s/step - loss: 1.0818 - accuracy: 0.6108 - val_loss: 0.6435 - val_accuracy: 0.8139\n",
            "Epoch 25/30\n",
            "102/102 [==============================] - ETA: 0s - loss: 1.0535 - accuracy: 0.6171\n",
            "Epoch 25: val_loss did not improve from 0.64346\n",
            "102/102 [==============================] - 190s 2s/step - loss: 1.0535 - accuracy: 0.6171 - val_loss: 0.6655 - val_accuracy: 0.7750\n",
            "Epoch 26/30\n",
            "102/102 [==============================] - ETA: 0s - loss: 1.0443 - accuracy: 0.6270\n",
            "Epoch 26: val_loss improved from 0.64346 to 0.64329, saving model to tl_model_v1.weights.best.hdf5\n",
            "102/102 [==============================] - 193s 2s/step - loss: 1.0443 - accuracy: 0.6270 - val_loss: 0.6433 - val_accuracy: 0.7958\n",
            "Epoch 27/30\n",
            "102/102 [==============================] - ETA: 0s - loss: 1.0003 - accuracy: 0.6497\n",
            "Epoch 27: val_loss did not improve from 0.64329\n",
            "102/102 [==============================] - 189s 2s/step - loss: 1.0003 - accuracy: 0.6497 - val_loss: 0.6507 - val_accuracy: 0.7792\n",
            "Epoch 28/30\n",
            "102/102 [==============================] - ETA: 0s - loss: 1.0076 - accuracy: 0.6381\n",
            "Epoch 28: val_loss did not improve from 0.64329\n",
            "102/102 [==============================] - 188s 2s/step - loss: 1.0076 - accuracy: 0.6381 - val_loss: 0.6528 - val_accuracy: 0.7903\n",
            "Epoch 29/30\n",
            "102/102 [==============================] - ETA: 0s - loss: 0.9796 - accuracy: 0.6535\n",
            "Epoch 29: val_loss improved from 0.64329 to 0.62214, saving model to tl_model_v1.weights.best.hdf5\n",
            "102/102 [==============================] - 192s 2s/step - loss: 0.9796 - accuracy: 0.6535 - val_loss: 0.6221 - val_accuracy: 0.7903\n",
            "Epoch 30/30\n",
            "102/102 [==============================] - ETA: 0s - loss: 0.9897 - accuracy: 0.6543\n",
            "Epoch 30: val_loss improved from 0.62214 to 0.59830, saving model to tl_model_v1.weights.best.hdf5\n",
            "102/102 [==============================] - 196s 2s/step - loss: 0.9897 - accuracy: 0.6543 - val_loss: 0.5983 - val_accuracy: 0.7944\n"
          ]
        }
      ]
    },
    {
      "cell_type": "code",
      "source": [
        "# Generate predictions\n",
        "InceptionV3_model.load_weights('tl_model_v1.weights.best.hdf5') # initialize the best trained weights"
      ],
      "metadata": {
        "id": "ssy_Mk7WmuV-"
      },
      "execution_count": null,
      "outputs": []
    },
    {
      "cell_type": "code",
      "source": [
        "true_classes = test_generator.classes\n",
        "class_indices = train_generator.class_indices\n",
        "class_indices = dict((v,k) for k,v in class_indices.items())\n",
        "\n",
        "InceptionV3_preds = InceptionV3_model.predict(test_generator)\n",
        "InceptionV3_pred_classes = np.argmax(InceptionV3_preds, axis=1)"
      ],
      "metadata": {
        "id": "1nQ-OOFTmuY7",
        "colab": {
          "base_uri": "https://localhost:8080/"
        },
        "outputId": "466b8bf1-b6dc-44d8-e83e-f581bb61b7b7"
      },
      "execution_count": null,
      "outputs": [
        {
          "output_type": "stream",
          "name": "stdout",
          "text": [
            "800/800 [==============================] - 382s 474ms/step\n"
          ]
        }
      ]
    },
    {
      "cell_type": "code",
      "source": [
        "from sklearn.metrics import accuracy_score\n",
        "InceptionV3_acc = accuracy_score(true_classes, InceptionV3_pred_classes)\n",
        "print(\"InceptionV3 Model Accuracy: {:.2f}%\".format(InceptionV3_acc * 100))"
      ],
      "metadata": {
        "id": "fa_z24janSy7",
        "colab": {
          "base_uri": "https://localhost:8080/"
        },
        "outputId": "7dd97301-ac83-402c-ad57-9b8a7789f100"
      },
      "execution_count": null,
      "outputs": [
        {
          "output_type": "stream",
          "name": "stdout",
          "text": [
            "InceptionV3 Model Accuracy: 84.00%\n"
          ]
        }
      ]
    },
    {
      "cell_type": "code",
      "source": [
        "labels = os.listdir(TRAIN_PATH)"
      ],
      "metadata": {
        "id": "R1sSI1KvnS1N"
      },
      "execution_count": null,
      "outputs": []
    },
    {
      "cell_type": "code",
      "source": [
        "from sklearn.metrics import classification_report, confusion_matrix\n",
        "\n",
        "print(classification_report(true_classes,InceptionV3_pred_classes,target_names = labels))"
      ],
      "metadata": {
        "id": "hz_m5_eDnS4P",
        "colab": {
          "base_uri": "https://localhost:8080/"
        },
        "outputId": "ddcb4deb-1540-4115-868f-006da73e5b80"
      },
      "execution_count": null,
      "outputs": [
        {
          "output_type": "stream",
          "name": "stdout",
          "text": [
            "                        precision    recall  f1-score   support\n",
            "\n",
            "         normal-z-line       0.81      0.75      0.78       100\n",
            "        normal-pylorus       0.79      0.84      0.82       100\n",
            "dyed-resection-margins       0.81      0.64      0.72       100\n",
            "          normal-cecum       0.88      0.92      0.90       100\n",
            "    ulcerative-colitis       0.90      0.96      0.93       100\n",
            "                polyps       0.71      0.84      0.77       100\n",
            "           esophagitis       0.92      0.86      0.89       100\n",
            "    dyed-lifted-polyps       0.92      0.91      0.91       100\n",
            "\n",
            "              accuracy                           0.84       800\n",
            "             macro avg       0.84      0.84      0.84       800\n",
            "          weighted avg       0.84      0.84      0.84       800\n",
            "\n"
          ]
        }
      ]
    },
    {
      "cell_type": "code",
      "source": [
        "from sklearn.metrics import precision_score\n",
        "precision_score(true_classes, InceptionV3_pred_classes, average='micro')"
      ],
      "metadata": {
        "id": "w98HnekYnS6M",
        "colab": {
          "base_uri": "https://localhost:8080/"
        },
        "outputId": "f4d99b88-60b8-4210-de2c-1bcf6c4e19c6"
      },
      "execution_count": null,
      "outputs": [
        {
          "output_type": "execute_result",
          "data": {
            "text/plain": [
              "0.84"
            ]
          },
          "metadata": {},
          "execution_count": 20
        }
      ]
    },
    {
      "cell_type": "code",
      "source": [
        "from sklearn.metrics import recall_score\n",
        "recall_score(true_classes, InceptionV3_pred_classes, average='micro')"
      ],
      "metadata": {
        "id": "ksEovtRVnS9c",
        "colab": {
          "base_uri": "https://localhost:8080/"
        },
        "outputId": "45e71c5f-97c4-46be-ded6-880620fb4632"
      },
      "execution_count": null,
      "outputs": [
        {
          "output_type": "execute_result",
          "data": {
            "text/plain": [
              "0.84"
            ]
          },
          "metadata": {},
          "execution_count": 21
        }
      ]
    },
    {
      "cell_type": "code",
      "source": [
        "import seaborn as sns\n",
        "from sklearn.metrics import confusion_matrix\n",
        "\n",
        "# Get the names of the ten classes\n",
        "class_names = test_generator.class_indices.keys()\n",
        "\n",
        "def plot_heatmap(y_true, y_pred, class_names, ax, title):\n",
        "    cm = confusion_matrix(y_true, y_pred)\n",
        "    sns.heatmap(\n",
        "        cm, \n",
        "        annot=True, \n",
        "        square=True, \n",
        "        xticklabels=class_names, \n",
        "        yticklabels=class_names,\n",
        "        fmt='d', \n",
        "        cmap=plt.cm.Blues,\n",
        "        cbar=False,\n",
        "        ax=ax\n",
        "    )\n",
        "    ax.set_title(title, fontsize=16)\n",
        "    ax.set_xticklabels(ax.get_xticklabels(), rotation=45, ha=\"right\")\n",
        "    ax.set_ylabel('True Label', fontsize=12)\n",
        "    ax.set_xlabel('Predicted Label', fontsize=12)\n",
        "\n",
        "fig, (ax1) = plt.subplots(1,figsize=(20, 10))\n",
        "    \n",
        "plot_heatmap(true_classes, InceptionV3_pred_classes, class_names, ax1, title=\"Transfer Learning InceptionV3\")    \n",
        "\n",
        "fig.suptitle(\"Confusion Matrix Model Comparison\", fontsize=24)\n",
        "fig.tight_layout()\n",
        "fig.subplots_adjust(top=1.25)\n",
        "plt.show()"
      ],
      "metadata": {
        "id": "HWGQc09TnS_1",
        "colab": {
          "base_uri": "https://localhost:8080/",
          "height": 938
        },
        "outputId": "9af50b16-dde7-4c4c-8c42-29f6bfc06d10"
      },
      "execution_count": null,
      "outputs": [
        {
          "output_type": "display_data",
          "data": {
            "text/plain": [
              "<Figure size 1440x720 with 1 Axes>"
            ],
            "image/png": "[encoded data removed]"
          },
          "metadata": {
            "needs_background": "light"
          }
        }
      ]
    },
    {
      "cell_type": "code",
      "source": [],
      "metadata": {
        "id": "rnBxYsp8nTCO"
      },
      "execution_count": null,
      "outputs": []
    },
    {
      "cell_type": "code",
      "source": [],
      "metadata": {
        "id": "A-Z3lQIBnTEu"
      },
      "execution_count": null,
      "outputs": []
    }
  ]
}