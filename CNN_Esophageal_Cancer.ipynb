{
  "nbformat": 4,
  "nbformat_minor": 0,
  "metadata": {
    "colab": {
      "name": "CNN_Esophageal Cancer.ipynb",
      "provenance": []
    },
    "kernelspec": {
      "name": "python3",
      "display_name": "Python 3"
    },
    "language_info": {
      "name": "python"
    },
    "accelerator": "GPU"
  },
  "cells": [
    {
      "cell_type": "code",
      "execution_count": 1,
      "metadata": {
        "id": "uFVhUJbjvW8Z"
      },
      "outputs": [],
      "source": [
        "from google.colab import drive"
      ]
    },
    {
      "cell_type": "code",
      "source": [
        "drive.mount('/content/drive')"
      ],
      "metadata": {
        "colab": {
          "base_uri": "https://localhost:8080/"
        },
        "id": "Uu0dIpUuvXm3",
        "outputId": "9f494d2f-e251-44a0-f415-f8bd7f03eb84"
      },
      "execution_count": 2,
      "outputs": [
        {
          "output_type": "stream",
          "name": "stdout",
          "text": [
            "Mounted at /content/drive\n"
          ]
        }
      ]
    },
    {
      "cell_type": "code",
      "source": [
        "root_path = '/content/drive/MyDrive/Kvasir'"
      ],
      "metadata": {
        "id": "trWV5Eu8vchQ"
      },
      "execution_count": 3,
      "outputs": []
    },
    {
      "cell_type": "code",
      "source": [
        "import numpy as np\n",
        "import matplotlib.pyplot as plt\n",
        "import keras\n",
        "from keras.layers import *\n",
        "from keras.models import * \n",
        "from keras.preprocessing import image\n",
        "import numpy as np\n",
        "import matplotlib.pyplot as plt\n",
        "import keras\n",
        "from keras.layers import *\n",
        "from keras.models import * \n",
        "from keras.preprocessing import image\n",
        "import os\n",
        "from keras.models import Model\n",
        "from tensorflow.keras.optimizers import Adam\n",
        "from keras.applications.vgg16 import VGG16, preprocess_input\n",
        "from keras.preprocessing.image import ImageDataGenerator\n",
        "from keras.callbacks import ModelCheckpoint, EarlyStopping\n",
        "from keras.layers import Dense, Dropout, Flatten\n",
        "from pathlib import Path\n",
        "import numpy as np"
      ],
      "metadata": {
        "id": "nN0uPHCmviP3"
      },
      "execution_count": 4,
      "outputs": []
    },
    {
      "cell_type": "code",
      "source": [
        "BATCH_SIZE = 64\n",
        "\n",
        "train_datagen = image.ImageDataGenerator(rescale=1./255, rotation_range=90, \n",
        "                                     brightness_range=[0.1, 0.7],\n",
        "                                     width_shift_range=0.5, \n",
        "                                     height_shift_range=0.5,\n",
        "                                     horizontal_flip=True, \n",
        "                                     vertical_flip=True, validation_split=0.222)\n",
        "\n",
        "test_datagen = image.ImageDataGenerator(rescale=1./255)"
      ],
      "metadata": {
        "id": "9oqxUQvnvkON"
      },
      "execution_count": 5,
      "outputs": []
    },
    {
      "cell_type": "code",
      "source": [
        "#Defining paths\n",
        "TRAIN_PATH = \"/content/drive/MyDrive/Kvasir/Train\"\n",
        "TEST_PATH = \"/content/drive/MyDrive/Kvasir/Test\""
      ],
      "metadata": {
        "id": "R2CKn6Mavmon"
      },
      "execution_count": 6,
      "outputs": []
    },
    {
      "cell_type": "code",
      "source": [
        "train_generator = train_datagen.flow_from_directory(TRAIN_PATH,\n",
        "                                               target_size=(224, 224),\n",
        "                                               class_mode='categorical',\n",
        "                                               subset='training',\n",
        "                                               batch_size=BATCH_SIZE, \n",
        "                                               shuffle=True,\n",
        "                                               seed=42)\n",
        "\n",
        "validation_generator = train_datagen.flow_from_directory(TRAIN_PATH,\n",
        "                                               target_size=(224, 224),\n",
        "                                               class_mode='categorical',\n",
        "                                               subset='validation',\n",
        "                                               batch_size=BATCH_SIZE,\n",
        "                                               shuffle=True,\n",
        "                                               seed=42)\n",
        "\n",
        "test_generator = test_datagen.flow_from_directory(TEST_PATH,\n",
        "                                             target_size=(224, 224),\n",
        "                                             class_mode=None,\n",
        "                                             batch_size=1,\n",
        "                                             shuffle=False,\n",
        "                                             seed=42)"
      ],
      "metadata": {
        "colab": {
          "base_uri": "https://localhost:8080/"
        },
        "id": "Or9UabZBvofR",
        "outputId": "4bf094d9-8528-4465-f8fe-dbf076c9cd72"
      },
      "execution_count": 7,
      "outputs": [
        {
          "output_type": "stream",
          "name": "stdout",
          "text": [
            "Found 5608 images belonging to 8 classes.\n",
            "Found 1592 images belonging to 8 classes.\n",
            "Found 800 images belonging to 8 classes.\n"
          ]
        }
      ]
    },
    {
      "cell_type": "code",
      "source": [
        "from keras.metrics import top_k_categorical_accuracy\n",
        "def top_5_categorical_accuracy(y_true, y_pred):\n",
        "    return top_k_categorical_accuracy(y_true, y_pred, k=5)"
      ],
      "metadata": {
        "id": "L0c9yepTvqk-"
      },
      "execution_count": 8,
      "outputs": []
    },
    {
      "cell_type": "code",
      "source": [
        "model = tf.keras.models.Sequential()\n",
        "model.add(tf.keras.layers.Conv2D(32,kernel_size=(3,3),activation='relu',input_shape=(224,224,3)))\n",
        "model.add(tf.keras.layers.Conv2D(128,(3,3),activation='relu'))\n",
        "model.add(tf.keras.layers.MaxPooling2D(pool_size=(2,2)))\n",
        "model.add(tf.keras.layers.Dropout(0.25))\n",
        "\n",
        "model.add(tf.keras.layers.Conv2D(64,(3,3),activation='relu'))\n",
        "model.add(tf.keras.layers.MaxPooling2D(pool_size=(2,2)))\n",
        "model.add(tf.keras.layers.Dropout(0.25))\n",
        "\n",
        "model.add(tf.keras.layers.Conv2D(128,(3,3),activation='relu'))\n",
        "model.add(tf.keras.layers.MaxPooling2D(pool_size=(2,2)))\n",
        "model.add(tf.keras.layers.Dropout(0.25))\n",
        "\n",
        "model.add(tf.keras.layers.Flatten())\n",
        "model.add(tf.keras.layers.Dense(64,activation='relu'))\n",
        "model.add(tf.keras.layers.Dropout(0.5))\n",
        "model.add(tf.keras.layers.Dense(8,activation='softmax'))\n",
        "\n",
        "model.compile(loss='categorical_crossentropy',optimizer='adam',metrics=['accuracy', top_5_categorical_accuracy])"
      ],
      "metadata": {
        "id": "jhF3XvYqvu5f"
      },
      "execution_count": 9,
      "outputs": []
    },
    {
      "cell_type": "code",
      "source": [
        "#summarizing the model\n",
        "model.summary()"
      ],
      "metadata": {
        "colab": {
          "base_uri": "https://localhost:8080/"
        },
        "id": "u--uo9NXvwx1",
        "outputId": "a85ebfd1-f81c-453c-818f-a2f78cb355fd"
      },
      "execution_count": 10,
      "outputs": [
        {
          "output_type": "stream",
          "name": "stdout",
          "text": [
            "Model: \"sequential\"\n",
            "_________________________________________________________________\n",
            " Layer (type)                Output Shape              Param #   \n",
            "=================================================================\n",
            " conv2d (Conv2D)             (None, 222, 222, 32)      896       \n",
            "                                                                 \n",
            " conv2d_1 (Conv2D)           (None, 220, 220, 128)     36992     \n",
            "                                                                 \n",
            " max_pooling2d (MaxPooling2D  (None, 110, 110, 128)    0         \n",
            " )                                                               \n",
            "                                                                 \n",
            " dropout (Dropout)           (None, 110, 110, 128)     0         \n",
            "                                                                 \n",
            " conv2d_2 (Conv2D)           (None, 108, 108, 64)      73792     \n",
            "                                                                 \n",
            " max_pooling2d_1 (MaxPooling  (None, 54, 54, 64)       0         \n",
            " 2D)                                                             \n",
            "                                                                 \n",
            " dropout_1 (Dropout)         (None, 54, 54, 64)        0         \n",
            "                                                                 \n",
            " conv2d_3 (Conv2D)           (None, 52, 52, 128)       73856     \n",
            "                                                                 \n",
            " max_pooling2d_2 (MaxPooling  (None, 26, 26, 128)      0         \n",
            " 2D)                                                             \n",
            "                                                                 \n",
            " dropout_2 (Dropout)         (None, 26, 26, 128)       0         \n",
            "                                                                 \n",
            " flatten (Flatten)           (None, 86528)             0         \n",
            "                                                                 \n",
            " dense (Dense)               (None, 64)                5537856   \n",
            "                                                                 \n",
            " dropout_3 (Dropout)         (None, 64)                0         \n",
            "                                                                 \n",
            " dense_1 (Dense)             (None, 8)                 520       \n",
            "                                                                 \n",
            "=================================================================\n",
            "Total params: 5,723,912\n",
            "Trainable params: 5,723,912\n",
            "Non-trainable params: 0\n",
            "_________________________________________________________________\n"
          ]
        }
      ]
    },
    {
      "cell_type": "code",
      "source": [
        "# ModelCheckpoint callback - save best weights\n",
        "tl_checkpoint_1 = ModelCheckpoint(filepath='tl_model_v1.weights.best.hdf5',\n",
        "                                  save_best_only=True,\n",
        "                                  verbose=1)\n",
        "\n",
        "# EarlyStopping\n",
        "early_stop = EarlyStopping(monitor='val_loss',\n",
        "                           patience=10,\n",
        "                           restore_best_weights=True,\n",
        "                           mode='min')"
      ],
      "metadata": {
        "id": "r1-_W2Nlv1dg"
      },
      "execution_count": 11,
      "outputs": []
    },
    {
      "cell_type": "code",
      "source": [
        "model_history = model.fit(train_generator,\n",
        "                            batch_size=BATCH_SIZE,\n",
        "                            epochs=30,\n",
        "                            validation_data=validation_generator,\n",
        "                            callbacks=[tl_checkpoint_1, early_stop],\n",
        "                            verbose=1)"
      ],
      "metadata": {
        "colab": {
          "base_uri": "https://localhost:8080/"
        },
        "id": "Ca2c0FdowQvz",
        "outputId": "9307e783-5959-44f5-f841-f2cd23e738d6"
      },
      "execution_count": 12,
      "outputs": [
        {
          "output_type": "stream",
          "name": "stdout",
          "text": [
            "Epoch 1/30\n",
            "88/88 [==============================] - ETA: 0s - loss: 1.7370 - accuracy: 0.2919 - top_5_categorical_accuracy: 0.8948 \n",
            "Epoch 1: val_loss improved from inf to 1.36607, saving model to tl_model_v1.weights.best.hdf5\n",
            "88/88 [==============================] - 1982s 22s/step - loss: 1.7370 - accuracy: 0.2919 - top_5_categorical_accuracy: 0.8948 - val_loss: 1.3661 - val_accuracy: 0.3700 - val_top_5_categorical_accuracy: 0.9786\n",
            "Epoch 2/30\n",
            "88/88 [==============================] - ETA: 0s - loss: 1.3654 - accuracy: 0.3793 - top_5_categorical_accuracy: 0.9700\n",
            "Epoch 2: val_loss improved from 1.36607 to 1.10936, saving model to tl_model_v1.weights.best.hdf5\n",
            "88/88 [==============================] - 263s 3s/step - loss: 1.3654 - accuracy: 0.3793 - top_5_categorical_accuracy: 0.9700 - val_loss: 1.1094 - val_accuracy: 0.4975 - val_top_5_categorical_accuracy: 0.9899\n",
            "Epoch 3/30\n",
            "88/88 [==============================] - ETA: 0s - loss: 1.2070 - accuracy: 0.4463 - top_5_categorical_accuracy: 0.9815\n",
            "Epoch 3: val_loss improved from 1.10936 to 1.01364, saving model to tl_model_v1.weights.best.hdf5\n",
            "88/88 [==============================] - 263s 3s/step - loss: 1.2070 - accuracy: 0.4463 - top_5_categorical_accuracy: 0.9815 - val_loss: 1.0136 - val_accuracy: 0.5327 - val_top_5_categorical_accuracy: 0.9969\n",
            "Epoch 4/30\n",
            "88/88 [==============================] - ETA: 0s - loss: 1.1770 - accuracy: 0.4563 - top_5_categorical_accuracy: 0.9795\n",
            "Epoch 4: val_loss did not improve from 1.01364\n",
            "88/88 [==============================] - 262s 3s/step - loss: 1.1770 - accuracy: 0.4563 - top_5_categorical_accuracy: 0.9795 - val_loss: 1.0850 - val_accuracy: 0.4887 - val_top_5_categorical_accuracy: 0.9862\n",
            "Epoch 5/30\n",
            "88/88 [==============================] - ETA: 0s - loss: 1.0988 - accuracy: 0.4848 - top_5_categorical_accuracy: 0.9863\n",
            "Epoch 5: val_loss did not improve from 1.01364\n",
            "88/88 [==============================] - 263s 3s/step - loss: 1.0988 - accuracy: 0.4848 - top_5_categorical_accuracy: 0.9863 - val_loss: 1.0644 - val_accuracy: 0.4987 - val_top_5_categorical_accuracy: 0.9881\n",
            "Epoch 6/30\n",
            "88/88 [==============================] - ETA: 0s - loss: 1.0429 - accuracy: 0.4995 - top_5_categorical_accuracy: 0.9882\n",
            "Epoch 6: val_loss improved from 1.01364 to 0.91725, saving model to tl_model_v1.weights.best.hdf5\n",
            "88/88 [==============================] - 264s 3s/step - loss: 1.0429 - accuracy: 0.4995 - top_5_categorical_accuracy: 0.9882 - val_loss: 0.9172 - val_accuracy: 0.5496 - val_top_5_categorical_accuracy: 0.9962\n",
            "Epoch 7/30\n",
            "88/88 [==============================] - ETA: 0s - loss: 1.0017 - accuracy: 0.5203 - top_5_categorical_accuracy: 0.9884\n",
            "Epoch 7: val_loss did not improve from 0.91725\n",
            "88/88 [==============================] - 263s 3s/step - loss: 1.0017 - accuracy: 0.5203 - top_5_categorical_accuracy: 0.9884 - val_loss: 1.1322 - val_accuracy: 0.4893 - val_top_5_categorical_accuracy: 0.9780\n",
            "Epoch 8/30\n",
            "88/88 [==============================] - ETA: 0s - loss: 1.0139 - accuracy: 0.5216 - top_5_categorical_accuracy: 0.9897\n",
            "Epoch 8: val_loss improved from 0.91725 to 0.89162, saving model to tl_model_v1.weights.best.hdf5\n",
            "88/88 [==============================] - 263s 3s/step - loss: 1.0139 - accuracy: 0.5216 - top_5_categorical_accuracy: 0.9897 - val_loss: 0.8916 - val_accuracy: 0.5754 - val_top_5_categorical_accuracy: 0.9931\n",
            "Epoch 9/30\n",
            "88/88 [==============================] - ETA: 0s - loss: 1.0137 - accuracy: 0.5280 - top_5_categorical_accuracy: 0.9900\n",
            "Epoch 9: val_loss did not improve from 0.89162\n",
            "88/88 [==============================] - 265s 3s/step - loss: 1.0137 - accuracy: 0.5280 - top_5_categorical_accuracy: 0.9900 - val_loss: 0.9025 - val_accuracy: 0.5722 - val_top_5_categorical_accuracy: 0.9962\n",
            "Epoch 10/30\n",
            "88/88 [==============================] - ETA: 0s - loss: 0.9711 - accuracy: 0.5456 - top_5_categorical_accuracy: 0.9905\n",
            "Epoch 10: val_loss did not improve from 0.89162\n",
            "88/88 [==============================] - 261s 3s/step - loss: 0.9711 - accuracy: 0.5456 - top_5_categorical_accuracy: 0.9905 - val_loss: 0.9257 - val_accuracy: 0.5766 - val_top_5_categorical_accuracy: 0.9943\n",
            "Epoch 11/30\n",
            "88/88 [==============================] - ETA: 0s - loss: 0.9360 - accuracy: 0.5496 - top_5_categorical_accuracy: 0.9947\n",
            "Epoch 11: val_loss improved from 0.89162 to 0.87013, saving model to tl_model_v1.weights.best.hdf5\n",
            "88/88 [==============================] - 264s 3s/step - loss: 0.9360 - accuracy: 0.5496 - top_5_categorical_accuracy: 0.9947 - val_loss: 0.8701 - val_accuracy: 0.5879 - val_top_5_categorical_accuracy: 0.9956\n",
            "Epoch 12/30\n",
            "88/88 [==============================] - ETA: 0s - loss: 0.9974 - accuracy: 0.5419 - top_5_categorical_accuracy: 0.9911\n",
            "Epoch 12: val_loss did not improve from 0.87013\n",
            "88/88 [==============================] - 262s 3s/step - loss: 0.9974 - accuracy: 0.5419 - top_5_categorical_accuracy: 0.9911 - val_loss: 0.9290 - val_accuracy: 0.5427 - val_top_5_categorical_accuracy: 0.9912\n",
            "Epoch 13/30\n",
            "88/88 [==============================] - ETA: 0s - loss: 0.9354 - accuracy: 0.5448 - top_5_categorical_accuracy: 0.9941\n",
            "Epoch 13: val_loss did not improve from 0.87013\n",
            "88/88 [==============================] - 264s 3s/step - loss: 0.9354 - accuracy: 0.5448 - top_5_categorical_accuracy: 0.9941 - val_loss: 0.9077 - val_accuracy: 0.5967 - val_top_5_categorical_accuracy: 0.9937\n",
            "Epoch 14/30\n",
            "88/88 [==============================] - ETA: 0s - loss: 0.9576 - accuracy: 0.5489 - top_5_categorical_accuracy: 0.9927\n",
            "Epoch 14: val_loss improved from 0.87013 to 0.86779, saving model to tl_model_v1.weights.best.hdf5\n",
            "88/88 [==============================] - 263s 3s/step - loss: 0.9576 - accuracy: 0.5489 - top_5_categorical_accuracy: 0.9927 - val_loss: 0.8678 - val_accuracy: 0.6011 - val_top_5_categorical_accuracy: 0.9937\n",
            "Epoch 15/30\n",
            "88/88 [==============================] - ETA: 0s - loss: 0.9645 - accuracy: 0.5535 - top_5_categorical_accuracy: 0.9938\n",
            "Epoch 15: val_loss improved from 0.86779 to 0.86434, saving model to tl_model_v1.weights.best.hdf5\n",
            "88/88 [==============================] - 263s 3s/step - loss: 0.9645 - accuracy: 0.5535 - top_5_categorical_accuracy: 0.9938 - val_loss: 0.8643 - val_accuracy: 0.5848 - val_top_5_categorical_accuracy: 0.9969\n",
            "Epoch 16/30\n",
            "88/88 [==============================] - ETA: 0s - loss: 0.9352 - accuracy: 0.5494 - top_5_categorical_accuracy: 0.9923\n",
            "Epoch 16: val_loss did not improve from 0.86434\n",
            "88/88 [==============================] - 269s 3s/step - loss: 0.9352 - accuracy: 0.5494 - top_5_categorical_accuracy: 0.9923 - val_loss: 0.9242 - val_accuracy: 0.5873 - val_top_5_categorical_accuracy: 0.9987\n",
            "Epoch 17/30\n",
            "88/88 [==============================] - ETA: 0s - loss: 0.9002 - accuracy: 0.5654 - top_5_categorical_accuracy: 0.9914\n",
            "Epoch 17: val_loss improved from 0.86434 to 0.81366, saving model to tl_model_v1.weights.best.hdf5\n",
            "88/88 [==============================] - 271s 3s/step - loss: 0.9002 - accuracy: 0.5654 - top_5_categorical_accuracy: 0.9914 - val_loss: 0.8137 - val_accuracy: 0.6143 - val_top_5_categorical_accuracy: 0.9987\n",
            "Epoch 18/30\n",
            "88/88 [==============================] - ETA: 0s - loss: 0.9041 - accuracy: 0.5731 - top_5_categorical_accuracy: 0.9939\n",
            "Epoch 18: val_loss did not improve from 0.81366\n",
            "88/88 [==============================] - 268s 3s/step - loss: 0.9041 - accuracy: 0.5731 - top_5_categorical_accuracy: 0.9939 - val_loss: 0.8576 - val_accuracy: 0.5867 - val_top_5_categorical_accuracy: 0.9975\n",
            "Epoch 19/30\n",
            "88/88 [==============================] - ETA: 0s - loss: 0.9442 - accuracy: 0.5615 - top_5_categorical_accuracy: 0.9927\n",
            "Epoch 19: val_loss did not improve from 0.81366\n",
            "88/88 [==============================] - 269s 3s/step - loss: 0.9442 - accuracy: 0.5615 - top_5_categorical_accuracy: 0.9927 - val_loss: 0.8925 - val_accuracy: 0.5854 - val_top_5_categorical_accuracy: 0.9943\n",
            "Epoch 20/30\n",
            "88/88 [==============================] - ETA: 0s - loss: 0.8905 - accuracy: 0.5662 - top_5_categorical_accuracy: 0.9943\n",
            "Epoch 20: val_loss did not improve from 0.81366\n",
            "88/88 [==============================] - 267s 3s/step - loss: 0.8905 - accuracy: 0.5662 - top_5_categorical_accuracy: 0.9943 - val_loss: 0.8212 - val_accuracy: 0.6143 - val_top_5_categorical_accuracy: 0.9975\n",
            "Epoch 21/30\n",
            "88/88 [==============================] - ETA: 0s - loss: 0.9264 - accuracy: 0.5585 - top_5_categorical_accuracy: 0.9930\n",
            "Epoch 21: val_loss did not improve from 0.81366\n",
            "88/88 [==============================] - 263s 3s/step - loss: 0.9264 - accuracy: 0.5585 - top_5_categorical_accuracy: 0.9930 - val_loss: 0.9083 - val_accuracy: 0.5766 - val_top_5_categorical_accuracy: 0.9975\n",
            "Epoch 22/30\n",
            "88/88 [==============================] - ETA: 0s - loss: 0.9027 - accuracy: 0.5553 - top_5_categorical_accuracy: 0.9961\n",
            "Epoch 22: val_loss did not improve from 0.81366\n",
            "88/88 [==============================] - 263s 3s/step - loss: 0.9027 - accuracy: 0.5553 - top_5_categorical_accuracy: 0.9961 - val_loss: 0.8503 - val_accuracy: 0.5810 - val_top_5_categorical_accuracy: 0.9987\n",
            "Epoch 23/30\n",
            "88/88 [==============================] - ETA: 0s - loss: 0.8876 - accuracy: 0.5672 - top_5_categorical_accuracy: 0.9950\n",
            "Epoch 23: val_loss did not improve from 0.81366\n",
            "88/88 [==============================] - 264s 3s/step - loss: 0.8876 - accuracy: 0.5672 - top_5_categorical_accuracy: 0.9950 - val_loss: 0.8648 - val_accuracy: 0.5779 - val_top_5_categorical_accuracy: 0.9975\n",
            "Epoch 24/30\n",
            "88/88 [==============================] - ETA: 0s - loss: 0.9025 - accuracy: 0.5694 - top_5_categorical_accuracy: 0.9950\n",
            "Epoch 24: val_loss did not improve from 0.81366\n",
            "88/88 [==============================] - 265s 3s/step - loss: 0.9025 - accuracy: 0.5694 - top_5_categorical_accuracy: 0.9950 - val_loss: 0.8385 - val_accuracy: 0.5879 - val_top_5_categorical_accuracy: 0.9969\n",
            "Epoch 25/30\n",
            "88/88 [==============================] - ETA: 0s - loss: 0.8834 - accuracy: 0.5717 - top_5_categorical_accuracy: 0.9947\n",
            "Epoch 25: val_loss did not improve from 0.81366\n",
            "88/88 [==============================] - 265s 3s/step - loss: 0.8834 - accuracy: 0.5717 - top_5_categorical_accuracy: 0.9947 - val_loss: 0.9257 - val_accuracy: 0.5804 - val_top_5_categorical_accuracy: 0.9975\n",
            "Epoch 26/30\n",
            "88/88 [==============================] - ETA: 0s - loss: 0.8806 - accuracy: 0.5728 - top_5_categorical_accuracy: 0.9964\n",
            "Epoch 26: val_loss did not improve from 0.81366\n",
            "88/88 [==============================] - 266s 3s/step - loss: 0.8806 - accuracy: 0.5728 - top_5_categorical_accuracy: 0.9964 - val_loss: 0.8461 - val_accuracy: 0.5704 - val_top_5_categorical_accuracy: 0.9987\n",
            "Epoch 27/30\n",
            "88/88 [==============================] - ETA: 0s - loss: 0.8699 - accuracy: 0.5754 - top_5_categorical_accuracy: 0.9973\n",
            "Epoch 27: val_loss did not improve from 0.81366\n",
            "88/88 [==============================] - 266s 3s/step - loss: 0.8699 - accuracy: 0.5754 - top_5_categorical_accuracy: 0.9973 - val_loss: 0.8609 - val_accuracy: 0.5911 - val_top_5_categorical_accuracy: 0.9969\n"
          ]
        }
      ]
    },
    {
      "cell_type": "code",
      "source": [
        "# Generate predictions\n",
        "model.load_weights('tl_model_v1.weights.best.hdf5') # initialize the best trained weights\n",
        "\n",
        "true_classes = test_generator.classes\n",
        "class_indices = train_generator.class_indices\n",
        "class_indices = dict((v,k) for k,v in class_indices.items())\n",
        "\n",
        "model_preds = model.predict(test_generator)\n",
        "model_pred_classes = np.argmax(model_preds, axis=1)"
      ],
      "metadata": {
        "id": "Sz9-GYYbwTIH"
      },
      "execution_count": 13,
      "outputs": []
    },
    {
      "cell_type": "code",
      "source": [
        "from sklearn.metrics import accuracy_score\n",
        "\n",
        "model_acc = accuracy_score(true_classes, model_pred_classes)\n",
        "print(\"CNN Model's Top 1% Accuracy: {:.2f}%\".format(model_acc * 100))"
      ],
      "metadata": {
        "colab": {
          "base_uri": "https://localhost:8080/"
        },
        "id": "HJggk6hOwY7v",
        "outputId": "46f97f40-65bd-4f4a-fa81-bc64090dc451"
      },
      "execution_count": 15,
      "outputs": [
        {
          "output_type": "stream",
          "name": "stdout",
          "text": [
            "CNN Model's Top 1% Accuracy: 58.63%\n"
          ]
        }
      ]
    },
    {
      "cell_type": "code",
      "source": [
        "import seaborn as sns\n",
        "from sklearn.metrics import confusion_matrix\n",
        "\n",
        "# Get the names of the ten classes\n",
        "class_names = test_generator.class_indices.keys()\n",
        "\n",
        "def plot_heatmap(y_true, y_pred, class_names, ax, title):\n",
        "    cm = confusion_matrix(y_true, y_pred)\n",
        "    sns.heatmap(\n",
        "        cm, \n",
        "        annot=True, \n",
        "        square=True, \n",
        "        xticklabels=class_names, \n",
        "        yticklabels=class_names,\n",
        "        fmt='d', \n",
        "        cmap=plt.cm.Blues,\n",
        "        cbar=False,\n",
        "        ax=ax\n",
        "    )\n",
        "    ax.set_title(title, fontsize=16)\n",
        "    ax.set_xticklabels(ax.get_xticklabels(), rotation=45, ha=\"right\")\n",
        "    ax.set_ylabel('True Label', fontsize=12)\n",
        "    ax.set_xlabel('Predicted Label', fontsize=12)\n",
        "\n",
        "fig, (ax1) = plt.subplots(figsize=(20, 10))\n",
        "\n",
        "plot_heatmap(true_classes, model_pred_classes, class_names, ax1, title=\"Custom CNN\")    \n",
        "fig.suptitle(\"Confusion Matrix Model Comparison\", fontsize=24)\n",
        "fig.tight_layout()\n",
        "fig.subplots_adjust(top=1.25)\n",
        "plt.show()"
      ],
      "metadata": {
        "colab": {
          "base_uri": "https://localhost:8080/",
          "height": 938
        },
        "id": "OCnLHlUwwY42",
        "outputId": "63bb7810-920d-42ee-dbf2-8324eb7e52dd"
      },
      "execution_count": 20,
      "outputs": [
        {
          "output_type": "display_data",
          "data": {
            "image/png": "[encoded data removed]",
            "text/plain": [
              "<Figure size 1440x720 with 1 Axes>"
            ]
          },
          "metadata": {
            "needs_background": "light"
          }
        }
      ]
    }
  ]
}