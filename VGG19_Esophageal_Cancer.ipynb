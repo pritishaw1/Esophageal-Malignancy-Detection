{
  "cells": [
    {
      "cell_type": "code",
      "execution_count": null,
      "metadata": {
        "id": "PR_SMA5ErLXC"
      },
      "outputs": [],
      "source": [
        "from google.colab import drive"
      ]
    },
    {
      "cell_type": "code",
      "execution_count": null,
      "metadata": {
        "colab": {
          "base_uri": "https://localhost:8080/"
        },
        "id": "yNb09LjJrvHL",
        "outputId": "11d767f3-fb11-48f7-8aaa-e20bba9d944c"
      },
      "outputs": [
        {
          "output_type": "stream",
          "name": "stdout",
          "text": [
            "Mounted at /content/drive\n"
          ]
        }
      ],
      "source": [
        "drive.mount('/content/drive')"
      ]
    },
    {
      "cell_type": "code",
      "execution_count": null,
      "metadata": {
        "id": "TkKxfx33r9uq"
      },
      "outputs": [],
      "source": [
        "root_path = '/content/drive/MyDrive/Kvasir'"
      ]
    },
    {
      "cell_type": "code",
      "execution_count": null,
      "metadata": {
        "id": "DN1X_QSLsDEz"
      },
      "outputs": [],
      "source": [
        "import numpy as np\n",
        "import matplotlib.pyplot as plt\n",
        "import keras\n",
        "from keras.layers import *\n",
        "from keras.models import * \n",
        "from keras.preprocessing import image\n",
        "import os\n",
        "from keras.models import Model\n",
        "from tensorflow.keras.optimizers import Adam\n",
        "from keras.applications.vgg19 import VGG19, preprocess_input\n",
        "from keras.preprocessing.image import ImageDataGenerator\n",
        "from keras.callbacks import ModelCheckpoint, EarlyStopping\n",
        "from keras.layers import Dense, Dropout, Flatten\n",
        "from pathlib import Path\n",
        "import numpy as np"
      ]
    },
    {
      "cell_type": "code",
      "execution_count": null,
      "metadata": {
        "id": "Zlba11-bsFiQ"
      },
      "outputs": [],
      "source": [
        "#Defining paths\n",
        "TRAIN_PATH = \"/content/drive/MyDrive/Kvasir/Train\"\n",
        "TEST_PATH = \"/content/drive/MyDrive/Kvasir/Test\""
      ]
    },
    {
      "cell_type": "code",
      "execution_count": null,
      "metadata": {
        "id": "Wq-SCxI_7H5E"
      },
      "outputs": [],
      "source": [
        "BATCH_SIZE = 64\n",
        "\n",
        "# 70:20:10 = Training data:Validation data:Testing data\n",
        "\n",
        "train_generator = ImageDataGenerator(rotation_range=90, \n",
        "                                     brightness_range=[0.1, 0.7],\n",
        "                                     width_shift_range=0.5, \n",
        "                                     height_shift_range=0.5,\n",
        "                                     horizontal_flip=True, \n",
        "                                     vertical_flip=True,\n",
        "                                     validation_split=0.222,\n",
        "                                     preprocessing_function=preprocess_input) # VGG16 preprocessing\n",
        "\n",
        "test_generator = ImageDataGenerator(preprocessing_function=preprocess_input) # VGG16 preprocessing"
      ]
    },
    {
      "cell_type": "code",
      "execution_count": null,
      "metadata": {
        "colab": {
          "base_uri": "https://localhost:8080/"
        },
        "id": "q4FfnC9G7H2K",
        "outputId": "57b7061e-a79b-4016-b5ee-705d080d0a94"
      },
      "outputs": [
        {
          "output_type": "stream",
          "name": "stdout",
          "text": [
            "Found 5608 images belonging to 8 classes.\n",
            "Found 1592 images belonging to 8 classes.\n",
            "Found 800 images belonging to 8 classes.\n"
          ]
        }
      ],
      "source": [
        "traingen = train_generator.flow_from_directory(TRAIN_PATH,\n",
        "                                               target_size=(224, 224),\n",
        "                                               class_mode='categorical',\n",
        "                                               subset='training',\n",
        "                                               batch_size=BATCH_SIZE, \n",
        "                                               shuffle=True,\n",
        "                                               seed=42)\n",
        "\n",
        "validgen = train_generator.flow_from_directory(TRAIN_PATH,\n",
        "                                               target_size=(224, 224),\n",
        "                                               class_mode='categorical',\n",
        "                                               subset='validation',\n",
        "                                               batch_size=BATCH_SIZE,\n",
        "                                               shuffle=True,\n",
        "                                               seed=42)\n",
        "\n",
        "testgen = test_generator.flow_from_directory(TEST_PATH,\n",
        "                                             target_size=(224, 224),\n",
        "                                             class_mode=None,\n",
        "                                             batch_size=1,\n",
        "                                             shuffle=False,\n",
        "                                             seed=42)"
      ]
    },
    {
      "cell_type": "code",
      "source": [
        "from keras.metrics import top_k_categorical_accuracy\n",
        "def top_5_categorical_accuracy(y_true, y_pred):\n",
        "    return top_k_categorical_accuracy(y_true, y_pred, k=5)"
      ],
      "metadata": {
        "id": "rVNkDoloa8CR"
      },
      "execution_count": null,
      "outputs": []
    },
    {
      "cell_type": "code",
      "execution_count": null,
      "metadata": {
        "id": "TZAZ79CE6kOP"
      },
      "outputs": [],
      "source": [
        "def create_model(input_shape, n_classes, optimizer='rmsprop', fine_tune=0):\n",
        "   \n",
        "    \n",
        "    # Pretrained convolutional layers are loaded using the Imagenet weights.\n",
        "    # Include_top is set to False, in order to exclude the model's fully-connected layers.\n",
        "    conv_base = VGG19(include_top=False,\n",
        "                     weights='imagenet', \n",
        "                     input_shape=input_shape)\n",
        "    \n",
        "    # Defines how many layers to freeze during training.\n",
        "    # Layers in the convolutional base are switched from trainable to non-trainable\n",
        "    # depending on the size of the fine-tuning parameter.\n",
        "    if fine_tune > 0:\n",
        "        for layer in conv_base.layers[:-fine_tune]:\n",
        "            layer.trainable = False\n",
        "    else:\n",
        "        for layer in conv_base.layers:\n",
        "            layer.trainable = False\n",
        "\n",
        "    # Create a new 'top' of the model (i.e. fully-connected layers).\n",
        "    # This is 'bootstrapping' a new top_model onto the pretrained layers.\n",
        "    top_model = conv_base.output\n",
        "    top_model = Flatten(name=\"flatten\")(top_model)\n",
        "    top_model = Dense(4096, activation='relu')(top_model)\n",
        "    top_model = Dense(1072, activation='relu')(top_model)\n",
        "    top_model = Dropout(0.2)(top_model)\n",
        "    output_layer = Dense(n_classes, activation='softmax')(top_model)\n",
        "    \n",
        "    # Group the convolutional base and new fully-connected layers into a Model object.\n",
        "    model = Model(inputs=conv_base.input, outputs=output_layer)\n",
        "\n",
        "    # Compiles the model for training.\n",
        "    model.compile(optimizer=optimizer, \n",
        "                  loss='categorical_crossentropy',\n",
        "                  metrics=['accuracy', top_5_categorical_accuracy])\n",
        "    \n",
        "    return model"
      ]
    },
    {
      "cell_type": "code",
      "execution_count": null,
      "metadata": {
        "id": "jvYACFpV6kLQ",
        "colab": {
          "base_uri": "https://localhost:8080/"
        },
        "outputId": "92d3df05-9b31-4056-9328-38a25e828848"
      },
      "outputs": [
        {
          "output_type": "stream",
          "name": "stdout",
          "text": [
            "Downloading data from https://storage.googleapis.com/tensorflow/keras-applications/vgg19/vgg19_weights_tf_dim_ordering_tf_kernels_notop.h5\n",
            "80142336/80134624 [==============================] - 1s 0us/step\n",
            "80150528/80134624 [==============================] - 1s 0us/step\n"
          ]
        }
      ],
      "source": [
        "input_shape = (224, 224, 3)\n",
        "optim_1 = Adam(learning_rate=0.001)\n",
        "n_classes=8\n",
        "\n",
        "n_steps = traingen.samples // BATCH_SIZE\n",
        "n_val_steps = validgen.samples // BATCH_SIZE\n",
        "n_epochs = 30\n",
        "\n",
        "# First we'll train the model without Fine-tuning\n",
        "vgg_model = create_model(input_shape, n_classes, optim_1, fine_tune=2)"
      ]
    },
    {
      "cell_type": "code",
      "source": [
        "vgg_model.summary()"
      ],
      "metadata": {
        "colab": {
          "base_uri": "https://localhost:8080/"
        },
        "id": "NblU0LG5bNOZ",
        "outputId": "0a7871ff-f819-45a3-88a9-33217fc757c1"
      },
      "execution_count": null,
      "outputs": [
        {
          "output_type": "stream",
          "name": "stdout",
          "text": [
            "Model: \"model\"\n",
            "_________________________________________________________________\n",
            " Layer (type)                Output Shape              Param #   \n",
            "=================================================================\n",
            " input_1 (InputLayer)        [(None, 224, 224, 3)]     0         \n",
            "                                                                 \n",
            " block1_conv1 (Conv2D)       (None, 224, 224, 64)      1792      \n",
            "                                                                 \n",
            " block1_conv2 (Conv2D)       (None, 224, 224, 64)      36928     \n",
            "                                                                 \n",
            " block1_pool (MaxPooling2D)  (None, 112, 112, 64)      0         \n",
            "                                                                 \n",
            " block2_conv1 (Conv2D)       (None, 112, 112, 128)     73856     \n",
            "                                                                 \n",
            " block2_conv2 (Conv2D)       (None, 112, 112, 128)     147584    \n",
            "                                                                 \n",
            " block2_pool (MaxPooling2D)  (None, 56, 56, 128)       0         \n",
            "                                                                 \n",
            " block3_conv1 (Conv2D)       (None, 56, 56, 256)       295168    \n",
            "                                                                 \n",
            " block3_conv2 (Conv2D)       (None, 56, 56, 256)       590080    \n",
            "                                                                 \n",
            " block3_conv3 (Conv2D)       (None, 56, 56, 256)       590080    \n",
            "                                                                 \n",
            " block3_conv4 (Conv2D)       (None, 56, 56, 256)       590080    \n",
            "                                                                 \n",
            " block3_pool (MaxPooling2D)  (None, 28, 28, 256)       0         \n",
            "                                                                 \n",
            " block4_conv1 (Conv2D)       (None, 28, 28, 512)       1180160   \n",
            "                                                                 \n",
            " block4_conv2 (Conv2D)       (None, 28, 28, 512)       2359808   \n",
            "                                                                 \n",
            " block4_conv3 (Conv2D)       (None, 28, 28, 512)       2359808   \n",
            "                                                                 \n",
            " block4_conv4 (Conv2D)       (None, 28, 28, 512)       2359808   \n",
            "                                                                 \n",
            " block4_pool (MaxPooling2D)  (None, 14, 14, 512)       0         \n",
            "                                                                 \n",
            " block5_conv1 (Conv2D)       (None, 14, 14, 512)       2359808   \n",
            "                                                                 \n",
            " block5_conv2 (Conv2D)       (None, 14, 14, 512)       2359808   \n",
            "                                                                 \n",
            " block5_conv3 (Conv2D)       (None, 14, 14, 512)       2359808   \n",
            "                                                                 \n",
            " block5_conv4 (Conv2D)       (None, 14, 14, 512)       2359808   \n",
            "                                                                 \n",
            " block5_pool (MaxPooling2D)  (None, 7, 7, 512)         0         \n",
            "                                                                 \n",
            " flatten (Flatten)           (None, 25088)             0         \n",
            "                                                                 \n",
            " dense (Dense)               (None, 4096)              102764544 \n",
            "                                                                 \n",
            " dense_1 (Dense)             (None, 1072)              4391984   \n",
            "                                                                 \n",
            " dropout (Dropout)           (None, 1072)              0         \n",
            "                                                                 \n",
            " dense_2 (Dense)             (None, 8)                 8584      \n",
            "                                                                 \n",
            "=================================================================\n",
            "Total params: 127,189,496\n",
            "Trainable params: 109,524,920\n",
            "Non-trainable params: 17,664,576\n",
            "_________________________________________________________________\n"
          ]
        }
      ]
    },
    {
      "cell_type": "code",
      "execution_count": null,
      "metadata": {
        "id": "6gF_XKiA6kIT"
      },
      "outputs": [],
      "source": [
        "# ModelCheckpoint callback - save best weights\n",
        "tl_checkpoint_1 = ModelCheckpoint(filepath='tl_model_v1.weights.best.hdf5',\n",
        "                                  save_best_only=True,\n",
        "                                  verbose=1)\n",
        "\n",
        "# EarlyStopping\n",
        "early_stop = EarlyStopping(monitor='val_loss',\n",
        "                           patience=10,\n",
        "                           restore_best_weights=True,\n",
        "                           mode='min')"
      ]
    },
    {
      "cell_type": "code",
      "execution_count": null,
      "metadata": {
        "colab": {
          "base_uri": "https://localhost:8080/"
        },
        "id": "UzITxwmO6kFp",
        "outputId": "75dc20ba-7de5-43c4-de0c-d5bc3ce399a2"
      },
      "outputs": [
        {
          "output_type": "stream",
          "name": "stdout",
          "text": [
            "Epoch 1/30\n",
            "87/87 [==============================] - ETA: 0s - loss: 5.3228 - accuracy: 0.2300 - top_5_categorical_accuracy: 0.7893 \n",
            "Epoch 1: val_loss improved from inf to 1.97871, saving model to tl_model_v1.weights.best.hdf5\n",
            "87/87 [==============================] - 1658s 19s/step - loss: 5.3228 - accuracy: 0.2300 - top_5_categorical_accuracy: 0.7893 - val_loss: 1.9787 - val_accuracy: 0.3105 - val_top_5_categorical_accuracy: 0.8717\n",
            "Epoch 2/30\n",
            "87/87 [==============================] - ETA: 0s - loss: 1.8917 - accuracy: 0.2449 - top_5_categorical_accuracy: 0.8095\n",
            "Epoch 2: val_loss improved from 1.97871 to 1.80753, saving model to tl_model_v1.weights.best.hdf5\n",
            "87/87 [==============================] - 275s 3s/step - loss: 1.8917 - accuracy: 0.2449 - top_5_categorical_accuracy: 0.8095 - val_loss: 1.8075 - val_accuracy: 0.2754 - val_top_5_categorical_accuracy: 0.8431\n",
            "Epoch 3/30\n",
            "87/87 [==============================] - ETA: 0s - loss: 1.7314 - accuracy: 0.2947 - top_5_categorical_accuracy: 0.8516\n",
            "Epoch 3: val_loss improved from 1.80753 to 1.62878, saving model to tl_model_v1.weights.best.hdf5\n",
            "87/87 [==============================] - 278s 3s/step - loss: 1.7314 - accuracy: 0.2947 - top_5_categorical_accuracy: 0.8516 - val_loss: 1.6288 - val_accuracy: 0.3210 - val_top_5_categorical_accuracy: 0.8783\n",
            "Epoch 4/30\n",
            "87/87 [==============================] - ETA: 0s - loss: 1.5997 - accuracy: 0.3299 - top_5_categorical_accuracy: 0.8828\n",
            "Epoch 4: val_loss improved from 1.62878 to 1.53583, saving model to tl_model_v1.weights.best.hdf5\n",
            "87/87 [==============================] - 274s 3s/step - loss: 1.5997 - accuracy: 0.3299 - top_5_categorical_accuracy: 0.8828 - val_loss: 1.5358 - val_accuracy: 0.3275 - val_top_5_categorical_accuracy: 0.8978\n",
            "Epoch 5/30\n",
            "87/87 [==============================] - ETA: 0s - loss: 1.5398 - accuracy: 0.3416 - top_5_categorical_accuracy: 0.8966\n",
            "Epoch 5: val_loss improved from 1.53583 to 1.47079, saving model to tl_model_v1.weights.best.hdf5\n",
            "87/87 [==============================] - 272s 3s/step - loss: 1.5398 - accuracy: 0.3416 - top_5_categorical_accuracy: 0.8966 - val_loss: 1.4708 - val_accuracy: 0.3652 - val_top_5_categorical_accuracy: 0.9258\n",
            "Epoch 6/30\n",
            "87/87 [==============================] - ETA: 0s - loss: 1.5290 - accuracy: 0.3411 - top_5_categorical_accuracy: 0.8995\n",
            "Epoch 6: val_loss did not improve from 1.47079\n",
            "87/87 [==============================] - 268s 3s/step - loss: 1.5290 - accuracy: 0.3411 - top_5_categorical_accuracy: 0.8995 - val_loss: 1.4749 - val_accuracy: 0.3639 - val_top_5_categorical_accuracy: 0.9121\n",
            "Epoch 7/30\n",
            "87/87 [==============================] - ETA: 0s - loss: 1.5075 - accuracy: 0.3609 - top_5_categorical_accuracy: 0.9085\n",
            "Epoch 7: val_loss improved from 1.47079 to 1.43254, saving model to tl_model_v1.weights.best.hdf5\n",
            "87/87 [==============================] - 279s 3s/step - loss: 1.5075 - accuracy: 0.3609 - top_5_categorical_accuracy: 0.9085 - val_loss: 1.4325 - val_accuracy: 0.3809 - val_top_5_categorical_accuracy: 0.9238\n",
            "Epoch 8/30\n",
            "87/87 [==============================] - ETA: 0s - loss: 1.4693 - accuracy: 0.3786 - top_5_categorical_accuracy: 0.9069\n",
            "Epoch 8: val_loss did not improve from 1.43254\n",
            "87/87 [==============================] - 279s 3s/step - loss: 1.4693 - accuracy: 0.3786 - top_5_categorical_accuracy: 0.9069 - val_loss: 1.4664 - val_accuracy: 0.3743 - val_top_5_categorical_accuracy: 0.9271\n",
            "Epoch 9/30\n",
            "87/87 [==============================] - ETA: 0s - loss: 1.4849 - accuracy: 0.3705 - top_5_categorical_accuracy: 0.9035\n",
            "Epoch 9: val_loss did not improve from 1.43254\n",
            "87/87 [==============================] - 277s 3s/step - loss: 1.4849 - accuracy: 0.3705 - top_5_categorical_accuracy: 0.9035 - val_loss: 1.4565 - val_accuracy: 0.4069 - val_top_5_categorical_accuracy: 0.9069\n",
            "Epoch 10/30\n",
            "87/87 [==============================] - ETA: 0s - loss: 1.4275 - accuracy: 0.4042 - top_5_categorical_accuracy: 0.9333\n",
            "Epoch 10: val_loss did not improve from 1.43254\n",
            "87/87 [==============================] - 265s 3s/step - loss: 1.4275 - accuracy: 0.4042 - top_5_categorical_accuracy: 0.9333 - val_loss: 1.4653 - val_accuracy: 0.4401 - val_top_5_categorical_accuracy: 0.9342\n",
            "Epoch 11/30\n",
            "87/87 [==============================] - ETA: 0s - loss: 1.3890 - accuracy: 0.4376 - top_5_categorical_accuracy: 0.9491\n",
            "Epoch 11: val_loss improved from 1.43254 to 1.40147, saving model to tl_model_v1.weights.best.hdf5\n",
            "87/87 [==============================] - 296s 3s/step - loss: 1.3890 - accuracy: 0.4376 - top_5_categorical_accuracy: 0.9491 - val_loss: 1.4015 - val_accuracy: 0.4342 - val_top_5_categorical_accuracy: 0.9355\n",
            "Epoch 12/30\n",
            "87/87 [==============================] - ETA: 0s - loss: 1.3323 - accuracy: 0.4524 - top_5_categorical_accuracy: 0.9580\n",
            "Epoch 12: val_loss improved from 1.40147 to 1.27183, saving model to tl_model_v1.weights.best.hdf5\n",
            "87/87 [==============================] - 270s 3s/step - loss: 1.3323 - accuracy: 0.4524 - top_5_categorical_accuracy: 0.9580 - val_loss: 1.2718 - val_accuracy: 0.4902 - val_top_5_categorical_accuracy: 0.9668\n",
            "Epoch 13/30\n",
            "87/87 [==============================] - ETA: 0s - loss: 1.2640 - accuracy: 0.4713 - top_5_categorical_accuracy: 0.9650\n",
            "Epoch 13: val_loss improved from 1.27183 to 1.18527, saving model to tl_model_v1.weights.best.hdf5\n",
            "87/87 [==============================] - 267s 3s/step - loss: 1.2640 - accuracy: 0.4713 - top_5_categorical_accuracy: 0.9650 - val_loss: 1.1853 - val_accuracy: 0.4954 - val_top_5_categorical_accuracy: 0.9720\n",
            "Epoch 14/30\n",
            "87/87 [==============================] - ETA: 0s - loss: 1.1893 - accuracy: 0.4775 - top_5_categorical_accuracy: 0.9744\n",
            "Epoch 14: val_loss improved from 1.18527 to 1.10764, saving model to tl_model_v1.weights.best.hdf5\n",
            "87/87 [==============================] - 268s 3s/step - loss: 1.1893 - accuracy: 0.4775 - top_5_categorical_accuracy: 0.9744 - val_loss: 1.1076 - val_accuracy: 0.5091 - val_top_5_categorical_accuracy: 0.9661\n",
            "Epoch 15/30\n",
            "87/87 [==============================] - ETA: 0s - loss: 1.1590 - accuracy: 0.4868 - top_5_categorical_accuracy: 0.9764\n",
            "Epoch 15: val_loss did not improve from 1.10764\n",
            "87/87 [==============================] - 290s 3s/step - loss: 1.1590 - accuracy: 0.4868 - top_5_categorical_accuracy: 0.9764 - val_loss: 1.1189 - val_accuracy: 0.5150 - val_top_5_categorical_accuracy: 0.9798\n",
            "Epoch 16/30\n",
            "87/87 [==============================] - ETA: 0s - loss: 1.0581 - accuracy: 0.5234 - top_5_categorical_accuracy: 0.9852\n",
            "Epoch 16: val_loss improved from 1.10764 to 1.02027, saving model to tl_model_v1.weights.best.hdf5\n",
            "87/87 [==============================] - 291s 3s/step - loss: 1.0581 - accuracy: 0.5234 - top_5_categorical_accuracy: 0.9852 - val_loss: 1.0203 - val_accuracy: 0.5781 - val_top_5_categorical_accuracy: 0.9805\n",
            "Epoch 17/30\n",
            "87/87 [==============================] - ETA: 0s - loss: 1.0607 - accuracy: 0.5494 - top_5_categorical_accuracy: 0.9827\n",
            "Epoch 17: val_loss did not improve from 1.02027\n",
            "87/87 [==============================] - 263s 3s/step - loss: 1.0607 - accuracy: 0.5494 - top_5_categorical_accuracy: 0.9827 - val_loss: 1.0613 - val_accuracy: 0.5592 - val_top_5_categorical_accuracy: 0.9811\n",
            "Epoch 18/30\n",
            "87/87 [==============================] - ETA: 0s - loss: 1.0205 - accuracy: 0.5602 - top_5_categorical_accuracy: 0.9865\n",
            "Epoch 18: val_loss improved from 1.02027 to 0.99975, saving model to tl_model_v1.weights.best.hdf5\n",
            "87/87 [==============================] - 274s 3s/step - loss: 1.0205 - accuracy: 0.5602 - top_5_categorical_accuracy: 0.9865 - val_loss: 0.9998 - val_accuracy: 0.5768 - val_top_5_categorical_accuracy: 0.9902\n",
            "Epoch 19/30\n",
            "87/87 [==============================] - ETA: 0s - loss: 0.9946 - accuracy: 0.5788 - top_5_categorical_accuracy: 0.9895\n",
            "Epoch 19: val_loss improved from 0.99975 to 0.92183, saving model to tl_model_v1.weights.best.hdf5\n",
            "87/87 [==============================] - 297s 3s/step - loss: 0.9946 - accuracy: 0.5788 - top_5_categorical_accuracy: 0.9895 - val_loss: 0.9218 - val_accuracy: 0.5716 - val_top_5_categorical_accuracy: 0.9909\n",
            "Epoch 20/30\n",
            "87/87 [==============================] - ETA: 0s - loss: 0.9439 - accuracy: 0.5911 - top_5_categorical_accuracy: 0.9872\n",
            "Epoch 20: val_loss did not improve from 0.92183\n",
            "87/87 [==============================] - 295s 3s/step - loss: 0.9439 - accuracy: 0.5911 - top_5_categorical_accuracy: 0.9872 - val_loss: 0.9448 - val_accuracy: 0.5879 - val_top_5_categorical_accuracy: 0.9909\n",
            "Epoch 21/30\n",
            "87/87 [==============================] - ETA: 0s - loss: 0.8810 - accuracy: 0.6264 - top_5_categorical_accuracy: 0.9944\n",
            "Epoch 21: val_loss improved from 0.92183 to 0.90874, saving model to tl_model_v1.weights.best.hdf5\n",
            "87/87 [==============================] - 276s 3s/step - loss: 0.8810 - accuracy: 0.6264 - top_5_categorical_accuracy: 0.9944 - val_loss: 0.9087 - val_accuracy: 0.6139 - val_top_5_categorical_accuracy: 0.9909\n",
            "Epoch 22/30\n",
            "87/87 [==============================] - ETA: 0s - loss: 0.9030 - accuracy: 0.6104 - top_5_categorical_accuracy: 0.9906\n",
            "Epoch 22: val_loss improved from 0.90874 to 0.90430, saving model to tl_model_v1.weights.best.hdf5\n",
            "87/87 [==============================] - 275s 3s/step - loss: 0.9030 - accuracy: 0.6104 - top_5_categorical_accuracy: 0.9906 - val_loss: 0.9043 - val_accuracy: 0.6100 - val_top_5_categorical_accuracy: 0.9876\n",
            "Epoch 23/30\n",
            "87/87 [==============================] - ETA: 0s - loss: 0.8764 - accuracy: 0.6291 - top_5_categorical_accuracy: 0.9915\n",
            "Epoch 23: val_loss did not improve from 0.90430\n",
            "87/87 [==============================] - 274s 3s/step - loss: 0.8764 - accuracy: 0.6291 - top_5_categorical_accuracy: 0.9915 - val_loss: 0.9490 - val_accuracy: 0.6289 - val_top_5_categorical_accuracy: 0.9922\n",
            "Epoch 24/30\n",
            "87/87 [==============================] - ETA: 0s - loss: 0.8537 - accuracy: 0.6465 - top_5_categorical_accuracy: 0.9942\n",
            "Epoch 24: val_loss improved from 0.90430 to 0.85988, saving model to tl_model_v1.weights.best.hdf5\n",
            "87/87 [==============================] - 278s 3s/step - loss: 0.8537 - accuracy: 0.6465 - top_5_categorical_accuracy: 0.9942 - val_loss: 0.8599 - val_accuracy: 0.6367 - val_top_5_categorical_accuracy: 0.9909\n",
            "Epoch 25/30\n",
            "87/87 [==============================] - ETA: 0s - loss: 0.8710 - accuracy: 0.6254 - top_5_categorical_accuracy: 0.9912\n",
            "Epoch 25: val_loss improved from 0.85988 to 0.83670, saving model to tl_model_v1.weights.best.hdf5\n",
            "87/87 [==============================] - 276s 3s/step - loss: 0.8710 - accuracy: 0.6254 - top_5_categorical_accuracy: 0.9912 - val_loss: 0.8367 - val_accuracy: 0.6673 - val_top_5_categorical_accuracy: 0.9954\n",
            "Epoch 26/30\n",
            "87/87 [==============================] - ETA: 0s - loss: 0.8348 - accuracy: 0.6490 - top_5_categorical_accuracy: 0.9928\n",
            "Epoch 26: val_loss did not improve from 0.83670\n",
            "87/87 [==============================] - 274s 3s/step - loss: 0.8348 - accuracy: 0.6490 - top_5_categorical_accuracy: 0.9928 - val_loss: 0.9476 - val_accuracy: 0.6081 - val_top_5_categorical_accuracy: 0.9915\n",
            "Epoch 27/30\n",
            "87/87 [==============================] - ETA: 0s - loss: 0.8176 - accuracy: 0.6567 - top_5_categorical_accuracy: 0.9939\n",
            "Epoch 27: val_loss improved from 0.83670 to 0.83001, saving model to tl_model_v1.weights.best.hdf5\n",
            "87/87 [==============================] - 274s 3s/step - loss: 0.8176 - accuracy: 0.6567 - top_5_categorical_accuracy: 0.9939 - val_loss: 0.8300 - val_accuracy: 0.6699 - val_top_5_categorical_accuracy: 0.9941\n",
            "Epoch 28/30\n",
            "87/87 [==============================] - ETA: 0s - loss: 0.8360 - accuracy: 0.6494 - top_5_categorical_accuracy: 0.9939\n",
            "Epoch 28: val_loss improved from 0.83001 to 0.79650, saving model to tl_model_v1.weights.best.hdf5\n",
            "87/87 [==============================] - 279s 3s/step - loss: 0.8360 - accuracy: 0.6494 - top_5_categorical_accuracy: 0.9939 - val_loss: 0.7965 - val_accuracy: 0.6543 - val_top_5_categorical_accuracy: 0.9967\n",
            "Epoch 29/30\n",
            "87/87 [==============================] - ETA: 0s - loss: 0.8209 - accuracy: 0.6508 - top_5_categorical_accuracy: 0.9931\n",
            "Epoch 29: val_loss did not improve from 0.79650\n",
            "87/87 [==============================] - 274s 3s/step - loss: 0.8209 - accuracy: 0.6508 - top_5_categorical_accuracy: 0.9931 - val_loss: 0.8265 - val_accuracy: 0.6602 - val_top_5_categorical_accuracy: 0.9909\n",
            "Epoch 30/30\n",
            "87/87 [==============================] - ETA: 0s - loss: 0.7770 - accuracy: 0.6600 - top_5_categorical_accuracy: 0.9944\n",
            "Epoch 30: val_loss did not improve from 0.79650\n",
            "87/87 [==============================] - 272s 3s/step - loss: 0.7770 - accuracy: 0.6600 - top_5_categorical_accuracy: 0.9944 - val_loss: 0.7977 - val_accuracy: 0.6660 - val_top_5_categorical_accuracy: 0.9954\n"
          ]
        }
      ],
      "source": [
        "vgg_history = vgg_model.fit(traingen,\n",
        "                            batch_size=BATCH_SIZE,\n",
        "                            epochs=n_epochs,\n",
        "                            validation_data=validgen,\n",
        "                            steps_per_epoch=n_steps,\n",
        "                            validation_steps=n_val_steps,\n",
        "                            callbacks=[tl_checkpoint_1, early_stop],\n",
        "                            verbose=1)"
      ]
    },
    {
      "cell_type": "code",
      "execution_count": null,
      "metadata": {
        "id": "43X-be4P6kDV"
      },
      "outputs": [],
      "source": [
        "# Generate predictions\n",
        "vgg_model.load_weights('tl_model_v1.weights.best.hdf5') # initialize the best trained weights\n",
        "\n",
        "true_classes = testgen.classes\n",
        "class_indices = traingen.class_indices\n",
        "class_indices = dict((v,k) for k,v in class_indices.items())\n",
        "\n",
        "vgg_preds = vgg_model.predict(testgen)\n",
        "vgg_pred_classes = np.argmax(vgg_preds, axis=1)"
      ]
    },
    {
      "cell_type": "code",
      "execution_count": 1,
      "metadata": {
        "colab": {
          "base_uri": "https://localhost:8080/"
        },
        "id": "bWj0b3Yb6kA3",
        "outputId": "4e294a02-d7bb-4d18-e42a-36040f37a91c"
      },
      "outputs": [
        {
          "output_type": "stream",
          "name": "stdout",
          "text": [
            "VGG19 Model Accuracy: 73.50%\n"
          ]
        }
      ],
      "source": [
        "from sklearn.metrics import accuracy_score\n",
        "\n",
        "vgg_acc = accuracy_score(true_classes, vgg_pred_classes)\n",
        "print(\"VGG19 Model Accuracy: {:.2f}%\".format(vgg_acc * 100))"
      ]
    },
    {
      "cell_type": "code",
      "source": [
        "import seaborn as sns\n",
        "from sklearn.metrics import confusion_matrix\n",
        "\n",
        "# Get the names of the ten classes\n",
        "class_names = testgen.class_indices.keys()\n",
        "\n",
        "def plot_heatmap(y_true, y_pred, class_names, ax, title):\n",
        "    cm = confusion_matrix(y_true, y_pred)\n",
        "    sns.heatmap(\n",
        "        cm, \n",
        "        annot=True, \n",
        "        square=True, \n",
        "        xticklabels=class_names, \n",
        "        yticklabels=class_names,\n",
        "        fmt='d', \n",
        "        cmap=plt.cm.Blues,\n",
        "        cbar=False,\n",
        "        ax=ax\n",
        "    )\n",
        "    ax.set_title(title, fontsize=16)\n",
        "    ax.set_xticklabels(ax.get_xticklabels(), rotation=45, ha=\"right\")\n",
        "    ax.set_ylabel('True Label', fontsize=12)\n",
        "    ax.set_xlabel('Predicted Label', fontsize=12)\n",
        "\n",
        "fig, (ax1) = plt.subplots(1,figsize=(20, 10))\n",
        "    \n",
        "plot_heatmap(true_classes, vgg_pred_classes, class_names, ax1, title=\"Transfer Learning VGG19\")    \n",
        "\n",
        "fig.suptitle(\"Confusion Matrix Model Comparison\", fontsize=24)\n",
        "fig.tight_layout()\n",
        "fig.subplots_adjust(top=1.25)\n",
        "plt.show()"
      ],
      "metadata": {
        "colab": {
          "base_uri": "https://localhost:8080/",
          "height": 938
        },
        "id": "TqtAO5HYbU94",
        "outputId": "710a547f-c74b-41be-81a0-041681bb8010"
      },
      "execution_count": null,
      "outputs": [
        {
          "output_type": "display_data",
          "data": {
            "text/plain": [
              "<Figure size 1440x720 with 1 Axes>"
            ],
            "image/png": "[encoded data removed]"
          },
          "metadata": {
            "needs_background": "light"
          }
        }
      ]
    }
  ],
  "metadata": {
    "accelerator": "GPU",
    "colab": {
      "collapsed_sections": [],
      "name": "VGG19_Esophageal Cancer.ipynb",
      "provenance": []
    },
    "kernelspec": {
      "display_name": "Python 3",
      "name": "python3"
    },
    "language_info": {
      "name": "python"
    }
  },
  "nbformat": 4,
  "nbformat_minor": 0
}