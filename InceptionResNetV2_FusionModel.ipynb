{
  "nbformat": 4,
  "nbformat_minor": 0,
  "metadata": {
    "colab": {
      "provenance": []
    },
    "kernelspec": {
      "name": "python3",
      "display_name": "Python 3"
    },
    "language_info": {
      "name": "python"
    },
    "accelerator": "GPU",
    "gpuClass": "standard"
  },
  "cells": [
    {
      "cell_type": "code",
      "execution_count": 1,
      "metadata": {
        "id": "nXkc7dL4SUDw"
      },
      "outputs": [],
      "source": [
        "from google.colab import drive"
      ]
    },
    {
      "cell_type": "code",
      "source": [
        "drive.mount('/content/drive')"
      ],
      "metadata": {
        "colab": {
          "base_uri": "https://localhost:8080/"
        },
        "id": "94fYv0k3SVIS",
        "outputId": "a9a9a7fa-c1a6-4215-b04b-15c42bcc7e21"
      },
      "execution_count": 2,
      "outputs": [
        {
          "output_type": "stream",
          "name": "stdout",
          "text": [
            "Mounted at /content/drive\n"
          ]
        }
      ]
    },
    {
      "cell_type": "code",
      "source": [
        "root_path = '/content/drive/MyDrive/Kvasir'"
      ],
      "metadata": {
        "id": "ZY1-ngCOSfcR"
      },
      "execution_count": 3,
      "outputs": []
    },
    {
      "cell_type": "code",
      "source": [
        "import numpy as np\n",
        "import matplotlib.pyplot as plt\n",
        "import keras\n",
        "from keras.layers import *\n",
        "from keras.models import *\n",
        "from keras.preprocessing import image\n",
        "import os\n",
        "from keras.models import Model\n",
        "from keras.preprocessing.image import ImageDataGenerator\n",
        "from keras.callbacks import ModelCheckpoint, EarlyStopping\n",
        "from keras.layers import BatchNormalization\n",
        "from keras.layers import Dense, Dropout, Flatten\n",
        "from pathlib import Path\n",
        "from tensorflow.keras.applications.inception_resnet_v2 import InceptionResNetV2, preprocess_input"
      ],
      "metadata": {
        "id": "Q6QQUySOSk0-"
      },
      "execution_count": 4,
      "outputs": []
    },
    {
      "cell_type": "code",
      "source": [
        "#Defining paths\n",
        "TRAIN_PATH = \"/content/drive/MyDrive/Kvasir/Train\"\n",
        "TEST_PATH = \"/content/drive/MyDrive/Kvasir/Test\""
      ],
      "metadata": {
        "id": "QS9C2jWmSrSm"
      },
      "execution_count": 5,
      "outputs": []
    },
    {
      "cell_type": "code",
      "source": [
        "BATCH_SIZE = 64\n",
        "\n",
        "train_datagen = image.ImageDataGenerator(preprocessing_function=preprocess_input, rotation_range=40, zoom_range=0.2, width_shift_range=0.2, height_shift_range=0.2, shear_range=0.2, horizontal_flip=True, fill_mode=\"nearest\", validation_split=0.1)\n",
        "\n",
        "test_datagen = ImageDataGenerator(preprocessing_function=preprocess_input)"
      ],
      "metadata": {
        "id": "CvohNbIwSu80"
      },
      "execution_count": 6,
      "outputs": []
    },
    {
      "cell_type": "code",
      "source": [
        "train_generator = train_datagen.flow_from_directory(TRAIN_PATH,\n",
        "                                               target_size=(224, 224),\n",
        "                                               class_mode='categorical',\n",
        "                                               subset='training',\n",
        "                                               batch_size=BATCH_SIZE, \n",
        "                                               shuffle=True,\n",
        "                                               seed=42)\n",
        "\n",
        "validation_generator = train_datagen.flow_from_directory(TRAIN_PATH,\n",
        "                                               target_size=(224, 224),\n",
        "                                               class_mode='categorical',\n",
        "                                               subset='validation',\n",
        "                                               batch_size=BATCH_SIZE,\n",
        "                                               shuffle=True,\n",
        "                                               seed=42)\n",
        "\n",
        "test_generator = test_datagen.flow_from_directory(TEST_PATH,\n",
        "                                             target_size=(224, 224),\n",
        "                                             class_mode=None,\n",
        "                                             batch_size=1,\n",
        "                                             shuffle=False,\n",
        "                                             seed=42)"
      ],
      "metadata": {
        "colab": {
          "base_uri": "https://localhost:8080/"
        },
        "id": "naL_srDASxdH",
        "outputId": "ec357ccb-e249-4314-af67-e9b5571f8ede"
      },
      "execution_count": 7,
      "outputs": [
        {
          "output_type": "stream",
          "name": "stdout",
          "text": [
            "Found 6480 images belonging to 8 classes.\n",
            "Found 720 images belonging to 8 classes.\n",
            "Found 800 images belonging to 8 classes.\n"
          ]
        }
      ]
    },
    {
      "cell_type": "code",
      "source": [
        "from tensorflow.keras.layers import Flatten,Conv2D,MaxPooling2D,LSTM,Dropout,TimeDistributed\n",
        "from keras.models import Model\n",
        "from keras.layers import Input"
      ],
      "metadata": {
        "id": "tXafFSu8SzoJ"
      },
      "execution_count": 8,
      "outputs": []
    },
    {
      "cell_type": "code",
      "source": [
        "def create_model():\n",
        "    \n",
        "    # Pretrained convolutional layers are loaded using the Imagenet weights.\n",
        "    # Include_top is set to False, in order to exclude the model's fully-connected layers.\n",
        "\n",
        "    #target = keras.layers.Reshape(target_shape = (-1 ,224 , 224, 3), input_shape=(224,224,3)\n",
        "\n",
        "    pre_trained_model = InceptionResNetV2(input_shape=(224,224,3), include_top = False, weights = 'imagenet')\n",
        "\n",
        "    for layer in pre_trained_model.layers[:-3]:\n",
        "            layer.trainable = False\n",
        "    for layer in pre_trained_model.layers[-3:]:\n",
        "            layer.trainable = True\n",
        "    \n",
        "    #keras.layers.Reshape(target_shape = (-1 ,224 , 224, 3), input_shape=(224,224,3)\n",
        "    x = keras.layers.Reshape(target_shape = (-1,224,224,3))(pre_trained_model.input)\n",
        "    cnn_model = TimeDistributed(pre_trained_model)(x)\n",
        "    cnn_model = TimeDistributed(keras.layers.Flatten())(cnn_model)\n",
        "    cnn_model = TimeDistributed(Dense(1024,activation='relu'))(cnn_model)\n",
        "    cnn_model = TimeDistributed(Dropout(0.5))(cnn_model)\n",
        "    cnn_model = TimeDistributed(keras.layers.BatchNormalization())(cnn_model)\n",
        "    #LSTM\n",
        "    top_model = LSTM(200, activation='tanh', dropout=0.2, return_sequences=True)(cnn_model)\n",
        "    top_model = LSTM(100, activation='tanh', dropout=0.2, return_sequences=True)(top_model)\n",
        "    top_model = LSTM(50, activation='tanh', dropout=0.2, return_sequences=False)(top_model)\n",
        "\n",
        "    top_model = Dense(128,activation='relu')(top_model)\n",
        "    top_model = Dropout(0.5)(top_model)\n",
        "    top_model = keras.layers.BatchNormalization()(top_model)\n",
        "    top_model = Dense(64,activation='relu')(top_model)\n",
        "    top_model = Dropout(0.5)(top_model)\n",
        "    top_model = keras.layers.BatchNormalization()(top_model)\n",
        "    top_model = Dense(32,activation='relu')(top_model)\n",
        "    top_model = Dropout(0.5)(top_model)\n",
        "    top_model = keras.layers.BatchNormalization()(top_model)\n",
        "    output_layer = Dense(8, activation='softmax')(top_model)\n",
        "    \n",
        "    # Group the convolutional base and new fully-connected layers into a Model object.\n",
        "    #model = Model([target], output_layer)\n",
        "    model = Model(inputs=pre_trained_model.input, outputs=output_layer)\n",
        "\n",
        "    # Compiles the model for training.\n",
        "    model.compile(optimizer=keras.optimizers.RMSprop(learning_rate = 1e-4, decay=1e-4/30), \n",
        "                  loss='categorical_crossentropy',\n",
        "                  metrics=['accuracy'])\n",
        "    \n",
        "    return model"
      ],
      "metadata": {
        "id": "W1zBc-MgS4WT"
      },
      "execution_count": 9,
      "outputs": []
    },
    {
      "cell_type": "code",
      "source": [
        "InceptionResNetV2_model = create_model()"
      ],
      "metadata": {
        "colab": {
          "base_uri": "https://localhost:8080/"
        },
        "id": "gIUvLNHOTAOw",
        "outputId": "b643ab70-57db-4957-d49a-925db3c75917"
      },
      "execution_count": 10,
      "outputs": [
        {
          "output_type": "stream",
          "name": "stdout",
          "text": [
            "Downloading data from https://storage.googleapis.com/tensorflow/keras-applications/inception_resnet_v2/inception_resnet_v2_weights_tf_dim_ordering_tf_kernels_notop.h5\n",
            "219055592/219055592 [==============================] - 1s 0us/step\n"
          ]
        }
      ]
    },
    {
      "cell_type": "code",
      "source": [
        "InceptionResNetV2_model.summary()"
      ],
      "metadata": {
        "colab": {
          "base_uri": "https://localhost:8080/"
        },
        "id": "wQwsdEYiTJG6",
        "outputId": "a4a37b7f-f89f-40bc-ee31-9ad03c4cac44"
      },
      "execution_count": 11,
      "outputs": [
        {
          "output_type": "stream",
          "name": "stdout",
          "text": [
            "Model: \"model\"\n",
            "_________________________________________________________________\n",
            " Layer (type)                Output Shape              Param #   \n",
            "=================================================================\n",
            " input_1 (InputLayer)        [(None, 224, 224, 3)]     0         \n",
            "                                                                 \n",
            " reshape (Reshape)           (None, 1, 224, 224, 3)    0         \n",
            "                                                                 \n",
            " time_distributed (TimeDistr  (None, 1, 5, 5, 1536)    54336736  \n",
            " ibuted)                                                         \n",
            "                                                                 \n",
            " time_distributed_1 (TimeDis  (None, 1, 38400)         0         \n",
            " tributed)                                                       \n",
            "                                                                 \n",
            " time_distributed_2 (TimeDis  (None, 1, 1024)          39322624  \n",
            " tributed)                                                       \n",
            "                                                                 \n",
            " time_distributed_3 (TimeDis  (None, 1, 1024)          0         \n",
            " tributed)                                                       \n",
            "                                                                 \n",
            " time_distributed_4 (TimeDis  (None, 1, 1024)          4096      \n",
            " tributed)                                                       \n",
            "                                                                 \n",
            " lstm (LSTM)                 (None, 1, 200)            980000    \n",
            "                                                                 \n",
            " lstm_1 (LSTM)               (None, 1, 100)            120400    \n",
            "                                                                 \n",
            " lstm_2 (LSTM)               (None, 50)                30200     \n",
            "                                                                 \n",
            " dense_1 (Dense)             (None, 128)               6528      \n",
            "                                                                 \n",
            " dropout_1 (Dropout)         (None, 128)               0         \n",
            "                                                                 \n",
            " batch_normalization_204 (Ba  (None, 128)              512       \n",
            " tchNormalization)                                               \n",
            "                                                                 \n",
            " dense_2 (Dense)             (None, 64)                8256      \n",
            "                                                                 \n",
            " dropout_2 (Dropout)         (None, 64)                0         \n",
            "                                                                 \n",
            " batch_normalization_205 (Ba  (None, 64)               256       \n",
            " tchNormalization)                                               \n",
            "                                                                 \n",
            " dense_3 (Dense)             (None, 32)                2080      \n",
            "                                                                 \n",
            " dropout_3 (Dropout)         (None, 32)                0         \n",
            "                                                                 \n",
            " batch_normalization_206 (Ba  (None, 32)               128       \n",
            " tchNormalization)                                               \n",
            "                                                                 \n",
            " dense_4 (Dense)             (None, 8)                 264       \n",
            "                                                                 \n",
            "=================================================================\n",
            "Total params: 94,812,080\n",
            "Trainable params: 43,669,264\n",
            "Non-trainable params: 51,142,816\n",
            "_________________________________________________________________\n"
          ]
        }
      ]
    },
    {
      "cell_type": "code",
      "source": [
        "# ModelCheckpoint callback - save best weights\n",
        "tl_checkpoint_1 = ModelCheckpoint(filepath='tl_model_v1.weights.best.hdf5',\n",
        "                                  save_best_only=True,\n",
        "                                  verbose=1)\n",
        "\n",
        "# EarlyStopping\n",
        "early_stop = EarlyStopping(monitor='val_loss',\n",
        "                           patience=10,\n",
        "                           restore_best_weights=True,\n",
        "                           mode='min')\n",
        "#CNN - Spatial features\n",
        "#LSTM - Sequential information"
      ],
      "metadata": {
        "id": "AHj0oZ98TN6m"
      },
      "execution_count": 12,
      "outputs": []
    },
    {
      "cell_type": "code",
      "source": [
        "InceptionResNetV2_history = InceptionResNetV2_model.fit(train_generator,\n",
        "                            batch_size=BATCH_SIZE,\n",
        "                            epochs=30,\n",
        "                            validation_data=validation_generator,\n",
        "                            callbacks=[tl_checkpoint_1, early_stop],\n",
        "                            verbose=1)"
      ],
      "metadata": {
        "colab": {
          "base_uri": "https://localhost:8080/"
        },
        "id": "h1GcrGI1TRhV",
        "outputId": "f43cfe3d-411a-421a-ebe3-c3455331ae0a"
      },
      "execution_count": 13,
      "outputs": [
        {
          "output_type": "stream",
          "name": "stdout",
          "text": [
            "Epoch 1/30\n",
            "102/102 [==============================] - ETA: 0s - loss: 2.5398 - accuracy: 0.1522 \n",
            "Epoch 1: val_loss improved from inf to 2.17901, saving model to tl_model_v1.weights.best.hdf5\n",
            "102/102 [==============================] - 1516s 15s/step - loss: 2.5398 - accuracy: 0.1522 - val_loss: 2.1790 - val_accuracy: 0.1250\n",
            "Epoch 2/30\n",
            "102/102 [==============================] - ETA: 0s - loss: 2.3471 - accuracy: 0.1958\n",
            "Epoch 2: val_loss did not improve from 2.17901\n",
            "102/102 [==============================] - 234s 2s/step - loss: 2.3471 - accuracy: 0.1958 - val_loss: 2.2038 - val_accuracy: 0.1250\n",
            "Epoch 3/30\n",
            "102/102 [==============================] - ETA: 0s - loss: 2.1297 - accuracy: 0.2327\n",
            "Epoch 3: val_loss improved from 2.17901 to 2.11899, saving model to tl_model_v1.weights.best.hdf5\n",
            "102/102 [==============================] - 235s 2s/step - loss: 2.1297 - accuracy: 0.2327 - val_loss: 2.1190 - val_accuracy: 0.1306\n",
            "Epoch 4/30\n",
            "102/102 [==============================] - ETA: 0s - loss: 1.9793 - accuracy: 0.2773\n",
            "Epoch 4: val_loss improved from 2.11899 to 1.92701, saving model to tl_model_v1.weights.best.hdf5\n",
            "102/102 [==============================] - 231s 2s/step - loss: 1.9793 - accuracy: 0.2773 - val_loss: 1.9270 - val_accuracy: 0.2083\n",
            "Epoch 5/30\n",
            "102/102 [==============================] - ETA: 0s - loss: 1.8355 - accuracy: 0.3154\n",
            "Epoch 5: val_loss improved from 1.92701 to 1.62129, saving model to tl_model_v1.weights.best.hdf5\n",
            "102/102 [==============================] - 232s 2s/step - loss: 1.8355 - accuracy: 0.3154 - val_loss: 1.6213 - val_accuracy: 0.4306\n",
            "Epoch 6/30\n",
            "102/102 [==============================] - ETA: 0s - loss: 1.7258 - accuracy: 0.3613\n",
            "Epoch 6: val_loss improved from 1.62129 to 1.29507, saving model to tl_model_v1.weights.best.hdf5\n",
            "102/102 [==============================] - 231s 2s/step - loss: 1.7258 - accuracy: 0.3613 - val_loss: 1.2951 - val_accuracy: 0.6042\n",
            "Epoch 7/30\n",
            "102/102 [==============================] - ETA: 0s - loss: 1.6197 - accuracy: 0.3974\n",
            "Epoch 7: val_loss improved from 1.29507 to 1.03552, saving model to tl_model_v1.weights.best.hdf5\n",
            "102/102 [==============================] - 231s 2s/step - loss: 1.6197 - accuracy: 0.3974 - val_loss: 1.0355 - val_accuracy: 0.6903\n",
            "Epoch 8/30\n",
            "102/102 [==============================] - ETA: 0s - loss: 1.5226 - accuracy: 0.4449\n",
            "Epoch 8: val_loss improved from 1.03552 to 0.90756, saving model to tl_model_v1.weights.best.hdf5\n",
            "102/102 [==============================] - 231s 2s/step - loss: 1.5226 - accuracy: 0.4449 - val_loss: 0.9076 - val_accuracy: 0.7278\n",
            "Epoch 9/30\n",
            "102/102 [==============================] - ETA: 0s - loss: 1.4314 - accuracy: 0.4727\n",
            "Epoch 9: val_loss improved from 0.90756 to 0.78790, saving model to tl_model_v1.weights.best.hdf5\n",
            "102/102 [==============================] - 250s 2s/step - loss: 1.4314 - accuracy: 0.4727 - val_loss: 0.7879 - val_accuracy: 0.7667\n",
            "Epoch 10/30\n",
            "102/102 [==============================] - ETA: 0s - loss: 1.3756 - accuracy: 0.5086\n",
            "Epoch 10: val_loss improved from 0.78790 to 0.72777, saving model to tl_model_v1.weights.best.hdf5\n",
            "102/102 [==============================] - 230s 2s/step - loss: 1.3756 - accuracy: 0.5086 - val_loss: 0.7278 - val_accuracy: 0.7750\n",
            "Epoch 11/30\n",
            "102/102 [==============================] - ETA: 0s - loss: 1.3050 - accuracy: 0.5306\n",
            "Epoch 11: val_loss improved from 0.72777 to 0.71686, saving model to tl_model_v1.weights.best.hdf5\n",
            "102/102 [==============================] - 231s 2s/step - loss: 1.3050 - accuracy: 0.5306 - val_loss: 0.7169 - val_accuracy: 0.7847\n",
            "Epoch 12/30\n",
            "102/102 [==============================] - ETA: 0s - loss: 1.2325 - accuracy: 0.5665\n",
            "Epoch 12: val_loss improved from 0.71686 to 0.66658, saving model to tl_model_v1.weights.best.hdf5\n",
            "102/102 [==============================] - 231s 2s/step - loss: 1.2325 - accuracy: 0.5665 - val_loss: 0.6666 - val_accuracy: 0.8125\n",
            "Epoch 13/30\n",
            "102/102 [==============================] - ETA: 0s - loss: 1.1960 - accuracy: 0.5813\n",
            "Epoch 13: val_loss improved from 0.66658 to 0.61592, saving model to tl_model_v1.weights.best.hdf5\n",
            "102/102 [==============================] - 231s 2s/step - loss: 1.1960 - accuracy: 0.5813 - val_loss: 0.6159 - val_accuracy: 0.8139\n",
            "Epoch 14/30\n",
            "102/102 [==============================] - ETA: 0s - loss: 1.1246 - accuracy: 0.6120\n",
            "Epoch 14: val_loss did not improve from 0.61592\n",
            "102/102 [==============================] - 227s 2s/step - loss: 1.1246 - accuracy: 0.6120 - val_loss: 0.6269 - val_accuracy: 0.8097\n",
            "Epoch 15/30\n",
            "102/102 [==============================] - ETA: 0s - loss: 1.0880 - accuracy: 0.6281\n",
            "Epoch 15: val_loss improved from 0.61592 to 0.57275, saving model to tl_model_v1.weights.best.hdf5\n",
            "102/102 [==============================] - 230s 2s/step - loss: 1.0880 - accuracy: 0.6281 - val_loss: 0.5728 - val_accuracy: 0.8236\n",
            "Epoch 16/30\n",
            "102/102 [==============================] - ETA: 0s - loss: 1.0340 - accuracy: 0.6557\n",
            "Epoch 16: val_loss did not improve from 0.57275\n",
            "102/102 [==============================] - 227s 2s/step - loss: 1.0340 - accuracy: 0.6557 - val_loss: 0.5823 - val_accuracy: 0.8306\n",
            "Epoch 17/30\n",
            "102/102 [==============================] - ETA: 0s - loss: 1.0016 - accuracy: 0.6733\n",
            "Epoch 17: val_loss improved from 0.57275 to 0.55007, saving model to tl_model_v1.weights.best.hdf5\n",
            "102/102 [==============================] - 229s 2s/step - loss: 1.0016 - accuracy: 0.6733 - val_loss: 0.5501 - val_accuracy: 0.8417\n",
            "Epoch 18/30\n",
            "102/102 [==============================] - ETA: 0s - loss: 0.9529 - accuracy: 0.6946\n",
            "Epoch 18: val_loss improved from 0.55007 to 0.51616, saving model to tl_model_v1.weights.best.hdf5\n",
            "102/102 [==============================] - 229s 2s/step - loss: 0.9529 - accuracy: 0.6946 - val_loss: 0.5162 - val_accuracy: 0.8417\n",
            "Epoch 19/30\n",
            "102/102 [==============================] - ETA: 0s - loss: 0.9322 - accuracy: 0.7040\n",
            "Epoch 19: val_loss did not improve from 0.51616\n",
            "102/102 [==============================] - 227s 2s/step - loss: 0.9322 - accuracy: 0.7040 - val_loss: 0.5439 - val_accuracy: 0.8361\n",
            "Epoch 20/30\n",
            "102/102 [==============================] - ETA: 0s - loss: 0.9031 - accuracy: 0.7165\n",
            "Epoch 20: val_loss did not improve from 0.51616\n",
            "102/102 [==============================] - 227s 2s/step - loss: 0.9031 - accuracy: 0.7165 - val_loss: 0.5546 - val_accuracy: 0.8236\n",
            "Epoch 21/30\n",
            "102/102 [==============================] - ETA: 0s - loss: 0.8816 - accuracy: 0.7239\n",
            "Epoch 21: val_loss improved from 0.51616 to 0.46763, saving model to tl_model_v1.weights.best.hdf5\n",
            "102/102 [==============================] - 230s 2s/step - loss: 0.8816 - accuracy: 0.7239 - val_loss: 0.4676 - val_accuracy: 0.8431\n",
            "Epoch 22/30\n",
            "102/102 [==============================] - ETA: 0s - loss: 0.8608 - accuracy: 0.7204\n",
            "Epoch 22: val_loss did not improve from 0.46763\n",
            "102/102 [==============================] - 227s 2s/step - loss: 0.8608 - accuracy: 0.7204 - val_loss: 0.4846 - val_accuracy: 0.8444\n",
            "Epoch 23/30\n",
            "102/102 [==============================] - ETA: 0s - loss: 0.8323 - accuracy: 0.7403\n",
            "Epoch 23: val_loss did not improve from 0.46763\n",
            "102/102 [==============================] - 225s 2s/step - loss: 0.8323 - accuracy: 0.7403 - val_loss: 0.4693 - val_accuracy: 0.8444\n",
            "Epoch 24/30\n",
            "102/102 [==============================] - ETA: 0s - loss: 0.8296 - accuracy: 0.7381\n",
            "Epoch 24: val_loss did not improve from 0.46763\n",
            "102/102 [==============================] - 227s 2s/step - loss: 0.8296 - accuracy: 0.7381 - val_loss: 0.4979 - val_accuracy: 0.8333\n",
            "Epoch 25/30\n",
            "102/102 [==============================] - ETA: 0s - loss: 0.7757 - accuracy: 0.7647\n",
            "Epoch 25: val_loss improved from 0.46763 to 0.46484, saving model to tl_model_v1.weights.best.hdf5\n",
            "102/102 [==============================] - 249s 2s/step - loss: 0.7757 - accuracy: 0.7647 - val_loss: 0.4648 - val_accuracy: 0.8431\n",
            "Epoch 26/30\n",
            "102/102 [==============================] - ETA: 0s - loss: 0.7652 - accuracy: 0.7588\n",
            "Epoch 26: val_loss improved from 0.46484 to 0.44420, saving model to tl_model_v1.weights.best.hdf5\n",
            "102/102 [==============================] - 230s 2s/step - loss: 0.7652 - accuracy: 0.7588 - val_loss: 0.4442 - val_accuracy: 0.8569\n",
            "Epoch 27/30\n",
            "102/102 [==============================] - ETA: 0s - loss: 0.7559 - accuracy: 0.7674\n",
            "Epoch 27: val_loss improved from 0.44420 to 0.43514, saving model to tl_model_v1.weights.best.hdf5\n",
            "102/102 [==============================] - 230s 2s/step - loss: 0.7559 - accuracy: 0.7674 - val_loss: 0.4351 - val_accuracy: 0.8542\n",
            "Epoch 28/30\n",
            "102/102 [==============================] - ETA: 0s - loss: 0.7576 - accuracy: 0.7718\n",
            "Epoch 28: val_loss did not improve from 0.43514\n",
            "102/102 [==============================] - 227s 2s/step - loss: 0.7576 - accuracy: 0.7718 - val_loss: 0.4587 - val_accuracy: 0.8500\n",
            "Epoch 29/30\n",
            "102/102 [==============================] - ETA: 0s - loss: 0.6974 - accuracy: 0.7850\n",
            "Epoch 29: val_loss did not improve from 0.43514\n",
            "102/102 [==============================] - 227s 2s/step - loss: 0.6974 - accuracy: 0.7850 - val_loss: 0.4433 - val_accuracy: 0.8583\n",
            "Epoch 30/30\n",
            "102/102 [==============================] - ETA: 0s - loss: 0.7093 - accuracy: 0.7836\n",
            "Epoch 30: val_loss did not improve from 0.43514\n",
            "102/102 [==============================] - 227s 2s/step - loss: 0.7093 - accuracy: 0.7836 - val_loss: 0.4490 - val_accuracy: 0.8431\n"
          ]
        }
      ]
    },
    {
      "cell_type": "code",
      "source": [
        "# Generate predictions\n",
        "InceptionResNetV2_model.load_weights('tl_model_v1.weights.best.hdf5') # initialize the best trained weights"
      ],
      "metadata": {
        "id": "61H_CKGzTd6N"
      },
      "execution_count": 14,
      "outputs": []
    },
    {
      "cell_type": "code",
      "source": [
        "true_classes = test_generator.classes\n",
        "class_indices = train_generator.class_indices\n",
        "class_indices = dict((v,k) for k,v in class_indices.items())\n",
        "\n",
        "InceptionResNetV2_preds = InceptionResNetV2_model.predict(test_generator)\n",
        "InceptionResNetV2_pred_classes = np.argmax(InceptionResNetV2_preds, axis=1)"
      ],
      "metadata": {
        "colab": {
          "base_uri": "https://localhost:8080/"
        },
        "id": "HR1EJ2fETpAb",
        "outputId": "6f7ef663-303d-4a2a-bec4-a0c7ae8ca8c2"
      },
      "execution_count": 15,
      "outputs": [
        {
          "output_type": "stream",
          "name": "stdout",
          "text": [
            "800/800 [==============================] - 171s 205ms/step\n"
          ]
        }
      ]
    },
    {
      "cell_type": "code",
      "source": [
        "from sklearn.metrics import accuracy_score\n",
        "InceptionResNetV2_acc = accuracy_score(true_classes, InceptionResNetV2_pred_classes)\n",
        "print(\"InceptionResNetV2 Model Accuracy: {:.2f}%\".format(InceptionResNetV2_acc * 100))"
      ],
      "metadata": {
        "colab": {
          "base_uri": "https://localhost:8080/"
        },
        "id": "vqSZGC4DTo83",
        "outputId": "c3f157b2-fc96-4a09-c9d5-c21f68a77bb6"
      },
      "execution_count": 16,
      "outputs": [
        {
          "output_type": "stream",
          "name": "stdout",
          "text": [
            "InceptionResNetV2 Model Accuracy: 88.62%\n"
          ]
        }
      ]
    },
    {
      "cell_type": "code",
      "source": [
        "labels = os.listdir(TRAIN_PATH)"
      ],
      "metadata": {
        "id": "jIFrMh3jTo7D"
      },
      "execution_count": 17,
      "outputs": []
    },
    {
      "cell_type": "code",
      "source": [
        "from sklearn.metrics import classification_report, confusion_matrix\n",
        "\n",
        "print(classification_report(true_classes,InceptionResNetV2_pred_classes,target_names = labels))"
      ],
      "metadata": {
        "colab": {
          "base_uri": "https://localhost:8080/"
        },
        "id": "sqD_mQW8To32",
        "outputId": "508a7376-fbe7-4a90-cf9b-fd2d40847b59"
      },
      "execution_count": 18,
      "outputs": [
        {
          "output_type": "stream",
          "name": "stdout",
          "text": [
            "                        precision    recall  f1-score   support\n",
            "\n",
            "         normal-z-line       0.83      0.90      0.87       100\n",
            "        normal-pylorus       0.92      0.84      0.88       100\n",
            "dyed-resection-margins       0.84      0.67      0.74       100\n",
            "          normal-cecum       0.97      0.93      0.95       100\n",
            "    ulcerative-colitis       0.96      1.00      0.98       100\n",
            "                polyps       0.72      0.87      0.79       100\n",
            "           esophagitis       0.90      0.93      0.92       100\n",
            "    dyed-lifted-polyps       0.97      0.95      0.96       100\n",
            "\n",
            "              accuracy                           0.89       800\n",
            "             macro avg       0.89      0.89      0.89       800\n",
            "          weighted avg       0.89      0.89      0.89       800\n",
            "\n"
          ]
        }
      ]
    },
    {
      "cell_type": "code",
      "source": [
        "from sklearn.metrics import precision_score\n",
        "precision_score(true_classes, InceptionResNetV2_pred_classes, average='micro')"
      ],
      "metadata": {
        "colab": {
          "base_uri": "https://localhost:8080/"
        },
        "id": "F7-wYkIcTo2e",
        "outputId": "1c6830e1-dcca-4fd6-a249-eed1d505a78e"
      },
      "execution_count": 19,
      "outputs": [
        {
          "output_type": "execute_result",
          "data": {
            "text/plain": [
              "0.88625"
            ]
          },
          "metadata": {},
          "execution_count": 19
        }
      ]
    },
    {
      "cell_type": "code",
      "source": [
        "from sklearn.metrics import recall_score\n",
        "recall_score(true_classes, InceptionResNetV2_pred_classes, average='micro')"
      ],
      "metadata": {
        "colab": {
          "base_uri": "https://localhost:8080/"
        },
        "id": "jEZjmHb-UTfu",
        "outputId": "07df92a2-67d6-4ec6-b3e8-8bb770c86e8c"
      },
      "execution_count": 20,
      "outputs": [
        {
          "output_type": "execute_result",
          "data": {
            "text/plain": [
              "0.88625"
            ]
          },
          "metadata": {},
          "execution_count": 20
        }
      ]
    },
    {
      "cell_type": "code",
      "source": [
        "import seaborn as sns\n",
        "from sklearn.metrics import confusion_matrix\n",
        "\n",
        "# Get the names of the ten classes\n",
        "class_names = test_generator.class_indices.keys()\n",
        "\n",
        "def plot_heatmap(y_true, y_pred, class_names, ax, title):\n",
        "    cm = confusion_matrix(y_true, y_pred)\n",
        "    sns.heatmap(\n",
        "        cm, \n",
        "        annot=True, \n",
        "        square=True, \n",
        "        xticklabels=class_names, \n",
        "        yticklabels=class_names,\n",
        "        fmt='d', \n",
        "        cmap=plt.cm.Blues,\n",
        "        cbar=False,\n",
        "        ax=ax\n",
        "    )\n",
        "    ax.set_title(title, fontsize=16)\n",
        "    ax.set_xticklabels(ax.get_xticklabels(), rotation=45, ha=\"right\")\n",
        "    ax.set_ylabel('True Label', fontsize=12)\n",
        "    ax.set_xlabel('Predicted Label', fontsize=12)\n",
        "\n",
        "fig, (ax1) = plt.subplots(1,figsize=(20, 10))\n",
        "    \n",
        "plot_heatmap(true_classes, InceptionResNetV2_pred_classes, class_names, ax1, title=\"Fusion Model InceptionResNetV2\")    \n",
        "\n",
        "fig.suptitle(\"Confusion Matrix\", fontsize=24)\n",
        "fig.tight_layout()\n",
        "fig.subplots_adjust(top=1.25)\n",
        "plt.show()"
      ],
      "metadata": {
        "colab": {
          "base_uri": "https://localhost:8080/",
          "height": 938
        },
        "id": "fOdwOUe8UTc4",
        "outputId": "08dab0e8-42ea-46b1-ac6e-a5da120b9b38"
      },
      "execution_count": 21,
      "outputs": [
        {
          "output_type": "display_data",
          "data": {
            "text/plain": [
              "<Figure size 1440x720 with 1 Axes>"
            ],
            "image/png": "[encoded data removed]"
          },
          "metadata": {
            "needs_background": "light"
          }
        }
      ]
    },
    {
      "cell_type": "code",
      "source": [],
      "metadata": {
        "id": "a9mCJIeU1N8R"
      },
      "execution_count": null,
      "outputs": []
    }
  ]
}